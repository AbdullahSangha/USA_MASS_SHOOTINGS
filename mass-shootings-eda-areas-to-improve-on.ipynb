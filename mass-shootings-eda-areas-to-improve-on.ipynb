{
 "cells": [
  {
   "cell_type": "code",
   "execution_count": 1,
   "id": "4c909c40",
   "metadata": {
    "_cell_guid": "b1076dfc-b9ad-4769-8c92-a6c4dae69d19",
    "_kg_hide-input": true,
    "_kg_hide-output": true,
    "_uuid": "8f2839f25d086af736a60e9eeb907d3b93b6e0e5",
    "execution": {
     "iopub.execute_input": "2022-07-09T16:41:26.027278Z",
     "iopub.status.busy": "2022-07-09T16:41:26.026669Z",
     "iopub.status.idle": "2022-07-09T16:41:26.048876Z",
     "shell.execute_reply": "2022-07-09T16:41:26.047655Z"
    },
    "papermill": {
     "duration": 0.039957,
     "end_time": "2022-07-09T16:41:26.052238",
     "exception": false,
     "start_time": "2022-07-09T16:41:26.012281",
     "status": "completed"
    },
    "tags": []
   },
   "outputs": [
    {
     "name": "stdout",
     "output_type": "stream",
     "text": [
      "/kaggle/input/history-of-mass-shootings-in-the-usa/History_of_Mass_Shootings_in_the_USA.csv\n"
     ]
    }
   ],
   "source": [
    "import os\n",
    "for dirname, _, filenames in os.walk('/kaggle/input'):\n",
    "    for filename in filenames:\n",
    "        print(os.path.join(dirname, filename))"
   ]
  },
  {
   "cell_type": "markdown",
   "id": "8fe32a6a",
   "metadata": {
    "papermill": {
     "duration": 0.010547,
     "end_time": "2022-07-09T16:41:26.074401",
     "exception": false,
     "start_time": "2022-07-09T16:41:26.063854",
     "status": "completed"
    },
    "tags": []
   },
   "source": [
    "\n",
    "![Typing SVG](https://readme-typing-svg.herokuapp.com?size=32&color=F73078&width=900&height=45&lines=About+Our+Dataset)\n",
    "\n",
    "<a><img src=\"https://images.unsplash.com/photo-1617492717241-8692c23b6039?ixlib=rb-1.2.1&ixid=MnwxMjA3fDB8MHxwaG90by1wYWdlfHx8fGVufDB8fHx8&auto=format&fit=crop&w=1170&q=80\" style=\"border-radius:1%\"></a>\n",
    "\n",
    "\n",
    "**Mass shootings are incidents involving multiple victims of firearm-related violence. Studies indicate that the rate at which public mass shootings occur has tripled since 2011. Between 1982 and 2011, a mass shooting occurred roughly once every 200 days. However, between 2011 and 2014, that rate has accelerated greatly with at least one mass shooting occurring every 64 days in the United States. Post 2014, this rate has further increased and is still on the rise.**\n",
    "\n",
    "**Higher accessibility and ownership of guns has been cited as a reason for the high rate of mass shootings. The USA has the highest per-capita gun ownership in the world with 120.5 firearms per 100 people.**"
   ]
  },
  {
   "cell_type": "markdown",
   "id": "f1bb6842",
   "metadata": {
    "papermill": {
     "duration": 0.010417,
     "end_time": "2022-07-09T16:41:26.095582",
     "exception": false,
     "start_time": "2022-07-09T16:41:26.085165",
     "status": "completed"
    },
    "tags": []
   },
   "source": [
    "![Typing SVG](https://readme-typing-svg.herokuapp.com?size=32&color=F73078&width=900&height=45&lines=Import+Libraries+and+Load+Dataset)"
   ]
  },
  {
   "cell_type": "code",
   "execution_count": 2,
   "id": "5da560b3",
   "metadata": {
    "execution": {
     "iopub.execute_input": "2022-07-09T16:41:26.119050Z",
     "iopub.status.busy": "2022-07-09T16:41:26.118452Z",
     "iopub.status.idle": "2022-07-09T16:41:28.650630Z",
     "shell.execute_reply": "2022-07-09T16:41:28.649326Z"
    },
    "papermill": {
     "duration": 2.547769,
     "end_time": "2022-07-09T16:41:28.654126",
     "exception": false,
     "start_time": "2022-07-09T16:41:26.106357",
     "status": "completed"
    },
    "tags": []
   },
   "outputs": [],
   "source": [
    "import pandas as pd\n",
    "import numpy as np\n",
    "import matplotlib.pyplot as plt\n",
    "import seaborn as sns \n",
    "import plotly.express as px\n",
    "import plotly.io as pio"
   ]
  },
  {
   "cell_type": "code",
   "execution_count": 3,
   "id": "b788c25b",
   "metadata": {
    "execution": {
     "iopub.execute_input": "2022-07-09T16:41:28.678720Z",
     "iopub.status.busy": "2022-07-09T16:41:28.678290Z",
     "iopub.status.idle": "2022-07-09T16:41:28.715899Z",
     "shell.execute_reply": "2022-07-09T16:41:28.714718Z"
    },
    "papermill": {
     "duration": 0.053645,
     "end_time": "2022-07-09T16:41:28.718671",
     "exception": false,
     "start_time": "2022-07-09T16:41:28.665026",
     "status": "completed"
    },
    "tags": []
   },
   "outputs": [],
   "source": [
    "df = pd.read_csv('../input/history-of-mass-shootings-in-the-usa/History_of_Mass_Shootings_in_the_USA.csv')"
   ]
  },
  {
   "cell_type": "markdown",
   "id": "c6f81dac",
   "metadata": {
    "papermill": {
     "duration": 0.01047,
     "end_time": "2022-07-09T16:41:28.740394",
     "exception": false,
     "start_time": "2022-07-09T16:41:28.729924",
     "status": "completed"
    },
    "tags": []
   },
   "source": [
    "![Typing SVG](https://readme-typing-svg.herokuapp.com?size=32&color=F73078&width=900&height=45&lines=Explore+Dataset)"
   ]
  },
  {
   "cell_type": "markdown",
   "id": "a5cb452d",
   "metadata": {
    "papermill": {
     "duration": 0.010349,
     "end_time": "2022-07-09T16:41:28.761475",
     "exception": false,
     "start_time": "2022-07-09T16:41:28.751126",
     "status": "completed"
    },
    "tags": []
   },
   "source": [
    "**The dataset contains a list of all the mass shootings from 1924 to 2022**\n",
    "\n",
    "* Date: Date of the shooting\n",
    "* City: City where the shooting occured\n",
    "* State: State where the shooting occured\n",
    "* Dead: Number of casualties\n",
    "* Injured: Number of people injured\n",
    "* Total: Dead + Injured\n",
    "* Description: Description of the shooting"
   ]
  },
  {
   "cell_type": "code",
   "execution_count": 4,
   "id": "6ed284b7",
   "metadata": {
    "execution": {
     "iopub.execute_input": "2022-07-09T16:41:28.784757Z",
     "iopub.status.busy": "2022-07-09T16:41:28.784329Z",
     "iopub.status.idle": "2022-07-09T16:41:28.807468Z",
     "shell.execute_reply": "2022-07-09T16:41:28.806655Z"
    },
    "papermill": {
     "duration": 0.037659,
     "end_time": "2022-07-09T16:41:28.809723",
     "exception": false,
     "start_time": "2022-07-09T16:41:28.772064",
     "status": "completed"
    },
    "tags": []
   },
   "outputs": [
    {
     "data": {
      "text/html": [
       "<div>\n",
       "<style scoped>\n",
       "    .dataframe tbody tr th:only-of-type {\n",
       "        vertical-align: middle;\n",
       "    }\n",
       "\n",
       "    .dataframe tbody tr th {\n",
       "        vertical-align: top;\n",
       "    }\n",
       "\n",
       "    .dataframe thead th {\n",
       "        text-align: right;\n",
       "    }\n",
       "</style>\n",
       "<table border=\"1\" class=\"dataframe\">\n",
       "  <thead>\n",
       "    <tr style=\"text-align: right;\">\n",
       "      <th></th>\n",
       "      <th>Date</th>\n",
       "      <th>City</th>\n",
       "      <th>State</th>\n",
       "      <th>Dead</th>\n",
       "      <th>Injured</th>\n",
       "      <th>Total</th>\n",
       "      <th>Description</th>\n",
       "    </tr>\n",
       "  </thead>\n",
       "  <tbody>\n",
       "    <tr>\n",
       "      <th>0</th>\n",
       "      <td>2022-07-07</td>\n",
       "      <td>Chicago</td>\n",
       "      <td>Illinois</td>\n",
       "      <td>0</td>\n",
       "      <td>4</td>\n",
       "      <td>4</td>\n",
       "      <td>Four people were wounded in a drive-by shootin...</td>\n",
       "    </tr>\n",
       "    <tr>\n",
       "      <th>1</th>\n",
       "      <td>2022-07-06</td>\n",
       "      <td>Tampa</td>\n",
       "      <td>Florida</td>\n",
       "      <td>0</td>\n",
       "      <td>4</td>\n",
       "      <td>4</td>\n",
       "      <td>Four people were shot at an intersection in th...</td>\n",
       "    </tr>\n",
       "    <tr>\n",
       "      <th>2</th>\n",
       "      <td>2022-07-06</td>\n",
       "      <td>Chicago</td>\n",
       "      <td>Illinois</td>\n",
       "      <td>0</td>\n",
       "      <td>4</td>\n",
       "      <td>4</td>\n",
       "      <td>Four people were shot after three men got out ...</td>\n",
       "    </tr>\n",
       "    <tr>\n",
       "      <th>3</th>\n",
       "      <td>2022-07-06</td>\n",
       "      <td>St. Cloud</td>\n",
       "      <td>Minnesota</td>\n",
       "      <td>0</td>\n",
       "      <td>4</td>\n",
       "      <td>4</td>\n",
       "      <td>An argument in an alleyway escalated into a sh...</td>\n",
       "    </tr>\n",
       "    <tr>\n",
       "      <th>4</th>\n",
       "      <td>2022-07-05</td>\n",
       "      <td>Youngstown</td>\n",
       "      <td>Ohio</td>\n",
       "      <td>1</td>\n",
       "      <td>3</td>\n",
       "      <td>4</td>\n",
       "      <td>Four people were shot, one fatally, in the par...</td>\n",
       "    </tr>\n",
       "  </tbody>\n",
       "</table>\n",
       "</div>"
      ],
      "text/plain": [
       "         Date        City      State  Dead  Injured  Total  \\\n",
       "0  2022-07-07     Chicago   Illinois     0        4      4   \n",
       "1  2022-07-06       Tampa    Florida     0        4      4   \n",
       "2  2022-07-06     Chicago   Illinois     0        4      4   \n",
       "3  2022-07-06   St. Cloud  Minnesota     0        4      4   \n",
       "4  2022-07-05  Youngstown       Ohio     1        3      4   \n",
       "\n",
       "                                         Description  \n",
       "0  Four people were wounded in a drive-by shootin...  \n",
       "1  Four people were shot at an intersection in th...  \n",
       "2  Four people were shot after three men got out ...  \n",
       "3  An argument in an alleyway escalated into a sh...  \n",
       "4  Four people were shot, one fatally, in the par...  "
      ]
     },
     "execution_count": 4,
     "metadata": {},
     "output_type": "execute_result"
    }
   ],
   "source": [
    "df.head(5)"
   ]
  },
  {
   "cell_type": "markdown",
   "id": "7007bf83",
   "metadata": {
    "papermill": {
     "duration": 0.010866,
     "end_time": "2022-07-09T16:41:28.832023",
     "exception": false,
     "start_time": "2022-07-09T16:41:28.821157",
     "status": "completed"
    },
    "tags": []
   },
   "source": [
    "![Typing SVG](https://readme-typing-svg.herokuapp.com?size=32&color=F73078&width=900&height=45&lines=Data+Preprocessing)"
   ]
  },
  {
   "cell_type": "markdown",
   "id": "8bba0686",
   "metadata": {
    "papermill": {
     "duration": 0.011819,
     "end_time": "2022-07-09T16:41:28.854912",
     "exception": false,
     "start_time": "2022-07-09T16:41:28.843093",
     "status": "completed"
    },
    "tags": []
   },
   "source": [
    "### Taking care of Null values!"
   ]
  },
  {
   "cell_type": "code",
   "execution_count": 5,
   "id": "61d25f65",
   "metadata": {
    "execution": {
     "iopub.execute_input": "2022-07-09T16:41:28.879723Z",
     "iopub.status.busy": "2022-07-09T16:41:28.879057Z",
     "iopub.status.idle": "2022-07-09T16:41:29.206486Z",
     "shell.execute_reply": "2022-07-09T16:41:29.205626Z"
    },
    "papermill": {
     "duration": 0.342588,
     "end_time": "2022-07-09T16:41:29.208661",
     "exception": false,
     "start_time": "2022-07-09T16:41:28.866073",
     "status": "completed"
    },
    "tags": []
   },
   "outputs": [
    {
     "data": {
      "text/plain": [
       "<AxesSubplot:>"
      ]
     },
     "execution_count": 5,
     "metadata": {},
     "output_type": "execute_result"
    },
    {
     "data": {
      "image/png": "[encoded data removed]",
      "text/plain": [
       "<Figure size 432x288 with 1 Axes>"
      ]
     },
     "metadata": {
      "needs_background": "light"
     },
     "output_type": "display_data"
    }
   ],
   "source": [
    "# Plot to see null values in our data\n",
    "sns.heatmap(df.isnull(), cbar=False)"
   ]
  },
  {
   "cell_type": "code",
   "execution_count": 6,
   "id": "68bb77e8",
   "metadata": {
    "execution": {
     "iopub.execute_input": "2022-07-09T16:41:29.234744Z",
     "iopub.status.busy": "2022-07-09T16:41:29.234098Z",
     "iopub.status.idle": "2022-07-09T16:41:29.249483Z",
     "shell.execute_reply": "2022-07-09T16:41:29.248402Z"
    },
    "papermill": {
     "duration": 0.03175,
     "end_time": "2022-07-09T16:41:29.251901",
     "exception": false,
     "start_time": "2022-07-09T16:41:29.220151",
     "status": "completed"
    },
    "tags": []
   },
   "outputs": [
    {
     "data": {
      "text/html": [
       "<div>\n",
       "<style scoped>\n",
       "    .dataframe tbody tr th:only-of-type {\n",
       "        vertical-align: middle;\n",
       "    }\n",
       "\n",
       "    .dataframe tbody tr th {\n",
       "        vertical-align: top;\n",
       "    }\n",
       "\n",
       "    .dataframe thead th {\n",
       "        text-align: right;\n",
       "    }\n",
       "</style>\n",
       "<table border=\"1\" class=\"dataframe\">\n",
       "  <thead>\n",
       "    <tr style=\"text-align: right;\">\n",
       "      <th></th>\n",
       "      <th>column_name</th>\n",
       "      <th>percent_missing</th>\n",
       "    </tr>\n",
       "  </thead>\n",
       "  <tbody>\n",
       "    <tr>\n",
       "      <th>Date</th>\n",
       "      <td>Date</td>\n",
       "      <td>0.000000</td>\n",
       "    </tr>\n",
       "    <tr>\n",
       "      <th>City</th>\n",
       "      <td>City</td>\n",
       "      <td>0.000000</td>\n",
       "    </tr>\n",
       "    <tr>\n",
       "      <th>State</th>\n",
       "      <td>State</td>\n",
       "      <td>0.188893</td>\n",
       "    </tr>\n",
       "    <tr>\n",
       "      <th>Dead</th>\n",
       "      <td>Dead</td>\n",
       "      <td>0.000000</td>\n",
       "    </tr>\n",
       "    <tr>\n",
       "      <th>Injured</th>\n",
       "      <td>Injured</td>\n",
       "      <td>0.000000</td>\n",
       "    </tr>\n",
       "    <tr>\n",
       "      <th>Total</th>\n",
       "      <td>Total</td>\n",
       "      <td>0.000000</td>\n",
       "    </tr>\n",
       "    <tr>\n",
       "      <th>Description</th>\n",
       "      <td>Description</td>\n",
       "      <td>0.000000</td>\n",
       "    </tr>\n",
       "  </tbody>\n",
       "</table>\n",
       "</div>"
      ],
      "text/plain": [
       "             column_name  percent_missing\n",
       "Date                Date         0.000000\n",
       "City                City         0.000000\n",
       "State              State         0.188893\n",
       "Dead                Dead         0.000000\n",
       "Injured          Injured         0.000000\n",
       "Total              Total         0.000000\n",
       "Description  Description         0.000000"
      ]
     },
     "execution_count": 6,
     "metadata": {},
     "output_type": "execute_result"
    }
   ],
   "source": [
    "# Null Value Percentage Per column\n",
    "percent_missing = df.isnull().sum() * 100 / len(df)\n",
    "missing_value_df = pd.DataFrame({'column_name': df.columns,\n",
    "                                 'percent_missing': percent_missing})\n",
    "missing_value_df"
   ]
  },
  {
   "cell_type": "markdown",
   "id": "da183a96",
   "metadata": {
    "papermill": {
     "duration": 0.011517,
     "end_time": "2022-07-09T16:41:29.274918",
     "exception": false,
     "start_time": "2022-07-09T16:41:29.263401",
     "status": "completed"
    },
    "tags": []
   },
   "source": [
    "### There is very tiny amount of null values in our dataset so we will remove thoes and move ahead"
   ]
  },
  {
   "cell_type": "code",
   "execution_count": 7,
   "id": "affc0407",
   "metadata": {
    "execution": {
     "iopub.execute_input": "2022-07-09T16:41:29.300418Z",
     "iopub.status.busy": "2022-07-09T16:41:29.299687Z",
     "iopub.status.idle": "2022-07-09T16:41:29.313035Z",
     "shell.execute_reply": "2022-07-09T16:41:29.312053Z"
    },
    "papermill": {
     "duration": 0.028744,
     "end_time": "2022-07-09T16:41:29.315448",
     "exception": false,
     "start_time": "2022-07-09T16:41:29.286704",
     "status": "completed"
    },
    "tags": []
   },
   "outputs": [],
   "source": [
    "df.dropna(axis=0,inplace=True)"
   ]
  },
  {
   "cell_type": "markdown",
   "id": "e905a314",
   "metadata": {
    "papermill": {
     "duration": 0.011369,
     "end_time": "2022-07-09T16:41:29.338844",
     "exception": false,
     "start_time": "2022-07-09T16:41:29.327475",
     "status": "completed"
    },
    "tags": []
   },
   "source": [
    "### Date column should be of type date and time so we will convert it intro datetime type. Also we are going to create three now columns of year, month, day of week and day from date column."
   ]
  },
  {
   "cell_type": "code",
   "execution_count": 8,
   "id": "f74861e0",
   "metadata": {
    "execution": {
     "iopub.execute_input": "2022-07-09T16:41:29.364396Z",
     "iopub.status.busy": "2022-07-09T16:41:29.363631Z",
     "iopub.status.idle": "2022-07-09T16:41:29.372210Z",
     "shell.execute_reply": "2022-07-09T16:41:29.371013Z"
    },
    "papermill": {
     "duration": 0.024287,
     "end_time": "2022-07-09T16:41:29.374726",
     "exception": false,
     "start_time": "2022-07-09T16:41:29.350439",
     "status": "completed"
    },
    "tags": []
   },
   "outputs": [
    {
     "data": {
      "text/plain": [
       "Date           object\n",
       "City           object\n",
       "State          object\n",
       "Dead            int64\n",
       "Injured         int64\n",
       "Total           int64\n",
       "Description    object\n",
       "dtype: object"
      ]
     },
     "execution_count": 8,
     "metadata": {},
     "output_type": "execute_result"
    }
   ],
   "source": [
    "df.dtypes"
   ]
  },
  {
   "cell_type": "code",
   "execution_count": 9,
   "id": "a138f621",
   "metadata": {
    "execution": {
     "iopub.execute_input": "2022-07-09T16:41:29.400374Z",
     "iopub.status.busy": "2022-07-09T16:41:29.399622Z",
     "iopub.status.idle": "2022-07-09T16:41:29.414539Z",
     "shell.execute_reply": "2022-07-09T16:41:29.413707Z"
    },
    "papermill": {
     "duration": 0.030231,
     "end_time": "2022-07-09T16:41:29.416796",
     "exception": false,
     "start_time": "2022-07-09T16:41:29.386565",
     "status": "completed"
    },
    "tags": []
   },
   "outputs": [],
   "source": [
    "df['Date'] = pd.to_datetime(df['Date'])"
   ]
  },
  {
   "cell_type": "code",
   "execution_count": 10,
   "id": "4a935a67",
   "metadata": {
    "execution": {
     "iopub.execute_input": "2022-07-09T16:41:29.442140Z",
     "iopub.status.busy": "2022-07-09T16:41:29.441240Z",
     "iopub.status.idle": "2022-07-09T16:41:29.452239Z",
     "shell.execute_reply": "2022-07-09T16:41:29.451066Z"
    },
    "papermill": {
     "duration": 0.026319,
     "end_time": "2022-07-09T16:41:29.454788",
     "exception": false,
     "start_time": "2022-07-09T16:41:29.428469",
     "status": "completed"
    },
    "tags": []
   },
   "outputs": [],
   "source": [
    "df['year'] = df['Date'].dt.year\n",
    "df['month'] = df['Date'].dt.month\n",
    "df['day'] = df['Date'].dt.day\n",
    "df['day_of_week'] = df['Date'].dt.day_name()"
   ]
  },
  {
   "cell_type": "code",
   "execution_count": 11,
   "id": "8166daeb",
   "metadata": {
    "execution": {
     "iopub.execute_input": "2022-07-09T16:41:29.480087Z",
     "iopub.status.busy": "2022-07-09T16:41:29.479391Z",
     "iopub.status.idle": "2022-07-09T16:41:29.489807Z",
     "shell.execute_reply": "2022-07-09T16:41:29.488713Z"
    },
    "papermill": {
     "duration": 0.025889,
     "end_time": "2022-07-09T16:41:29.492332",
     "exception": false,
     "start_time": "2022-07-09T16:41:29.466443",
     "status": "completed"
    },
    "tags": []
   },
   "outputs": [],
   "source": [
    "# Combine Year to form intervals\n",
    "df['Interval'] = (10 * (df['year'] // 10)).astype(str) + 's'"
   ]
  },
  {
   "cell_type": "code",
   "execution_count": 12,
   "id": "365ada41",
   "metadata": {
    "execution": {
     "iopub.execute_input": "2022-07-09T16:41:29.517594Z",
     "iopub.status.busy": "2022-07-09T16:41:29.517183Z",
     "iopub.status.idle": "2022-07-09T16:41:29.525433Z",
     "shell.execute_reply": "2022-07-09T16:41:29.524337Z"
    },
    "papermill": {
     "duration": 0.023543,
     "end_time": "2022-07-09T16:41:29.527549",
     "exception": false,
     "start_time": "2022-07-09T16:41:29.504006",
     "status": "completed"
    },
    "tags": []
   },
   "outputs": [
    {
     "data": {
      "text/plain": [
       "Date           datetime64[ns]\n",
       "City                   object\n",
       "State                  object\n",
       "Dead                    int64\n",
       "Injured                 int64\n",
       "Total                   int64\n",
       "Description            object\n",
       "year                    int64\n",
       "month                   int64\n",
       "day                     int64\n",
       "day_of_week            object\n",
       "Interval               object\n",
       "dtype: object"
      ]
     },
     "execution_count": 12,
     "metadata": {},
     "output_type": "execute_result"
    }
   ],
   "source": [
    "df.dtypes"
   ]
  },
  {
   "cell_type": "code",
   "execution_count": 13,
   "id": "c9a14887",
   "metadata": {
    "execution": {
     "iopub.execute_input": "2022-07-09T16:41:29.553043Z",
     "iopub.status.busy": "2022-07-09T16:41:29.552408Z",
     "iopub.status.idle": "2022-07-09T16:41:29.571434Z",
     "shell.execute_reply": "2022-07-09T16:41:29.570604Z"
    },
    "papermill": {
     "duration": 0.034386,
     "end_time": "2022-07-09T16:41:29.573816",
     "exception": false,
     "start_time": "2022-07-09T16:41:29.539430",
     "status": "completed"
    },
    "tags": []
   },
   "outputs": [
    {
     "data": {
      "text/html": [
       "<div>\n",
       "<style scoped>\n",
       "    .dataframe tbody tr th:only-of-type {\n",
       "        vertical-align: middle;\n",
       "    }\n",
       "\n",
       "    .dataframe tbody tr th {\n",
       "        vertical-align: top;\n",
       "    }\n",
       "\n",
       "    .dataframe thead th {\n",
       "        text-align: right;\n",
       "    }\n",
       "</style>\n",
       "<table border=\"1\" class=\"dataframe\">\n",
       "  <thead>\n",
       "    <tr style=\"text-align: right;\">\n",
       "      <th></th>\n",
       "      <th>Date</th>\n",
       "      <th>City</th>\n",
       "      <th>State</th>\n",
       "      <th>Dead</th>\n",
       "      <th>Injured</th>\n",
       "      <th>Total</th>\n",
       "      <th>Description</th>\n",
       "      <th>year</th>\n",
       "      <th>month</th>\n",
       "      <th>day</th>\n",
       "      <th>day_of_week</th>\n",
       "      <th>Interval</th>\n",
       "    </tr>\n",
       "  </thead>\n",
       "  <tbody>\n",
       "    <tr>\n",
       "      <th>2313</th>\n",
       "      <td>2018-06-17</td>\n",
       "      <td>Macon</td>\n",
       "      <td>Georgia</td>\n",
       "      <td>1</td>\n",
       "      <td>3</td>\n",
       "      <td>4</td>\n",
       "      <td>A teenager was killed and three other people w...</td>\n",
       "      <td>2018</td>\n",
       "      <td>6</td>\n",
       "      <td>17</td>\n",
       "      <td>Sunday</td>\n",
       "      <td>2010s</td>\n",
       "    </tr>\n",
       "    <tr>\n",
       "      <th>44</th>\n",
       "      <td>2022-06-25</td>\n",
       "      <td>Minneapolis</td>\n",
       "      <td>Minnesota</td>\n",
       "      <td>0</td>\n",
       "      <td>4</td>\n",
       "      <td>4</td>\n",
       "      <td>After multiple fights broke out during a gathe...</td>\n",
       "      <td>2022</td>\n",
       "      <td>6</td>\n",
       "      <td>25</td>\n",
       "      <td>Saturday</td>\n",
       "      <td>2020s</td>\n",
       "    </tr>\n",
       "    <tr>\n",
       "      <th>2578</th>\n",
       "      <td>1993-12-14</td>\n",
       "      <td>Aurora</td>\n",
       "      <td>Colorado</td>\n",
       "      <td>4</td>\n",
       "      <td>1</td>\n",
       "      <td>5</td>\n",
       "      <td>Aurora, Colorado, Chuck E. Cheese shooting: Th...</td>\n",
       "      <td>1993</td>\n",
       "      <td>12</td>\n",
       "      <td>14</td>\n",
       "      <td>Tuesday</td>\n",
       "      <td>1990s</td>\n",
       "    </tr>\n",
       "    <tr>\n",
       "      <th>231</th>\n",
       "      <td>2022-04-03</td>\n",
       "      <td>Parkin and Wynne</td>\n",
       "      <td>Arkansas</td>\n",
       "      <td>2</td>\n",
       "      <td>2</td>\n",
       "      <td>4</td>\n",
       "      <td>A man opened fire inside a home in Parkin, kil...</td>\n",
       "      <td>2022</td>\n",
       "      <td>4</td>\n",
       "      <td>3</td>\n",
       "      <td>Sunday</td>\n",
       "      <td>2020s</td>\n",
       "    </tr>\n",
       "    <tr>\n",
       "      <th>1428</th>\n",
       "      <td>2020-06-30</td>\n",
       "      <td>Dayton</td>\n",
       "      <td>Ohio</td>\n",
       "      <td>0</td>\n",
       "      <td>4</td>\n",
       "      <td>4</td>\n",
       "      <td>Three men and one women were all wounded in a ...</td>\n",
       "      <td>2020</td>\n",
       "      <td>6</td>\n",
       "      <td>30</td>\n",
       "      <td>Tuesday</td>\n",
       "      <td>2020s</td>\n",
       "    </tr>\n",
       "  </tbody>\n",
       "</table>\n",
       "</div>"
      ],
      "text/plain": [
       "           Date              City      State  Dead  Injured  Total  \\\n",
       "2313 2018-06-17             Macon    Georgia     1        3      4   \n",
       "44   2022-06-25       Minneapolis  Minnesota     0        4      4   \n",
       "2578 1993-12-14            Aurora   Colorado     4        1      5   \n",
       "231  2022-04-03  Parkin and Wynne   Arkansas     2        2      4   \n",
       "1428 2020-06-30            Dayton       Ohio     0        4      4   \n",
       "\n",
       "                                            Description  year  month  day  \\\n",
       "2313  A teenager was killed and three other people w...  2018      6   17   \n",
       "44    After multiple fights broke out during a gathe...  2022      6   25   \n",
       "2578  Aurora, Colorado, Chuck E. Cheese shooting: Th...  1993     12   14   \n",
       "231   A man opened fire inside a home in Parkin, kil...  2022      4    3   \n",
       "1428  Three men and one women were all wounded in a ...  2020      6   30   \n",
       "\n",
       "     day_of_week Interval  \n",
       "2313      Sunday    2010s  \n",
       "44      Saturday    2020s  \n",
       "2578     Tuesday    1990s  \n",
       "231       Sunday    2020s  \n",
       "1428     Tuesday    2020s  "
      ]
     },
     "execution_count": 13,
     "metadata": {},
     "output_type": "execute_result"
    }
   ],
   "source": [
    "df.sample(5)"
   ]
  },
  {
   "cell_type": "code",
   "execution_count": 14,
   "id": "cbdc23d5",
   "metadata": {
    "execution": {
     "iopub.execute_input": "2022-07-09T16:41:29.600721Z",
     "iopub.status.busy": "2022-07-09T16:41:29.600055Z",
     "iopub.status.idle": "2022-07-09T16:41:29.607083Z",
     "shell.execute_reply": "2022-07-09T16:41:29.605423Z"
    },
    "papermill": {
     "duration": 0.023697,
     "end_time": "2022-07-09T16:41:29.610002",
     "exception": false,
     "start_time": "2022-07-09T16:41:29.586305",
     "status": "completed"
    },
    "tags": []
   },
   "outputs": [
    {
     "name": "stdout",
     "output_type": "stream",
     "text": [
      "Illinois\n",
      "Florida\n",
      "Minnesota\n",
      "Ohio\n",
      "Indiana\n",
      "New York\n",
      "Louisiana\n",
      "Massachusetts\n",
      "Virginia\n",
      "Missouri\n",
      "Wisconsin\n",
      "California\n",
      "Colorado\n",
      "South Carolina\n",
      "Arizona\n",
      "Washington\n",
      "Texas\n",
      "North Carolina\n",
      "Mississippi\n",
      "Kentucky\n",
      "New Jersey\n",
      "Pennsylvania\n",
      "Tennessee\n",
      "Georgia\n",
      "Michigan\n",
      "Washington D.C.\n",
      "Maryl\n",
      "Utah\n",
      "Nevada\n",
      "Nebraska\n",
      "West Virginia\n",
      "Oklahoma\n",
      "Alabama\n",
      "Puerto Rico\n",
      "Arkansas\n",
      "Oregon\n",
      "Kansas\n",
      "Iowa\n",
      "Connecticut\n",
      "Hawaii\n",
      "New Mexico\n",
      "United States Virgin Isls\n",
      "South Dakota\n",
      "Idaho\n",
      "Delaware\n",
      "Rhode Isl\n",
      "New Hampshire\n",
      "Alaska\n",
      "Peoria\n",
      "Maine\n",
      "Montana\n",
      "Wyoming\n",
      "District of Columbia\n",
      "Northern Mariana Isls\n",
      "Samson\n",
      "Colorado Springs\n",
      "Lancaster County\n",
      "Robinson Township\n",
      "Pennsylvania  Jenkins Township\n"
     ]
    }
   ],
   "source": [
    "for elem in df['State'].unique():\n",
    "    print(elem)"
   ]
  },
  {
   "cell_type": "code",
   "execution_count": 15,
   "id": "c4d153d8",
   "metadata": {
    "execution": {
     "iopub.execute_input": "2022-07-09T16:41:29.636182Z",
     "iopub.status.busy": "2022-07-09T16:41:29.635474Z",
     "iopub.status.idle": "2022-07-09T16:41:29.641757Z",
     "shell.execute_reply": "2022-07-09T16:41:29.640240Z"
    },
    "papermill": {
     "duration": 0.02179,
     "end_time": "2022-07-09T16:41:29.643850",
     "exception": false,
     "start_time": "2022-07-09T16:41:29.622060",
     "status": "completed"
    },
    "tags": []
   },
   "outputs": [
    {
     "name": "stdout",
     "output_type": "stream",
     "text": [
      "2020s\n",
      "2010s\n",
      "2000s\n",
      "1990s\n",
      "1980s\n",
      "1970s\n",
      "1960s\n",
      "1950s\n",
      "1940s\n",
      "1930s\n",
      "1920s\n"
     ]
    }
   ],
   "source": [
    "for elem in df['Interval'].unique():\n",
    "    print(elem)"
   ]
  },
  {
   "cell_type": "markdown",
   "id": "1d0c78a5",
   "metadata": {
    "papermill": {
     "duration": 0.011873,
     "end_time": "2022-07-09T16:41:29.667882",
     "exception": false,
     "start_time": "2022-07-09T16:41:29.656009",
     "status": "completed"
    },
    "tags": []
   },
   "source": [
    "![Typing SVG](https://readme-typing-svg.herokuapp.com?size=32&color=F73078&width=900&height=45&lines=Exploratory+Data+Analysis)"
   ]
  },
  {
   "cell_type": "code",
   "execution_count": 16,
   "id": "2a7c4a13",
   "metadata": {
    "execution": {
     "iopub.execute_input": "2022-07-09T16:41:29.694258Z",
     "iopub.status.busy": "2022-07-09T16:41:29.693535Z",
     "iopub.status.idle": "2022-07-09T16:41:29.708693Z",
     "shell.execute_reply": "2022-07-09T16:41:29.707851Z"
    },
    "papermill": {
     "duration": 0.030685,
     "end_time": "2022-07-09T16:41:29.710683",
     "exception": false,
     "start_time": "2022-07-09T16:41:29.679998",
     "status": "completed"
    },
    "tags": []
   },
   "outputs": [
    {
     "data": {
      "text/html": [
       "<div>\n",
       "<style scoped>\n",
       "    .dataframe tbody tr th:only-of-type {\n",
       "        vertical-align: middle;\n",
       "    }\n",
       "\n",
       "    .dataframe tbody tr th {\n",
       "        vertical-align: top;\n",
       "    }\n",
       "\n",
       "    .dataframe thead th {\n",
       "        text-align: right;\n",
       "    }\n",
       "</style>\n",
       "<table border=\"1\" class=\"dataframe\">\n",
       "  <thead>\n",
       "    <tr style=\"text-align: right;\">\n",
       "      <th></th>\n",
       "      <th>Date</th>\n",
       "      <th>City</th>\n",
       "      <th>State</th>\n",
       "      <th>Dead</th>\n",
       "      <th>Injured</th>\n",
       "      <th>Total</th>\n",
       "      <th>Description</th>\n",
       "      <th>year</th>\n",
       "      <th>month</th>\n",
       "      <th>day</th>\n",
       "      <th>day_of_week</th>\n",
       "      <th>Interval</th>\n",
       "    </tr>\n",
       "  </thead>\n",
       "  <tbody>\n",
       "    <tr>\n",
       "      <th>212</th>\n",
       "      <td>2022-04-15</td>\n",
       "      <td>Stockton</td>\n",
       "      <td>California</td>\n",
       "      <td>2</td>\n",
       "      <td>2</td>\n",
       "      <td>4</td>\n",
       "      <td>A group of people approached another group and...</td>\n",
       "      <td>2022</td>\n",
       "      <td>4</td>\n",
       "      <td>15</td>\n",
       "      <td>Friday</td>\n",
       "      <td>2020s</td>\n",
       "    </tr>\n",
       "    <tr>\n",
       "      <th>870</th>\n",
       "      <td>2021-05-08</td>\n",
       "      <td>Citrus Heights</td>\n",
       "      <td>California</td>\n",
       "      <td>0</td>\n",
       "      <td>4</td>\n",
       "      <td>4</td>\n",
       "      <td>Four people were wounded in the parking lot of...</td>\n",
       "      <td>2021</td>\n",
       "      <td>5</td>\n",
       "      <td>8</td>\n",
       "      <td>Saturday</td>\n",
       "      <td>2020s</td>\n",
       "    </tr>\n",
       "    <tr>\n",
       "      <th>1024</th>\n",
       "      <td>2021-02-05</td>\n",
       "      <td>Bolivar</td>\n",
       "      <td>Mississippi</td>\n",
       "      <td>3</td>\n",
       "      <td>1</td>\n",
       "      <td>4</td>\n",
       "      <td>A shooting at a club left three people dead an...</td>\n",
       "      <td>2021</td>\n",
       "      <td>2</td>\n",
       "      <td>5</td>\n",
       "      <td>Friday</td>\n",
       "      <td>2020s</td>\n",
       "    </tr>\n",
       "    <tr>\n",
       "      <th>2608</th>\n",
       "      <td>1981-05-07</td>\n",
       "      <td>Salem</td>\n",
       "      <td>Oregon</td>\n",
       "      <td>5</td>\n",
       "      <td>18</td>\n",
       "      <td>23</td>\n",
       "      <td>Oregon Museum Tavern shooting: The perpetrator...</td>\n",
       "      <td>1981</td>\n",
       "      <td>5</td>\n",
       "      <td>7</td>\n",
       "      <td>Thursday</td>\n",
       "      <td>1980s</td>\n",
       "    </tr>\n",
       "    <tr>\n",
       "      <th>1660</th>\n",
       "      <td>2020-01-26</td>\n",
       "      <td>Hartsville</td>\n",
       "      <td>South Carolina</td>\n",
       "      <td>3</td>\n",
       "      <td>6</td>\n",
       "      <td>9</td>\n",
       "      <td>Three people were fatally shot and four others...</td>\n",
       "      <td>2020</td>\n",
       "      <td>1</td>\n",
       "      <td>26</td>\n",
       "      <td>Sunday</td>\n",
       "      <td>2020s</td>\n",
       "    </tr>\n",
       "  </tbody>\n",
       "</table>\n",
       "</div>"
      ],
      "text/plain": [
       "           Date            City           State  Dead  Injured  Total  \\\n",
       "212  2022-04-15        Stockton      California     2        2      4   \n",
       "870  2021-05-08  Citrus Heights      California     0        4      4   \n",
       "1024 2021-02-05         Bolivar     Mississippi     3        1      4   \n",
       "2608 1981-05-07           Salem          Oregon     5       18     23   \n",
       "1660 2020-01-26      Hartsville  South Carolina     3        6      9   \n",
       "\n",
       "                                            Description  year  month  day  \\\n",
       "212   A group of people approached another group and...  2022      4   15   \n",
       "870   Four people were wounded in the parking lot of...  2021      5    8   \n",
       "1024  A shooting at a club left three people dead an...  2021      2    5   \n",
       "2608  Oregon Museum Tavern shooting: The perpetrator...  1981      5    7   \n",
       "1660  Three people were fatally shot and four others...  2020      1   26   \n",
       "\n",
       "     day_of_week Interval  \n",
       "212       Friday    2020s  \n",
       "870     Saturday    2020s  \n",
       "1024      Friday    2020s  \n",
       "2608    Thursday    1980s  \n",
       "1660      Sunday    2020s  "
      ]
     },
     "execution_count": 16,
     "metadata": {},
     "output_type": "execute_result"
    }
   ],
   "source": [
    "df.sample(5)"
   ]
  },
  {
   "cell_type": "markdown",
   "id": "1939ad24",
   "metadata": {
    "papermill": {
     "duration": 0.012687,
     "end_time": "2022-07-09T16:41:29.735928",
     "exception": false,
     "start_time": "2022-07-09T16:41:29.723241",
     "status": "completed"
    },
    "tags": []
   },
   "source": [
    "## Create State Code Colomn from State Names for our Map"
   ]
  },
  {
   "cell_type": "code",
   "execution_count": 17,
   "id": "29eb2a0c",
   "metadata": {
    "execution": {
     "iopub.execute_input": "2022-07-09T16:41:29.763323Z",
     "iopub.status.busy": "2022-07-09T16:41:29.762229Z",
     "iopub.status.idle": "2022-07-09T16:41:29.773339Z",
     "shell.execute_reply": "2022-07-09T16:41:29.772025Z"
    },
    "papermill": {
     "duration": 0.027462,
     "end_time": "2022-07-09T16:41:29.775893",
     "exception": false,
     "start_time": "2022-07-09T16:41:29.748431",
     "status": "completed"
    },
    "tags": []
   },
   "outputs": [],
   "source": [
    "state_code = {\n",
    "    \"Alabama\": \"AL\",\n",
    "    \"Alaska\": \"AK\",\n",
    "    \"Arizona\": \"AZ\",\n",
    "    \"Arkansas\": \"AR\",\n",
    "    \"California\": \"CA\",\n",
    "    \"Colorado\": \"CO\",\n",
    "    \"Connecticut\": \"CT\",\n",
    "    \"Delaware\": \"DE\",\n",
    "    \"Florida\": \"FL\",\n",
    "    \"Georgia\": \"GA\",\n",
    "    \"Hawaii\": \"HI\",\n",
    "    \"Idaho\": \"ID\",\n",
    "    \"Illinois\": \"IL\",\n",
    "    \"Indiana\": \"IN\",\n",
    "    \"Iowa\": \"IA\",\n",
    "    \"Kansas\": \"KS\",\n",
    "    \"Kentucky\": \"KY\",\n",
    "    \"Louisiana\": \"LA\",\n",
    "    \"Maine\": \"ME\",\n",
    "    \"Maryland\": \"MD\",\n",
    "    \"Massachusetts\": \"MA\",\n",
    "    \"Michigan\": \"MI\",\n",
    "    \"Minnesota\": \"MN\",\n",
    "    \"Mississippi\": \"MS\",\n",
    "    \"Missouri\": \"MO\",\n",
    "    \"Montana\": \"MT\",\n",
    "    \"Nebraska\": \"NE\",\n",
    "    \"Nevada\": \"NV\",\n",
    "    \"New Hampshire\": \"NH\",\n",
    "    \"New Jersey\": \"NJ\",\n",
    "    \"New Mexico\": \"NM\",\n",
    "    \"New York\": \"NY\",\n",
    "    \"North Carolina\": \"NC\",\n",
    "    \"North Dakota\": \"ND\",\n",
    "    \"Ohio\": \"OH\",\n",
    "    \"Oklahoma\": \"OK\",\n",
    "    \"Oregon\": \"OR\",\n",
    "    \"Pennsylvania\": \"PA\",\n",
    "    \"Rhode Island\": \"RI\",\n",
    "    \"South Carolina\": \"SC\",\n",
    "    \"South Dakota\": \"SD\",\n",
    "    \"Tennessee\": \"TN\",\n",
    "    \"Texas\": \"TX\",\n",
    "    \"Utah\": \"UT\",\n",
    "    \"Vermont\": \"VT\",\n",
    "    \"Virginia\": \"VA\",\n",
    "    \"Washington\": \"WA\",\n",
    "    \"West Virginia\": \"WV\",\n",
    "    \"Wisconsin\": \"WI\",\n",
    "    \"Wyoming\": \"WY\",\n",
    "    \"District of Columbia\": \"DC\",\n",
    "    \"American Samoa\": \"AS\",\n",
    "    \"Guam\": \"GU\",\n",
    "    \"Northern Mariana Islands\": \"MP\",\n",
    "    \"Puerto Rico\": \"PR\",\n",
    "    \"United States Minor Outlying Islands\": \"UM\",\n",
    "    \"U.S. Virgin Islands\": \"VI\",\n",
    "}"
   ]
  },
  {
   "cell_type": "code",
   "execution_count": 18,
   "id": "683912c5",
   "metadata": {
    "execution": {
     "iopub.execute_input": "2022-07-09T16:41:29.803603Z",
     "iopub.status.busy": "2022-07-09T16:41:29.802895Z",
     "iopub.status.idle": "2022-07-09T16:41:29.831548Z",
     "shell.execute_reply": "2022-07-09T16:41:29.830639Z"
    },
    "papermill": {
     "duration": 0.045375,
     "end_time": "2022-07-09T16:41:29.833842",
     "exception": false,
     "start_time": "2022-07-09T16:41:29.788467",
     "status": "completed"
    },
    "tags": []
   },
   "outputs": [
    {
     "data": {
      "text/html": [
       "<div>\n",
       "<style scoped>\n",
       "    .dataframe tbody tr th:only-of-type {\n",
       "        vertical-align: middle;\n",
       "    }\n",
       "\n",
       "    .dataframe tbody tr th {\n",
       "        vertical-align: top;\n",
       "    }\n",
       "\n",
       "    .dataframe thead th {\n",
       "        text-align: right;\n",
       "    }\n",
       "</style>\n",
       "<table border=\"1\" class=\"dataframe\">\n",
       "  <thead>\n",
       "    <tr style=\"text-align: right;\">\n",
       "      <th></th>\n",
       "      <th>Date</th>\n",
       "      <th>City</th>\n",
       "      <th>State</th>\n",
       "      <th>Dead</th>\n",
       "      <th>Injured</th>\n",
       "      <th>Total</th>\n",
       "      <th>Description</th>\n",
       "      <th>year</th>\n",
       "      <th>month</th>\n",
       "      <th>day</th>\n",
       "      <th>day_of_week</th>\n",
       "      <th>Interval</th>\n",
       "      <th>state_code</th>\n",
       "    </tr>\n",
       "  </thead>\n",
       "  <tbody>\n",
       "    <tr>\n",
       "      <th>0</th>\n",
       "      <td>2022-07-07</td>\n",
       "      <td>Chicago</td>\n",
       "      <td>Illinois</td>\n",
       "      <td>0</td>\n",
       "      <td>4</td>\n",
       "      <td>4</td>\n",
       "      <td>Four people were wounded in a drive-by shootin...</td>\n",
       "      <td>2022</td>\n",
       "      <td>7</td>\n",
       "      <td>7</td>\n",
       "      <td>Thursday</td>\n",
       "      <td>2020s</td>\n",
       "      <td>IL</td>\n",
       "    </tr>\n",
       "    <tr>\n",
       "      <th>1</th>\n",
       "      <td>2022-07-06</td>\n",
       "      <td>Tampa</td>\n",
       "      <td>Florida</td>\n",
       "      <td>0</td>\n",
       "      <td>4</td>\n",
       "      <td>4</td>\n",
       "      <td>Four people were shot at an intersection in th...</td>\n",
       "      <td>2022</td>\n",
       "      <td>7</td>\n",
       "      <td>6</td>\n",
       "      <td>Wednesday</td>\n",
       "      <td>2020s</td>\n",
       "      <td>FL</td>\n",
       "    </tr>\n",
       "    <tr>\n",
       "      <th>2</th>\n",
       "      <td>2022-07-06</td>\n",
       "      <td>Chicago</td>\n",
       "      <td>Illinois</td>\n",
       "      <td>0</td>\n",
       "      <td>4</td>\n",
       "      <td>4</td>\n",
       "      <td>Four people were shot after three men got out ...</td>\n",
       "      <td>2022</td>\n",
       "      <td>7</td>\n",
       "      <td>6</td>\n",
       "      <td>Wednesday</td>\n",
       "      <td>2020s</td>\n",
       "      <td>IL</td>\n",
       "    </tr>\n",
       "    <tr>\n",
       "      <th>3</th>\n",
       "      <td>2022-07-06</td>\n",
       "      <td>St. Cloud</td>\n",
       "      <td>Minnesota</td>\n",
       "      <td>0</td>\n",
       "      <td>4</td>\n",
       "      <td>4</td>\n",
       "      <td>An argument in an alleyway escalated into a sh...</td>\n",
       "      <td>2022</td>\n",
       "      <td>7</td>\n",
       "      <td>6</td>\n",
       "      <td>Wednesday</td>\n",
       "      <td>2020s</td>\n",
       "      <td>MN</td>\n",
       "    </tr>\n",
       "    <tr>\n",
       "      <th>4</th>\n",
       "      <td>2022-07-05</td>\n",
       "      <td>Youngstown</td>\n",
       "      <td>Ohio</td>\n",
       "      <td>1</td>\n",
       "      <td>3</td>\n",
       "      <td>4</td>\n",
       "      <td>Four people were shot, one fatally, in the par...</td>\n",
       "      <td>2022</td>\n",
       "      <td>7</td>\n",
       "      <td>5</td>\n",
       "      <td>Tuesday</td>\n",
       "      <td>2020s</td>\n",
       "      <td>OH</td>\n",
       "    </tr>\n",
       "  </tbody>\n",
       "</table>\n",
       "</div>"
      ],
      "text/plain": [
       "        Date        City      State  Dead  Injured  Total  \\\n",
       "0 2022-07-07     Chicago   Illinois     0        4      4   \n",
       "1 2022-07-06       Tampa    Florida     0        4      4   \n",
       "2 2022-07-06     Chicago   Illinois     0        4      4   \n",
       "3 2022-07-06   St. Cloud  Minnesota     0        4      4   \n",
       "4 2022-07-05  Youngstown       Ohio     1        3      4   \n",
       "\n",
       "                                         Description  year  month  day  \\\n",
       "0  Four people were wounded in a drive-by shootin...  2022      7    7   \n",
       "1  Four people were shot at an intersection in th...  2022      7    6   \n",
       "2  Four people were shot after three men got out ...  2022      7    6   \n",
       "3  An argument in an alleyway escalated into a sh...  2022      7    6   \n",
       "4  Four people were shot, one fatally, in the par...  2022      7    5   \n",
       "\n",
       "  day_of_week Interval state_code  \n",
       "0    Thursday    2020s         IL  \n",
       "1   Wednesday    2020s         FL  \n",
       "2   Wednesday    2020s         IL  \n",
       "3   Wednesday    2020s         MN  \n",
       "4     Tuesday    2020s         OH  "
      ]
     },
     "execution_count": 18,
     "metadata": {},
     "output_type": "execute_result"
    }
   ],
   "source": [
    "df['state_code'] = df.State.replace(state_code)\n",
    "df.head(5)"
   ]
  },
  {
   "cell_type": "markdown",
   "id": "191b4efa",
   "metadata": {
    "papermill": {
     "duration": 0.012677,
     "end_time": "2022-07-09T16:41:29.859498",
     "exception": false,
     "start_time": "2022-07-09T16:41:29.846821",
     "status": "completed"
    },
    "tags": []
   },
   "source": [
    "## Mass Shootings Trend with Year Passings"
   ]
  },
  {
   "cell_type": "code",
   "execution_count": 19,
   "id": "740b222f",
   "metadata": {
    "execution": {
     "iopub.execute_input": "2022-07-09T16:41:29.887276Z",
     "iopub.status.busy": "2022-07-09T16:41:29.886587Z",
     "iopub.status.idle": "2022-07-09T16:41:30.181828Z",
     "shell.execute_reply": "2022-07-09T16:41:30.180585Z"
    },
    "papermill": {
     "duration": 0.311998,
     "end_time": "2022-07-09T16:41:30.184345",
     "exception": false,
     "start_time": "2022-07-09T16:41:29.872347",
     "status": "completed"
    },
    "tags": []
   },
   "outputs": [
    {
     "data": {
      "image/png": "[encoded data removed]",
      "text/plain": [
       "<Figure size 1440x864 with 1 Axes>"
      ]
     },
     "metadata": {
      "needs_background": "light"
     },
     "output_type": "display_data"
    }
   ],
   "source": [
    "data = df\n",
    "interval_df = data[['Interval','Total']].groupby(['Interval']).sum().reset_index().sort_values('Total', ascending = True)\n",
    "\n",
    "plt.figure(figsize=(20,12))\n",
    "ax = sns.barplot(x='Interval', y='Total', data=interval_df, palette='magma')\n",
    "plt.xticks(rotation=90,fontsize=13, color='midnightblue')\n",
    "plt.yticks(fontsize=13, color='midnightblue')\n",
    "plt.xlabel('Interval', size = 18, color='midnightblue')\n",
    "plt.ylabel('Total', size = 17 , color='midnightblue')\n",
    "plt.title('Mass Shootings Trend with Year Passings', size = 20, color='midnightblue')\n",
    "plt.show()"
   ]
  },
  {
   "cell_type": "markdown",
   "id": "310e3281",
   "metadata": {
    "papermill": {
     "duration": 0.013088,
     "end_time": "2022-07-09T16:41:30.211337",
     "exception": false,
     "start_time": "2022-07-09T16:41:30.198249",
     "status": "completed"
    },
    "tags": []
   },
   "source": [
    "## Mass Shootings Map of USA states"
   ]
  },
  {
   "cell_type": "code",
   "execution_count": 20,
   "id": "79a27195",
   "metadata": {
    "execution": {
     "iopub.execute_input": "2022-07-09T16:41:30.240203Z",
     "iopub.status.busy": "2022-07-09T16:41:30.239813Z",
     "iopub.status.idle": "2022-07-09T16:41:31.526953Z",
     "shell.execute_reply": "2022-07-09T16:41:31.526119Z"
    },
    "papermill": {
     "duration": 1.305098,
     "end_time": "2022-07-09T16:41:31.529964",
     "exception": false,
     "start_time": "2022-07-09T16:41:30.224866",
     "status": "completed"
    },
    "tags": []
   },
   "outputs": [
    {
     "data": {
      "text/html": [
       "        <script type=\"text/javascript\">\n",
       "        window.PlotlyConfig = {MathJaxConfig: 'local'};\n",
       "        if (window.MathJax && window.MathJax.Hub && window.MathJax.Hub.Config) {window.MathJax.Hub.Config({SVG: {font: \"STIX-Web\"}});}\n",
       "        if (typeof require !== 'undefined') {\n",
       "        require.undef(\"plotly\");\n",
       "        requirejs.config({\n",
       "            paths: {\n",
       "                'plotly': ['https://cdn.plot.ly/plotly-2.12.1.min']\n",
       "            }\n",
       "        });\n",
       "        require(['plotly'], function(Plotly) {\n",
       "            window._Plotly = Plotly;\n",
       "        });\n",
       "        }\n",
       "        </script>\n",
       "        "
      ]
     },
     "metadata": {},
     "output_type": "display_data"
    },
    {
     "data": {
      "text/html": [
       "<div>                            <div id=\"fcf072df-0ded-4be6-8f42-a378fcce6581\" class=\"plotly-graph-div\" style=\"height:525px; width:100%;\"></div>            <script type=\"text/javascript\">                require([\"plotly\"], function(Plotly) {                    window.PLOTLYENV=window.PLOTLYENV || {};                                    if (document.getElementById(\"fcf072df-0ded-4be6-8f42-a378fcce6581\")) {                    Plotly.newPlot(                        \"fcf072df-0ded-4be6-8f42-a378fcce6581\",                        [{\"coloraxis\":\"coloraxis\",\"geo\":\"geo\",\"hovertemplate\":\"state_code=%{location}<br>Total=%{z}<extra></extra>\",\"locationmode\":\"USA-states\",\"locations\":[\"IL\",\"FL\",\"IL\",\"MN\",\"OH\",\"IN\",\"OH\",\"NY\",\"LA\",\"IL\",\"MA\",\"IL\",\"VA\",\"MO\",\"WI\",\"CA\",\"NY\",\"CO\",\"MN\",\"CA\",\"VA\",\"SC\",\"AZ\",\"WA\",\"TX\",\"NC\",\"NY\",\"IL\",\"IL\",\"MS\",\"KY\",\"NJ\",\"NJ\",\"PA\",\"TN\",\"MS\",\"NC\",\"NJ\",\"GA\",\"TX\",\"WA\",\"WA\",\"VA\",\"TX\",\"MN\",\"TX\",\"NY\",\"VA\",\"TX\",\"PA\",\"IL\",\"NY\",\"NY\",\"MI\",\"Washington D.C.\",\"MI\",\"SC\",\"FL\",\"FL\",\"Maryl\",\"TX\",\"IL\",\"CA\",\"SC\",\"FL\",\"NC\",\"CO\",\"IN\",\"IN\",\"MI\",\"TX\",\"CA\",\"LA\",\"GA\",\"TN\",\"KY\",\"IL\",\"MI\",\"GA\",\"Maryl\",\"AZ\",\"IL\",\"IL\",\"VA\",\"Maryl\",\"UT\",\"SC\",\"MI\",\"AZ\",\"TN\",\"MI\",\"PA\",\"TX\",\"AZ\",\"SC\",\"GA\",\"NY\",\"NV\",\"VA\",\"NE\",\"WV\",\"TX\",\"OK\",\"TX\",\"MI\",\"MI\",\"SC\",\"PA\",\"IL\",\"OK\",\"NV\",\"AZ\",\"CA\",\"IL\",\"TX\",\"CO\",\"TN\",\"CA\",\"FL\",\"TN\",\"MI\",\"AL\",\"PA\",\"TX\",\"OH\",\"SC\",\"PR\",\"AL\",\"WA\",\"IN\",\"CA\",\"LA\",\"FL\",\"IL\",\"TX\",\"PA\",\"CA\",\"CA\",\"TX\",\"NC\",\"NC\",\"TX\",\"NY\",\"WI\",\"TX\",\"AR\",\"NJ\",\"IL\",\"MO\",\"IN\",\"IL\",\"Maryl\",\"PA\",\"TX\",\"IL\",\"Maryl\",\"AL\",\"MI\",\"GA\",\"TX\",\"FL\",\"KY\",\"LA\",\"WA\",\"IL\",\"TX\",\"LA\",\"OK\",\"FL\",\"OH\",\"LA\",\"NC\",\"MS\",\"GA\",\"MS\",\"TN\",\"LA\",\"TN\",\"AL\",\"LA\",\"IL\",\"MS\",\"AZ\",\"TX\",\"SC\",\"AL\",\"IN\",\"SC\",\"NC\",\"IL\",\"GA\",\"CA\",\"Washington D.C.\",\"VA\",\"OH\",\"AR\",\"MN\",\"NC\",\"FL\",\"OR\",\"PA\",\"SC\",\"CA\",\"PA\",\"LA\",\"GA\",\"SC\",\"NY\",\"NV\",\"Maryl\",\"MI\",\"TX\",\"CA\",\"KS\",\"NY\",\"NY\",\"LA\",\"CA\",\"IN\",\"IL\",\"IA\",\"Washington D.C.\",\"TX\",\"FL\",\"MS\",\"PA\",\"CT\",\"KY\",\"CA\",\"NY\",\"CA\",\"AR\",\"TX\",\"NC\",\"LA\",\"LA\",\"CO\",\"SC\",\"PA\",\"NY\",\"OR\",\"LA\",\"VA\",\"CA\",\"OH\",\"CO\",\"AZ\",\"NY\",\"CA\",\"CT\",\"IL\",\"WI\",\"TX\",\"TX\",\"TX\",\"VA\",\"VA\",\"AR\",\"NC\",\"TX\",\"TX\",\"LA\",\"MI\",\"FL\",\"IL\",\"NJ\",\"AL\",\"HI\",\"NM\",\"PA\",\"IL\",\"SC\",\"NY\",\"AL\",\"Maryl\",\"OH\",\"CO\",\"MO\",\"FL\",\"TN\",\"LA\",\"TX\",\"SC\",\"KY\",\"PA\",\"MN\",\"AZ\",\"GA\",\"GA\",\"NV\",\"Maryl\",\"CA\",\"CA\",\"LA\",\"SC\",\"LA\",\"NM\",\"NV\",\"LA\",\"TX\",\"TX\",\"GA\",\"GA\",\"MN\",\"OR\",\"MS\",\"NE\",\"NC\",\"AL\",\"OR\",\"CA\",\"MO\",\"PA\",\"TX\",\"FL\",\"IL\",\"WI\",\"CA\",\"AR\",\"TN\",\"MO\",\"AZ\",\"IL\",\"NC\",\"CA\",\"FL\",\"NM\",\"TX\",\"VA\",\"CA\",\"WI\",\"NC\",\"FL\",\"GA\",\"CA\",\"GA\",\"MO\",\"TN\",\"CA\",\"Washington D.C.\",\"WI\",\"CA\",\"WA\",\"LA\",\"Maryl\",\"United States Virgin Isls\",\"FL\",\"TX\",\"GA\",\"GA\",\"TN\",\"OR\",\"GA\",\"NY\",\"IL\",\"AL\",\"CA\",\"CO\",\"CA\",\"TX\",\"MS\",\"TX\",\"TX\",\"MO\",\"IL\",\"PA\",\"SC\",\"GA\",\"WI\",\"IN\",\"CO\",\"Maryl\",\"CA\",\"MS\",\"PA\",\"MO\",\"AL\",\"OH\",\"CO\",\"TX\",\"NY\",\"VA\",\"MS\",\"PA\",\"LA\",\"NY\",\"GA\",\"PA\",\"IL\",\"Maryl\",\"VA\",\"Maryl\",\"AL\",\"CA\",\"PA\",\"NC\",\"TX\",\"VA\",\"MS\",\"FL\",\"IL\",\"MI\",\"FL\",\"NC\",\"WI\",\"PA\",\"TX\",\"MI\",\"TN\",\"NC\",\"GA\",\"MI\",\"PA\",\"CA\",\"CO\",\"Maryl\",\"IL\",\"NJ\",\"TN\",\"TX\",\"SC\",\"FL\",\"TX\",\"NC\",\"LA\",\"NJ\",\"IL\",\"CA\",\"Maryl\",\"IL\",\"IL\",\"NY\",\"NY\",\"CO\",\"NY\",\"OR\",\"AZ\",\"AL\",\"MO\",\"PA\",\"LA\",\"NC\",\"VA\",\"AL\",\"NY\",\"SD\",\"LA\",\"PA\",\"WI\",\"CA\",\"TX\",\"CA\",\"CA\",\"VA\",\"IA\",\"AL\",\"FL\",\"TX\",\"KY\",\"IL\",\"CO\",\"TX\",\"IL\",\"TX\",\"CA\",\"IL\",\"TX\",\"OK\",\"FL\",\"CA\",\"MI\",\"NY\",\"NV\",\"TN\",\"ID\",\"TN\",\"CA\",\"MS\",\"GA\",\"SC\",\"CA\",\"WA\",\"Maryl\",\"IL\",\"NY\",\"WA\",\"MI\",\"WI\",\"LA\",\"TX\",\"MS\",\"AR\",\"WI\",\"CO\",\"AR\",\"MO\",\"TX\",\"AL\",\"MN\",\"MS\",\"FL\",\"GA\",\"DE\",\"IL\",\"IA\",\"SC\",\"MN\",\"TX\",\"CO\",\"LA\",\"NY\",\"Maryl\",\"Washington D.C.\",\"IL\",\"WI\",\"WI\",\"OH\",\"Maryl\",\"LA\",\"IL\",\"MN\",\"MN\",\"SC\",\"CO\",\"TX\",\"Washington D.C.\",\"IA\",\"IL\",\"MN\",\"IL\",\"IL\",\"NY\",\"WA\",\"IL\",\"CA\",\"TN\",\"CA\",\"TN\",\"NY\",\"CA\",\"SC\",\"TN\",\"PA\",\"NC\",\"Washington D.C.\",\"MO\",\"CA\",\"PA\",\"FL\",\"TX\",\"CA\",\"IL\",\"NY\",\"SC\",\"LA\",\"IL\",\"NY\",\"NY\",\"GA\",\"Maryl\",\"OH\",\"WI\",\"MN\",\"TX\",\"MI\",\"IL\",\"IL\",\"AL\",\"NY\",\"NJ\",\"IL\",\"FL\",\"IL\",\"AL\",\"MO\",\"DE\",\"KS\",\"GA\",\"TX\",\"OH\",\"FL\",\"GA\",\"MI\",\"MO\",\"NY\",\"MO\",\"LA\",\"Washington D.C.\",\"AL\",\"PA\",\"IL\",\"GA\",\"NY\",\"LA\",\"TX\",\"NY\",\"NC\",\"IL\",\"NV\",\"TN\",\"WI\",\"CA\",\"IL\",\"NY\",\"PA\",\"WV\",\"CA\",\"MN\",\"IL\",\"OR\",\"MI\",\"IL\",\"IL\",\"IL\",\"IL\",\"MI\",\"Maryl\",\"PA\",\"IL\",\"Maryl\",\"OH\",\"CA\",\"NC\",\"NY\",\"NY\",\"MI\",\"TX\",\"IL\",\"IN\",\"NJ\",\"OH\",\"NY\",\"NV\",\"PA\",\"MS\",\"OR\",\"MI\",\"MA\",\"TX\",\"IL\",\"NY\",\"LA\",\"IL\",\"AL\",\"IL\",\"VA\",\"TN\",\"PA\",\"IL\",\"SC\",\"SC\",\"LA\",\"Rhode Isl\",\"TX\",\"LA\",\"KY\",\"IN\",\"NY\",\"MI\",\"IL\",\"OH\",\"IA\",\"PA\",\"Washington D.C.\",\"SC\",\"TX\",\"WA\",\"IL\",\"CA\",\"MI\",\"TX\",\"GA\",\"OH\",\"SC\",\"SC\",\"CA\",\"TX\",\"IL\",\"IL\",\"Maryl\",\"IL\",\"TX\",\"IL\",\"NJ\",\"NC\",\"OH\",\"FL\",\"TX\",\"CA\",\"AZ\",\"IL\",\"OR\",\"SC\",\"PA\",\"IL\",\"NH\",\"Washington D.C.\",\"CA\",\"TX\",\"MO\",\"MA\",\"IL\",\"IL\",\"DE\",\"IN\",\"MI\",\"NJ\",\"NY\",\"PA\",\"CA\",\"TX\",\"PA\",\"OH\",\"MA\",\"CT\",\"CA\",\"OH\",\"NY\",\"IL\",\"OH\",\"TX\",\"MO\",\"TX\",\"TX\",\"CA\",\"IL\",\"IL\",\"OH\",\"NE\",\"IL\",\"NC\",\"PA\",\"GA\",\"IL\",\"VA\",\"IL\",\"PA\",\"IL\",\"SC\",\"VA\",\"DE\",\"TX\",\"IL\",\"LA\",\"NY\",\"IL\",\"TN\",\"NC\",\"IL\",\"IL\",\"AL\",\"IL\",\"TX\",\"OH\",\"IL\",\"NY\",\"FL\",\"AL\",\"IL\",\"NY\",\"IL\",\"Washington D.C.\",\"MO\",\"CA\",\"IN\",\"TX\",\"NJ\",\"FL\",\"OH\",\"CO\",\"VA\",\"AK\",\"CA\",\"LA\",\"NJ\",\"MN\",\"NC\",\"VA\",\"NJ\",\"Peoria\",\"Maryl\",\"IL\",\"IL\",\"AL\",\"MI\",\"FL\",\"KY\",\"OH\",\"OH\",\"TX\",\"IL\",\"OH\",\"GA\",\"TX\",\"NC\",\"WA\",\"MI\",\"NY\",\"TN\",\"TN\",\"TX\",\"FL\",\"OH\",\"UT\",\"OR\",\"IL\",\"CA\",\"MO\",\"NC\",\"FL\",\"LA\",\"IN\",\"MI\",\"AR\",\"OH\",\"DE\",\"OH\",\"NY\",\"MO\",\"OH\",\"IL\",\"AL\",\"FL\",\"TX\",\"MO\",\"FL\",\"NC\",\"IL\",\"CA\",\"NY\",\"MI\",\"OH\",\"IL\",\"NJ\",\"VA\",\"OH\",\"IL\",\"MN\",\"TX\",\"OH\",\"IN\",\"SC\",\"NJ\",\"NY\",\"NJ\",\"IN\",\"CA\",\"CA\",\"OR\",\"GA\",\"GA\",\"AL\",\"MI\",\"GA\",\"OH\",\"IL\",\"NY\",\"Washington D.C.\",\"PA\",\"Washington D.C.\",\"GA\",\"Rhode Isl\",\"GA\",\"Maryl\",\"AL\",\"AZ\",\"CO\",\"MI\",\"Maryl\",\"CA\",\"CA\",\"MO\",\"NJ\",\"IL\",\"MI\",\"MN\",\"OH\",\"IL\",\"Maryl\",\"PA\",\"FL\",\"NY\",\"DE\",\"GA\",\"LA\",\"WI\",\"MA\",\"GA\",\"FL\",\"NC\",\"AL\",\"VA\",\"OR\",\"TX\",\"AR\",\"MO\",\"AL\",\"LA\",\"LA\",\"CA\",\"United States Virgin Isls\",\"TX\",\"GA\",\"AL\",\"MI\",\"WI\",\"LA\",\"LA\",\"OH\",\"MI\",\"IN\",\"Washington D.C.\",\"FL\",\"IL\",\"Maryl\",\"IL\",\"TN\",\"GA\",\"KS\",\"WA\",\"MO\",\"TN\",\"CT\",\"MI\",\"TX\",\"TX\",\"SC\",\"WI\",\"NY\",\"MI\",\"IL\",\"Maryl\",\"TX\",\"LA\",\"AL\",\"TX\",\"NC\",\"FL\",\"AL\",\"CA\",\"Washington D.C.\",\"TX\",\"Maryl\",\"IL\",\"TX\",\"OH\",\"IL\",\"IL\",\"MS\",\"TN\",\"PA\",\"VA\",\"IL\",\"GA\",\"AL\",\"MI\",\"OH\",\"CO\",\"TX\",\"PA\",\"TX\",\"LA\",\"OR\",\"CA\",\"AZ\",\"GA\",\"IN\",\"IL\",\"IL\",\"FL\",\"IN\",\"FL\",\"NY\",\"VA\",\"NC\",\"NM\",\"SC\",\"PA\",\"PA\",\"TX\",\"FL\",\"MS\",\"CA\",\"NC\",\"CA\",\"Washington D.C.\",\"PA\",\"TX\",\"SC\",\"DE\",\"LA\",\"United States Virgin Isls\",\"IN\",\"OH\",\"MS\",\"MS\",\"United States Virgin Isls\",\"CA\",\"TX\",\"LA\",\"NC\",\"MO\",\"LA\",\"IL\",\"PA\",\"CO\",\"LA\",\"PA\",\"FL\",\"IN\",\"NC\",\"CA\",\"CA\",\"GA\",\"GA\",\"TX\",\"MN\",\"AL\",\"LA\",\"WA\",\"TN\",\"IL\",\"VA\",\"PA\",\"MS\",\"NC\",\"TN\",\"CO\",\"CO\",\"FL\",\"OK\",\"NY\",\"NY\",\"PA\",\"MI\",\"CA\",\"Washington D.C.\",\"NV\",\"IN\",\"KY\",\"CA\",\"LA\",\"PA\",\"AZ\",\"AZ\",\"IL\",\"CA\",\"PA\",\"FL\",\"TX\",\"IL\",\"Washington D.C.\",\"VA\",\"TX\",\"FL\",\"FL\",\"LA\",\"TX\",\"LA\",\"CA\",\"FL\",\"OR\",\"FL\",\"AR\",\"IA\",\"TX\",\"IL\",\"OR\",\"IN\",\"United States Virgin Isls\",\"MA\",\"FL\",\"FL\",\"IL\",\"AR\",\"FL\",\"FL\",\"MS\",\"KY\",\"CT\",\"IL\",\"PA\",\"MO\",\"WV\",\"NY\",\"Maryl\",\"CA\",\"NY\",\"MS\",\"GA\",\"LA\",\"LA\",\"TX\",\"NC\",\"CA\",\"IL\",\"PA\",\"AK\",\"TN\",\"MS\",\"LA\",\"SC\",\"OH\",\"GA\",\"NV\",\"NY\",\"NJ\",\"NE\",\"AZ\",\"IL\",\"MI\",\"WI\",\"FL\",\"SC\",\"TX\",\"TN\",\"IL\",\"FL\",\"IL\",\"GA\",\"LA\",\"SC\",\"CA\",\"OH\",\"MO\",\"NC\",\"FL\",\"FL\",\"TX\",\"TN\",\"VA\",\"SC\",\"KS\",\"LA\",\"OH\",\"MO\",\"NV\",\"NC\",\"IN\",\"NJ\",\"SC\",\"NY\",\"OK\",\"AZ\",\"CA\",\"NV\",\"Maryl\",\"CA\",\"WA\",\"Maryl\",\"IL\",\"FL\",\"VA\",\"NJ\",\"AL\",\"TX\",\"NC\",\"TX\",\"MS\",\"LA\",\"FL\",\"MA\",\"Maryl\",\"NY\",\"MS\",\"TX\",\"OH\",\"LA\",\"TN\",\"Maryl\",\"IL\",\"SC\",\"NY\",\"AZ\",\"CA\",\"FL\",\"CA\",\"LA\",\"Maryl\",\"PA\",\"SC\",\"GA\",\"IL\",\"SC\",\"MO\",\"PA\",\"AK\",\"NY\",\"Washington D.C.\",\"GA\",\"IN\",\"CA\",\"TN\",\"WA\",\"LA\",\"MI\",\"WI\",\"FL\",\"NC\",\"OH\",\"PA\",\"MI\",\"TN\",\"OH\",\"CA\",\"AL\",\"PA\",\"IL\",\"IA\",\"PA\",\"GA\",\"MN\",\"OH\",\"NY\",\"CT\",\"NJ\",\"AR\",\"IL\",\"NY\",\"NY\",\"IL\",\"AR\",\"PA\",\"IL\",\"CA\",\"LA\",\"NJ\",\"IL\",\"MI\",\"TN\",\"FL\",\"IL\",\"NC\",\"LA\",\"LA\",\"MO\",\"Maryl\",\"CA\",\"IN\",\"LA\",\"NY\",\"IL\",\"LA\",\"IL\",\"CO\",\"TN\",\"Maryl\",\"MO\",\"MO\",\"GA\",\"FL\",\"Maryl\",\"AR\",\"TX\",\"AR\",\"AR\",\"PA\",\"FL\",\"CA\",\"GA\",\"PA\",\"FL\",\"KY\",\"IL\",\"IL\",\"KY\",\"TX\",\"NY\",\"IL\",\"NV\",\"TX\",\"MN\",\"OR\",\"MI\",\"SC\",\"PA\",\"NY\",\"VA\",\"FL\",\"VA\",\"CA\",\"MI\",\"IL\",\"IL\",\"CO\",\"TN\",\"NY\",\"AR\",\"AL\",\"IL\",\"IL\",\"PA\",\"PA\",\"NY\",\"IL\",\"TX\",\"NY\",\"OH\",\"KY\",\"KY\",\"TX\",\"OH\",\"CO\",\"OH\",\"OK\",\"AL\",\"CT\",\"MI\",\"NY\",\"PA\",\"NY\",\"OH\",\"NJ\",\"CA\",\"TX\",\"MS\",\"Washington D.C.\",\"OH\",\"CO\",\"AL\",\"MA\",\"PA\",\"KY\",\"NY\",\"CA\",\"IL\",\"Washington D.C.\",\"WI\",\"CA\",\"MO\",\"CT\",\"NY\",\"NJ\",\"PA\",\"AL\",\"CO\",\"TX\",\"IL\",\"PA\",\"FL\",\"FL\",\"MI\",\"OH\",\"MO\",\"WI\",\"DE\",\"IL\",\"WA\",\"AR\",\"TX\",\"MI\",\"CO\",\"KY\",\"CA\",\"FL\",\"TX\",\"CO\",\"MI\",\"NC\",\"GA\",\"VA\",\"IL\",\"VA\",\"MI\",\"IL\",\"VA\",\"IL\",\"MI\",\"IL\",\"MI\",\"Washington D.C.\",\"NE\",\"IL\",\"IL\",\"OH\",\"FL\",\"TN\",\"LA\",\"NY\",\"MO\",\"NC\",\"WA\",\"KY\",\"NY\",\"LA\",\"IL\",\"IL\",\"FL\",\"NY\",\"MI\",\"MS\",\"DE\",\"NY\",\"NJ\",\"VA\",\"IL\",\"IL\",\"IL\",\"TX\",\"MI\",\"MS\",\"IA\",\"NY\",\"AR\",\"WI\",\"SC\",\"GA\",\"PA\",\"MO\",\"IL\",\"SC\",\"Maryl\",\"IL\",\"MA\",\"IL\",\"GA\",\"MS\",\"Maryl\",\"LA\",\"Maryl\",\"AL\",\"MA\",\"NJ\",\"CA\",\"CA\",\"GA\",\"IA\",\"IL\",\"OH\",\"AR\",\"MA\",\"CA\",\"SD\",\"AL\",\"PA\",\"CA\",\"IL\",\"IL\",\"NY\",\"IL\",\"AR\",\"CO\",\"CA\",\"AZ\",\"PA\",\"CT\",\"TN\",\"IL\",\"FL\",\"NY\",\"IL\",\"IL\",\"MN\",\"NC\",\"CA\",\"MN\",\"IL\",\"TX\",\"MN\",\"AL\",\"WI\",\"NY\",\"KS\",\"NY\",\"NC\",\"MI\",\"NY\",\"MI\",\"NJ\",\"WI\",\"NY\",\"NY\",\"IL\",\"IA\",\"IL\",\"IL\",\"LA\",\"LA\",\"LA\",\"KY\",\"MN\",\"CA\",\"Washington D.C.\",\"GA\",\"AR\",\"NY\",\"MO\",\"Maryl\",\"TX\",\"NY\",\"PA\",\"LA\",\"VA\",\"TX\",\"Washington D.C.\",\"CA\",\"OH\",\"CA\",\"CA\",\"NC\",\"PA\",\"NY\",\"TN\",\"IL\",\"MO\",\"IL\",\"TN\",\"AR\",\"CA\",\"OH\",\"MO\",\"CO\",\"AL\",\"TX\",\"WI\",\"IL\",\"MO\",\"PA\",\"MS\",\"MI\",\"NC\",\"TX\",\"FL\",\"IA\",\"VA\",\"TN\",\"KY\",\"PA\",\"PA\",\"OH\",\"CA\",\"MA\",\"IL\",\"SC\",\"MS\",\"PA\",\"CA\",\"LA\",\"MS\",\"MO\",\"AL\",\"SC\",\"SC\",\"NC\",\"FL\",\"IL\",\"MI\",\"FL\",\"IL\",\"Washington D.C.\",\"TX\",\"OH\",\"TX\",\"IL\",\"CA\",\"Maryl\",\"SC\",\"SC\",\"LA\",\"NM\",\"IL\",\"KY\",\"AL\",\"TX\",\"TX\",\"LA\",\"MO\",\"Maryl\",\"GA\",\"TN\",\"IN\",\"OH\",\"FL\",\"IL\",\"PA\",\"IN\",\"WI\",\"NY\",\"NC\",\"FL\",\"TN\",\"IL\",\"IN\",\"TX\",\"Maryl\",\"MA\",\"NC\",\"MS\",\"CA\",\"MI\",\"MI\",\"AK\",\"SC\",\"IL\",\"NY\",\"SC\",\"CA\",\"FL\",\"TX\",\"TX\",\"KY\",\"GA\",\"PA\",\"GA\",\"Maryl\",\"TX\",\"SC\",\"MO\",\"VA\",\"FL\",\"Maryl\",\"MO\",\"NC\",\"MI\",\"NM\",\"LA\",\"IL\",\"PA\",\"CA\",\"Maryl\",\"IL\",\"WI\",\"OH\",\"NM\",\"IL\",\"Washington D.C.\",\"CA\",\"CO\",\"MO\",\"WI\",\"IL\",\"LA\",\"TX\",\"NC\",\"ID\",\"NC\",\"FL\",\"PA\",\"MS\",\"FL\",\"TX\",\"CT\",\"LA\",\"TN\",\"IL\",\"DE\",\"OH\",\"TX\",\"TX\",\"TX\",\"IN\",\"ME\",\"CA\",\"MS\",\"LA\",\"LA\",\"CA\",\"FL\",\"CA\",\"CT\",\"SC\",\"NY\",\"MO\",\"NC\",\"IL\",\"NC\",\"WA\",\"TX\",\"MO\",\"TX\",\"TN\",\"UT\",\"IL\",\"IA\",\"CO\",\"MS\",\"GA\",\"FL\",\"NY\",\"PR\",\"WV\",\"MO\",\"OH\",\"IL\",\"NY\",\"TX\",\"CA\",\"TX\",\"GA\",\"CA\",\"FL\",\"CA\",\"IA\",\"VA\",\"NC\",\"LA\",\"IL\",\"Maryl\",\"MS\",\"AL\",\"NC\",\"Rhode Isl\",\"TX\",\"MT\",\"GA\",\"CA\",\"MO\",\"NJ\",\"TX\",\"TX\",\"LA\",\"FL\",\"FL\",\"HI\",\"AL\",\"MI\",\"LA\",\"LA\",\"LA\",\"IL\",\"TX\",\"NY\",\"FL\",\"AL\",\"CA\",\"LA\",\"CA\",\"LA\",\"WA\",\"CA\",\"CA\",\"NJ\",\"CA\",\"OH\",\"CA\",\"CA\",\"FL\",\"MO\",\"TN\",\"AR\",\"MI\",\"GA\",\"GA\",\"TX\",\"OH\",\"TX\",\"MI\",\"LA\",\"AZ\",\"TX\",\"CA\",\"CA\",\"Maryl\",\"MI\",\"MI\",\"TX\",\"NJ\",\"OK\",\"OK\",\"SC\",\"TX\",\"TX\",\"PA\",\"OK\",\"OH\",\"PR\",\"PA\",\"OH\",\"PA\",\"Maryl\",\"NY\",\"TX\",\"MI\",\"IL\",\"PA\",\"WI\",\"FL\",\"Maryl\",\"MA\",\"CO\",\"IN\",\"KS\",\"OK\",\"NC\",\"MO\",\"MO\",\"KS\",\"FL\",\"WI\",\"IL\",\"TX\",\"OH\",\"IL\",\"IN\",\"MO\",\"SC\",\"IN\",\"LA\",\"IN\",\"LA\",\"Washington D.C.\",\"IL\",\"CA\",\"WY\",\"GA\",\"MO\",\"CA\",\"OH\",\"NM\",\"NM\",\"IL\",\"LA\",\"SC\",\"NC\",\"United States Virgin Isls\",\"FL\",\"LA\",\"AL\",\"IL\",\"NC\",\"NC\",\"AL\",\"CT\",\"OH\",\"TX\",\"NC\",\"Maryl\",\"Maryl\",\"AL\",\"Maryl\",\"FL\",\"IL\",\"NM\",\"Maryl\",\"MA\",\"FL\",\"MO\",\"TX\",\"SC\",\"CA\",\"GA\",\"MO\",\"VA\",\"TX\",\"MO\",\"AL\",\"PA\",\"PA\",\"WV\",\"WA\",\"MS\",\"CA\",\"NC\",\"IL\",\"CA\",\"VA\",\"IL\",\"TX\",\"NJ\",\"MO\",\"MI\",\"GA\",\"Maryl\",\"NY\",\"TX\",\"TN\",\"MS\",\"IL\",\"IL\",\"OH\",\"TX\",\"VA\",\"Maryl\",\"IN\",\"MS\",\"OK\",\"TX\",\"OH\",\"PA\",\"WI\",\"IL\",\"CA\",\"PA\",\"Washington D.C.\",\"NY\",\"KS\",\"NC\",\"CA\",\"FL\",\"IL\",\"Washington D.C.\",\"IL\",\"NJ\",\"PA\",\"IL\",\"TX\",\"TX\",\"Maryl\",\"LA\",\"GA\",\"PA\",\"IL\",\"TX\",\"Washington D.C.\",\"NC\",\"MI\",\"KS\",\"IL\",\"NM\",\"CA\",\"MI\",\"NC\",\"MA\",\"NV\",\"NY\",\"AR\",\"IL\",\"IL\",\"IL\",\"CA\",\"CA\",\"TX\",\"MO\",\"IL\",\"Maryl\",\"TX\",\"CA\",\"NY\",\"CA\",\"IL\",\"LA\",\"CT\",\"NJ\",\"MN\",\"GA\",\"CT\",\"GA\",\"OH\",\"SC\",\"OH\",\"CA\",\"IN\",\"CA\",\"Maryl\",\"PA\",\"VA\",\"MI\",\"IL\",\"CA\",\"PA\",\"NJ\",\"TX\",\"TX\",\"TN\",\"PA\",\"KY\",\"IA\",\"LA\",\"IA\",\"NC\",\"GA\",\"CO\",\"OH\",\"TN\",\"NY\",\"WA\",\"IL\",\"TX\",\"IL\",\"CA\",\"SC\",\"VA\",\"IL\",\"IL\",\"GA\",\"GA\",\"VA\",\"IL\",\"TX\",\"NJ\",\"Washington D.C.\",\"Washington D.C.\",\"IL\",\"CA\",\"VA\",\"VA\",\"Maryl\",\"NJ\",\"OK\",\"LA\",\"OH\",\"OK\",\"OR\",\"AL\",\"NC\",\"IN\",\"MS\",\"CA\",\"IA\",\"CA\",\"OH\",\"LA\",\"MO\",\"LA\",\"PA\",\"NJ\",\"MO\",\"PA\",\"IN\",\"CO\",\"CA\",\"NJ\",\"IN\",\"DE\",\"MO\",\"Maryl\",\"Maryl\",\"TX\",\"MA\",\"NC\",\"TN\",\"OH\",\"AL\",\"Maryl\",\"MI\",\"MS\",\"CA\",\"OK\",\"PA\",\"CA\",\"TX\",\"TN\",\"KS\",\"KY\",\"Maryl\",\"CA\",\"FL\",\"CA\",\"IL\",\"AZ\",\"CA\",\"Maryl\",\"MO\",\"LA\",\"IN\",\"NC\",\"DE\",\"IL\",\"FL\",\"GA\",\"FL\",\"KY\",\"MS\",\"IL\",\"GA\",\"SC\",\"Maryl\",\"NV\",\"AZ\",\"CA\",\"AZ\",\"GA\",\"NV\",\"GA\",\"NJ\",\"AL\",\"MT\",\"IL\",\"NJ\",\"CO\",\"LA\",\"CA\",\"IL\",\"AR\",\"IL\",\"CA\",\"AL\",\"KY\",\"Maryl\",\"TX\",\"TN\",\"MI\",\"LA\",\"TX\",\"IN\",\"MS\",\"IL\",\"FL\",\"TX\",\"VA\",\"OH\",\"NY\",\"TX\",\"Washington D.C.\",\"LA\",\"IL\",\"CA\",\"TX\",\"AL\",\"GA\",\"IN\",\"NJ\",\"LA\",\"PA\",\"GA\",\"FL\",\"FL\",\"TX\",\"SC\",\"FL\",\"PA\",\"IL\",\"KY\",\"FL\",\"CA\",\"AR\",\"AZ\",\"NM\",\"CA\",\"VA\",\"TX\",\"TX\",\"AR\",\"FL\",\"SC\",\"OH\",\"OH\",\"MO\",\"LA\",\"MO\",\"NV\",\"Maryl\",\"FL\",\"CO\",\"PA\",\"LA\",\"WI\",\"NC\",\"NY\",\"FL\",\"TN\",\"TX\",\"AL\",\"CA\",\"FL\",\"FL\",\"IN\",\"MO\",\"PA\",\"IL\",\"CO\",\"CA\",\"AR\",\"WI\",\"LA\",\"IN\",\"NM\",\"NC\",\"IL\",\"AZ\",\"TN\",\"CA\",\"NY\",\"FL\",\"CA\",\"MN\",\"MO\",\"MI\",\"CA\",\"CA\",\"CA\",\"AR\",\"PA\",\"TN\",\"NJ\",\"IL\",\"IL\",\"WA\",\"FL\",\"GA\",\"TN\",\"NV\",\"CA\",\"TX\",\"MO\",\"TX\",\"SC\",\"NV\",\"AL\",\"CA\",\"OK\",\"TX\",\"GA\",\"NM\",\"PA\",\"SC\",\"IL\",\"TN\",\"Maryl\",\"PA\",\"WI\",\"Maryl\",\"CA\",\"OH\",\"CA\",\"OH\",\"AR\",\"FL\",\"TX\",\"TN\",\"VA\",\"PA\",\"MO\",\"TN\",\"TN\",\"OH\",\"IL\",\"MI\",\"NY\",\"NJ\",\"IL\",\"SC\",\"PA\",\"CA\",\"PA\",\"CA\",\"CO\",\"OH\",\"MI\",\"MO\",\"PA\",\"NJ\",\"IL\",\"IL\",\"IL\",\"IL\",\"IL\",\"NV\",\"MO\",\"WI\",\"IL\",\"CA\",\"GA\",\"IL\",\"AZ\",\"MI\",\"PA\",\"LA\",\"CA\",\"IL\",\"TX\",\"TX\",\"CA\",\"OH\",\"LA\",\"IL\",\"IL\",\"Maryl\",\"NJ\",\"WA\",\"OK\",\"DC\",\"FL\",\"PA\",\"CO\",\"TN\",\"Maryl\",\"VA\",\"TN\",\"TX\",\"FL\",\"DE\",\"FL\",\"AL\",\"TN\",\"AL\",\"NY\",\"NY\",\"CA\",\"VA\",\"OH\",\"IN\",\"GA\",\"DC\",\"MO\",\"NY\",\"IL\",\"GA\",\"Maryl\",\"NJ\",\"Maryl\",\"CA\",\"TX\",\"CT\",\"IL\",\"FL\",\"NC\",\"FL\",\"FL\",\"IN\",\"OH\",\"KS\",\"IL\",\"TN\",\"PA\",\"IL\",\"LA\",\"CA\",\"CA\",\"AL\",\"IL\",\"IL\",\"NJ\",\"GA\",\"IL\",\"NC\",\"CA\",\"CO\",\"NY\",\"PA\",\"CA\",\"NY\",\"AL\",\"FL\",\"CA\",\"FL\",\"IL\",\"IL\",\"IL\",\"IN\",\"PA\",\"NC\",\"MA\",\"FL\",\"AZ\",\"IL\",\"TX\",\"NY\",\"NE\",\"SC\",\"LA\",\"CO\",\"OH\",\"MS\",\"IN\",\"TX\",\"TX\",\"Maryl\",\"CA\",\"MS\",\"CA\",\"NE\",\"NJ\",\"OK\",\"MO\",\"NE\",\"MO\",\"CA\",\"OK\",\"TN\",\"GA\",\"NC\",\"IL\",\"IL\",\"NY\",\"MN\",\"LA\",\"FL\",\"DC\",\"TN\",\"WA\",\"NC\",\"FL\",\"NC\",\"AR\",\"MO\",\"MI\",\"TN\",\"LA\",\"PA\",\"CA\",\"NC\",\"LA\",\"CA\",\"FL\",\"NC\",\"FL\",\"VA\",\"LA\",\"CA\",\"TX\",\"AL\",\"MI\",\"NJ\",\"NJ\",\"TX\",\"UT\",\"CA\",\"KY\",\"IL\",\"FL\",\"CA\",\"MI\",\"IL\",\"IN\",\"CA\",\"NC\",\"AL\",\"IL\",\"FL\",\"NY\",\"CT\",\"MI\",\"FL\",\"TX\",\"TN\",\"KS\",\"OK\",\"FL\",\"LA\",\"MI\",\"KY\",\"FL\",\"CO\",\"OH\",\"MO\",\"PA\",\"PA\",\"IN\",\"CA\",\"KY\",\"DC\",\"PA\",\"KY\",\"FL\",\"IL\",\"DC\",\"FL\",\"AL\",\"AL\",\"TN\",\"MO\",\"AL\",\"FL\",\"MS\",\"AR\",\"AL\",\"CO\",\"NM\",\"CA\",\"TX\",\"NV\",\"TN\",\"TX\",\"NM\",\"AR\",\"NY\",\"CA\",\"VA\",\"PA\",\"UT\",\"FL\",\"MS\",\"OH\",\"CA\",\"OH\",\"WI\",\"FL\",\"SC\",\"WA\",\"AL\",\"WA\",\"LA\",\"MI\",\"TX\",\"FL\",\"PA\",\"KS\",\"MI\",\"CA\",\"CO\",\"MN\",\"CO\",\"AZ\",\"OR\",\"VA\",\"TX\",\"LA\",\"TN\",\"SC\",\"TX\",\"MO\",\"PA\",\"OR\",\"WA\",\"TX\",\"CA\",\"TX\",\"CA\",\"PA\",\"FL\",\"CA\",\"NM\",\"NY\",\"CT\",\"OR\",\"WI\",\"MN\",\"NY\",\"TX\",\"WI\",\"CO\",\"WA\",\"CA\",\"OH\",\"CA\",\"CA\",\"NV\",\"OH\",\"MI\",\"AZ\",\"Northern Mariana Isls\",\"TX\",\"PA\",\"PA\",\"NY\",\"NC\",\"Samson\",\"CA\",\"WA\",\"IL\",\"MO\",\"IL\",\"Colorado Springs\",\"NE\",\"WI\",\"VA\",\"UT\",\"Lancaster County\",\"WA\",\"IN\",\"WA\",\"CA\",\"WA\",\"MN\",\"WI\",\"OH\",\"WI\",\"CA\",\"MS\",\"MT\",\"LA\",\"CA\",\"VA\",\"CA\",\"CA\",\"MA\",\"NY\",\"Robinson Township\",\"HI\",\"TX\",\"CA\",\"GA\",\"CO\",\"WA\",\"OR\",\"PA\",\"AR\",\"CT\",\"KY\",\"MS\",\"SC\",\"AK\",\"WA\",\"OH\",\"WA\",\"CO\",\"NY\",\"CA\",\"VA\",\"IL\",\"MA\",\"CA\",\"TX\",\"IA\",\"TX\",\"CA\",\"NM\",\"KY\",\"CA\",\"SC\",\"NC\",\"IL\",\"CA\",\"CA\",\"OK\",\"PA\",\"MI\",\"NY\",\"CA\",\"NY\",\"CA\",\"WA\",\"Pennsylvania  Jenkins Township\",\"FL\",\"AK\",\"OR\",\"TX\",\"NC\",\"CA\",\"MA\",\"CA\",\"CA\",\"OH\",\"NY\",\"NY\",\"CT\",\"UT\",\"IA\",\"United States Virgin Isls\",\"NJ\",\"TX\",\"CA\",\"MS\",\"OH\",\"MI\",\"SC\",\"AZ\",\"TX\",\"CA\",\"FL\",\"KS\",\"NC\",\"NJ\",\"GA\",\"UT\",\"PR\",\"MO\",\"NC\",\"IL\",\"CO\",\"HI\"],\"name\":\"\",\"z\":[4,4,4,4,4,10,4,4,4,32,4,5,6,4,5,5,4,4,7,5,4,4,7,4,7,6,4,5,4,8,7,9,4,4,4,4,5,5,7,4,8,5,8,5,4,4,4,4,4,4,4,9,5,4,4,4,4,5,5,4,7,5,5,4,4,4,6,6,5,4,4,7,4,7,4,5,5,4,4,6,4,4,4,4,4,4,4,5,4,14,4,14,5,9,8,4,4,4,6,4,4,5,5,4,4,7,10,4,5,8,7,6,4,5,4,4,6,4,4,4,5,6,4,40,5,5,5,4,4,5,10,4,4,10,4,5,4,6,5,4,7,5,13,17,5,4,5,4,4,4,5,4,4,4,6,5,5,4,6,4,4,5,6,5,4,5,5,4,6,5,12,4,6,5,4,4,6,4,4,5,4,4,4,4,4,4,6,4,4,4,5,5,5,4,4,4,5,4,4,4,4,9,4,11,5,4,9,5,4,4,4,7,4,4,10,4,4,6,6,6,12,4,4,4,4,4,4,4,4,4,18,4,16,4,5,4,5,5,4,4,4,4,4,5,4,4,5,4,4,4,4,4,10,4,4,5,5,27,5,10,4,5,4,4,4,4,5,4,6,4,7,5,4,4,4,4,4,4,5,4,4,4,5,4,5,4,4,4,4,7,4,5,4,4,4,10,4,14,4,4,4,4,4,4,4,5,4,4,4,6,7,16,4,5,4,4,6,4,4,5,4,11,5,4,4,4,4,8,5,5,5,4,5,4,4,4,4,4,5,5,6,5,4,4,4,5,5,4,4,6,4,6,4,4,4,7,4,4,6,4,4,4,4,4,5,5,5,4,4,4,4,4,6,7,6,4,4,4,8,4,4,5,7,4,4,4,4,6,4,5,4,4,4,4,4,6,15,4,6,5,4,4,5,5,6,4,4,4,4,6,6,11,4,5,5,7,5,4,7,4,4,4,4,4,5,5,4,4,4,4,4,4,4,6,4,4,5,6,6,6,4,4,4,4,4,5,5,4,4,4,6,4,4,5,4,4,4,4,4,4,4,10,14,4,7,4,10,4,5,4,4,5,4,4,7,4,4,5,8,6,5,4,7,5,4,4,4,5,8,5,6,8,6,5,4,4,4,5,5,4,6,6,5,5,4,5,15,4,4,6,7,4,4,4,5,4,4,6,4,4,4,4,5,4,4,6,6,5,4,4,4,5,6,6,4,4,6,7,4,4,5,16,4,4,5,4,5,6,4,6,4,5,4,7,5,4,4,4,4,4,6,5,4,4,6,4,6,5,4,4,4,4,7,4,4,4,6,5,4,4,6,7,4,4,4,4,4,6,4,4,5,5,4,4,4,4,4,6,4,5,4,4,4,5,5,4,4,7,4,5,4,4,5,4,6,4,4,5,4,4,6,4,4,5,8,4,5,4,5,4,5,4,7,5,4,6,6,6,6,7,5,5,5,4,4,4,4,4,4,4,9,4,5,4,5,5,5,10,4,4,5,4,5,4,5,5,5,5,6,7,6,4,4,4,4,6,6,8,5,5,5,4,4,6,4,4,5,5,4,6,6,7,4,5,4,4,6,6,4,5,4,5,5,4,4,7,4,4,5,4,6,6,4,4,4,4,12,4,6,4,5,4,5,8,4,4,5,5,5,4,4,4,4,4,4,5,5,7,6,4,4,4,4,4,4,6,4,4,11,4,4,4,4,4,4,5,5,4,4,4,4,4,7,8,5,8,4,11,4,5,4,5,7,6,4,5,4,4,4,13,6,5,8,4,4,4,4,6,7,14,10,4,8,5,4,4,4,4,5,4,5,6,6,5,4,8,5,4,4,9,8,4,4,4,6,4,4,5,4,5,4,5,23,4,4,7,5,4,10,4,4,4,4,5,4,11,4,10,4,6,5,15,14,6,6,4,5,7,4,6,4,5,5,4,4,5,5,4,4,4,4,9,4,4,7,8,7,4,5,4,4,5,5,4,5,4,4,5,4,4,4,5,4,4,6,4,5,5,5,5,5,5,7,4,4,4,4,5,5,5,4,5,5,5,6,5,5,9,6,4,16,4,5,4,4,4,4,4,4,5,4,5,4,4,6,6,7,4,4,4,7,5,6,6,7,4,7,7,5,6,5,4,6,4,4,7,4,4,6,5,7,8,8,4,4,4,4,12,5,5,8,4,4,5,5,9,5,4,15,4,5,4,5,6,4,4,5,4,4,4,4,4,5,5,5,5,4,4,4,4,5,4,4,6,4,5,6,4,6,4,4,5,5,5,4,4,4,8,4,4,4,6,6,5,4,4,5,4,4,4,5,6,4,4,4,5,4,4,5,6,7,4,5,5,5,4,5,5,7,5,4,4,4,5,7,5,5,4,4,4,8,5,4,4,5,7,4,5,5,4,4,4,8,7,5,4,4,4,4,4,6,4,4,6,5,5,5,5,4,4,6,4,4,4,4,4,4,4,5,4,4,5,6,6,4,4,4,4,4,11,4,15,6,6,5,7,4,4,5,6,4,8,4,4,5,4,4,4,4,4,5,4,5,4,4,6,6,8,4,8,4,4,4,4,4,4,5,4,4,4,6,4,4,4,4,4,7,4,5,4,4,4,4,4,4,4,4,5,10,5,4,4,4,6,4,4,5,4,4,4,5,5,6,7,4,4,6,4,7,4,5,4,4,8,4,7,5,4,4,6,7,4,5,4,4,5,7,4,4,4,5,6,4,4,4,4,4,4,8,4,4,5,5,4,4,4,5,4,5,16,4,4,5,5,5,4,8,4,7,6,4,6,5,5,4,4,5,7,5,4,5,4,5,4,4,4,4,6,4,7,6,4,4,4,4,4,6,4,4,4,4,4,7,5,4,5,4,5,6,4,5,4,4,4,4,4,4,5,4,5,4,4,4,4,6,5,4,7,4,4,6,4,5,4,4,5,4,5,4,4,5,11,7,4,4,5,6,4,5,5,4,4,5,5,4,4,22,6,10,6,5,6,5,4,4,4,4,4,5,4,6,4,5,4,4,5,5,5,4,5,5,4,5,4,4,4,5,4,4,4,4,4,4,7,4,4,5,6,4,4,4,6,4,4,15,5,5,4,5,4,9,8,13,5,4,4,5,4,6,5,8,6,4,6,8,5,4,4,4,5,5,5,6,7,5,6,6,4,4,6,4,4,5,4,4,10,14,4,5,6,5,4,4,5,8,5,4,4,4,4,4,4,5,5,4,5,5,4,4,4,4,4,4,7,4,6,5,4,4,4,4,5,4,4,4,4,4,4,5,5,4,5,4,9,5,4,4,5,12,4,5,4,5,9,4,4,4,4,5,4,4,7,4,4,4,4,4,5,4,5,7,5,7,7,4,8,6,5,8,4,6,6,4,6,7,4,4,7,5,5,7,4,4,6,9,4,5,6,5,4,5,4,7,4,5,4,4,4,6,6,6,5,6,4,5,4,7,4,4,4,5,5,4,8,4,4,5,6,5,4,4,4,7,6,6,4,4,5,5,4,4,4,5,5,5,4,5,4,13,5,5,5,4,5,6,5,4,4,4,4,4,4,4,5,4,4,5,4,5,5,7,4,4,4,4,5,4,4,6,4,4,4,4,4,4,5,4,5,4,4,4,4,5,4,4,4,4,4,4,5,7,7,7,4,4,5,4,4,4,6,4,4,18,4,7,6,6,5,5,6,5,6,7,4,5,4,4,4,4,5,4,5,4,7,6,5,5,4,4,4,4,4,6,4,4,4,5,4,4,4,9,4,5,6,4,5,8,7,17,4,5,5,5,4,5,4,4,4,4,5,7,4,4,5,4,3,5,9,4,4,5,4,4,4,6,4,13,7,7,4,4,4,4,5,5,4,4,9,4,5,5,12,5,4,4,4,5,4,10,5,7,5,4,5,6,4,4,7,4,5,4,4,10,4,6,6,4,4,5,4,4,4,5,4,4,4,5,4,5,4,9,12,4,5,4,12,4,4,4,4,4,4,4,4,4,6,4,4,6,4,7,4,6,5,5,4,4,4,5,4,5,9,4,4,4,4,4,4,4,4,4,4,4,4,5,10,6,4,4,6,6,4,4,4,4,4,5,4,4,6,4,4,5,4,4,4,4,5,4,4,4,7,4,4,33,4,4,4,10,4,4,4,7,7,4,5,4,4,4,4,4,4,4,7,4,5,5,6,6,5,4,4,4,6,4,4,4,4,4,4,4,4,4,4,4,4,4,8,7,37,46,5,4,4,4,4,4,5,6,7,4,21,4,4,13,4,4,6,4,4,4,7,6,4,4,4,4,4,4,4,7,5,4,4,4,6,4,4,4,4,4,4,6,4,4,4,5,4,4,4,4,5,4,4,4,4,5,6,4,5,7,4,4,5,7,5,7,4,4,5,4,11,5,5,4,4,4,4,5,10,7,2,4,5,8,7,6,4,4,4,4,4,4,4,4,5,4,5,4,4,5,4,4,4,5,4,17,5,5,6,5,4,5,4,5,10,4,10,5,5,4,4,5,9,6,7,6,6,4,5,4,4,5,4,4,4,6,5,4,9,6,5,4,4,5,4,5,4,4,6,7,4,4,8,4,4,4,4,4,4,4,7,4,4,4,4,4,4,4,5,5,4,4,4,5,6,6,6,4,5,4,5,4,5,5,7,4,5,7,6,6,4,4,4,4,5,4,4,4,5,4,4,6,5,4,5,4,4,5,4,4,4,6,4,5,5,12,4,5,4,4,4,4,5,4,7,4,6,5,4,5,4,5,5,5,5,4,5,5,5,4,4,4,6,4,5,6,4,7,5,4,4,4,5,5,5,4,5,4,7,4,5,5,4,4,4,4,4,5,5,4,7,4,4,4,4,5,4,4,4,4,4,4,4,4,4,5,4,5,5,6,29,5,8,4,5,4,4,5,5,7,4,17,5,4,5,6,4,6,4,5,4,4,4,4,5,6,4,4,6,4,4,4,4,5,8,4,5,7,5,4,5,6,6,8,8,4,14,4,5,6,4,4,6,5,4,5,4,4,5,7,5,5,5,4,5,4,4,4,4,6,4,4,8,4,6,5,6,6,4,4,5,4,4,5,4,4,10,6,4,5,6,4,7,4,5,7,4,4,5,4,5,6,5,4,5,4,4,5,4,4,5,5,6,4,5,4,4,6,6,6,4,4,4,6,4,6,7,6,5,7,4,4,4,6,4,7,4,4,4,5,4,5,4,4,4,4,4,5,4,5,4,23,4,4,4,5,4,5,4,5,4,4,6,6,6,6,4,7,5,5,4,4,4,7,4,5,5,7,5,4,4,4,8,4,24,6,4,5,4,4,7,4,5,4,4,4,5,4,6,5,4,4,5,5,6,5,4,4,4,4,4,4,5,4,4,4,6,6,4,6,7,6,4,4,4,4,4,4,5,4,5,5,5,4,4,4,6,7,4,4,4,5,4,6,5,4,4,5,4,4,4,5,4,5,5,8,4,34,8,7,5,6,6,6,4,5,4,5,5,4,4,4,18,4,4,4,5,5,4,5,4,6,4,6,4,4,8,3,18,49,472,9,10,6,28,8,9,7,4,5,6,9,4,4,18,5,11,5,5,6,4,7,5,17,108,9,18,8,38,12,5,4,4,18,4,8,12,8,10,27,9,7,4,6,7,20,18,5,7,7,11,5,7,30,4,8,9,11,7,11,82,7,10,6,5,9,12,9,10,21,14,47,13,6,18,11,17,13,8,27,8,6,10,15,8,50,10,11,7,7,9,8,6,15,12,8,8,9,15,11,4,8,6,15,5,7,7,6,7,15,6,6,39,10,29,5,15,5,8,10,7,4,4,4,27,5,25,15,5,7,6,14,4,7,51,20,7,21,38,11,10,8,11,43,21,10,6,4,41,10,15,14,14,11,4,23,16,17,11,5,16,9,11,14,6,6,5,5,16,5,4,6,14,13,6,30,7,48,14,4,4,4,16,4,28,7,8,7,7,6,20],\"type\":\"choropleth\"}],                        {\"template\":{\"data\":{\"barpolar\":[{\"marker\":{\"line\":{\"color\":\"rgb(17,17,17)\",\"width\":0.5},\"pattern\":{\"fillmode\":\"overlay\",\"size\":10,\"solidity\":0.2}},\"type\":\"barpolar\"}],\"bar\":[{\"error_x\":{\"color\":\"#f2f5fa\"},\"error_y\":{\"color\":\"#f2f5fa\"},\"marker\":{\"line\":{\"color\":\"rgb(17,17,17)\",\"width\":0.5},\"pattern\":{\"fillmode\":\"overlay\",\"size\":10,\"solidity\":0.2}},\"type\":\"bar\"}],\"carpet\":[{\"aaxis\":{\"endlinecolor\":\"#A2B1C6\",\"gridcolor\":\"#506784\",\"linecolor\":\"#506784\",\"minorgridcolor\":\"#506784\",\"startlinecolor\":\"#A2B1C6\"},\"baxis\":{\"endlinecolor\":\"#A2B1C6\",\"gridcolor\":\"#506784\",\"linecolor\":\"#506784\",\"minorgridcolor\":\"#506784\",\"startlinecolor\":\"#A2B1C6\"},\"type\":\"carpet\"}],\"choropleth\":[{\"colorbar\":{\"outlinewidth\":0,\"ticks\":\"\"},\"type\":\"choropleth\"}],\"contourcarpet\":[{\"colorbar\":{\"outlinewidth\":0,\"ticks\":\"\"},\"type\":\"contourcarpet\"}],\"contour\":[{\"colorbar\":{\"outlinewidth\":0,\"ticks\":\"\"},\"colorscale\":[[0.0,\"#0d0887\"],[0.1111111111111111,\"#46039f\"],[0.2222222222222222,\"#7201a8\"],[0.3333333333333333,\"#9c179e\"],[0.4444444444444444,\"#bd3786\"],[0.5555555555555556,\"#d8576b\"],[0.6666666666666666,\"#ed7953\"],[0.7777777777777778,\"#fb9f3a\"],[0.8888888888888888,\"#fdca26\"],[1.0,\"#f0f921\"]],\"type\":\"contour\"}],\"heatmapgl\":[{\"colorbar\":{\"outlinewidth\":0,\"ticks\":\"\"},\"colorscale\":[[0.0,\"#0d0887\"],[0.1111111111111111,\"#46039f\"],[0.2222222222222222,\"#7201a8\"],[0.3333333333333333,\"#9c179e\"],[0.4444444444444444,\"#bd3786\"],[0.5555555555555556,\"#d8576b\"],[0.6666666666666666,\"#ed7953\"],[0.7777777777777778,\"#fb9f3a\"],[0.8888888888888888,\"#fdca26\"],[1.0,\"#f0f921\"]],\"type\":\"heatmapgl\"}],\"heatmap\":[{\"colorbar\":{\"outlinewidth\":0,\"ticks\":\"\"},\"colorscale\":[[0.0,\"#0d0887\"],[0.1111111111111111,\"#46039f\"],[0.2222222222222222,\"#7201a8\"],[0.3333333333333333,\"#9c179e\"],[0.4444444444444444,\"#bd3786\"],[0.5555555555555556,\"#d8576b\"],[0.6666666666666666,\"#ed7953\"],[0.7777777777777778,\"#fb9f3a\"],[0.8888888888888888,\"#fdca26\"],[1.0,\"#f0f921\"]],\"type\":\"heatmap\"}],\"histogram2dcontour\":[{\"colorbar\":{\"outlinewidth\":0,\"ticks\":\"\"},\"colorscale\":[[0.0,\"#0d0887\"],[0.1111111111111111,\"#46039f\"],[0.2222222222222222,\"#7201a8\"],[0.3333333333333333,\"#9c179e\"],[0.4444444444444444,\"#bd3786\"],[0.5555555555555556,\"#d8576b\"],[0.6666666666666666,\"#ed7953\"],[0.7777777777777778,\"#fb9f3a\"],[0.8888888888888888,\"#fdca26\"],[1.0,\"#f0f921\"]],\"type\":\"histogram2dcontour\"}],\"histogram2d\":[{\"colorbar\":{\"outlinewidth\":0,\"ticks\":\"\"},\"colorscale\":[[0.0,\"#0d0887\"],[0.1111111111111111,\"#46039f\"],[0.2222222222222222,\"#7201a8\"],[0.3333333333333333,\"#9c179e\"],[0.4444444444444444,\"#bd3786\"],[0.5555555555555556,\"#d8576b\"],[0.6666666666666666,\"#ed7953\"],[0.7777777777777778,\"#fb9f3a\"],[0.8888888888888888,\"#fdca26\"],[1.0,\"#f0f921\"]],\"type\":\"histogram2d\"}],\"histogram\":[{\"marker\":{\"pattern\":{\"fillmode\":\"overlay\",\"size\":10,\"solidity\":0.2}},\"type\":\"histogram\"}],\"mesh3d\":[{\"colorbar\":{\"outlinewidth\":0,\"ticks\":\"\"},\"type\":\"mesh3d\"}],\"parcoords\":[{\"line\":{\"colorbar\":{\"outlinewidth\":0,\"ticks\":\"\"}},\"type\":\"parcoords\"}],\"pie\":[{\"automargin\":true,\"type\":\"pie\"}],\"scatter3d\":[{\"line\":{\"colorbar\":{\"outlinewidth\":0,\"ticks\":\"\"}},\"marker\":{\"colorbar\":{\"outlinewidth\":0,\"ticks\":\"\"}},\"type\":\"scatter3d\"}],\"scattercarpet\":[{\"marker\":{\"colorbar\":{\"outlinewidth\":0,\"ticks\":\"\"}},\"type\":\"scattercarpet\"}],\"scattergeo\":[{\"marker\":{\"colorbar\":{\"outlinewidth\":0,\"ticks\":\"\"}},\"type\":\"scattergeo\"}],\"scattergl\":[{\"marker\":{\"line\":{\"color\":\"#283442\"}},\"type\":\"scattergl\"}],\"scattermapbox\":[{\"marker\":{\"colorbar\":{\"outlinewidth\":0,\"ticks\":\"\"}},\"type\":\"scattermapbox\"}],\"scatterpolargl\":[{\"marker\":{\"colorbar\":{\"outlinewidth\":0,\"ticks\":\"\"}},\"type\":\"scatterpolargl\"}],\"scatterpolar\":[{\"marker\":{\"colorbar\":{\"outlinewidth\":0,\"ticks\":\"\"}},\"type\":\"scatterpolar\"}],\"scatter\":[{\"marker\":{\"line\":{\"color\":\"#283442\"}},\"type\":\"scatter\"}],\"scatterternary\":[{\"marker\":{\"colorbar\":{\"outlinewidth\":0,\"ticks\":\"\"}},\"type\":\"scatterternary\"}],\"surface\":[{\"colorbar\":{\"outlinewidth\":0,\"ticks\":\"\"},\"colorscale\":[[0.0,\"#0d0887\"],[0.1111111111111111,\"#46039f\"],[0.2222222222222222,\"#7201a8\"],[0.3333333333333333,\"#9c179e\"],[0.4444444444444444,\"#bd3786\"],[0.5555555555555556,\"#d8576b\"],[0.6666666666666666,\"#ed7953\"],[0.7777777777777778,\"#fb9f3a\"],[0.8888888888888888,\"#fdca26\"],[1.0,\"#f0f921\"]],\"type\":\"surface\"}],\"table\":[{\"cells\":{\"fill\":{\"color\":\"#506784\"},\"line\":{\"color\":\"rgb(17,17,17)\"}},\"header\":{\"fill\":{\"color\":\"#2a3f5f\"},\"line\":{\"color\":\"rgb(17,17,17)\"}},\"type\":\"table\"}]},\"layout\":{\"annotationdefaults\":{\"arrowcolor\":\"#f2f5fa\",\"arrowhead\":0,\"arrowwidth\":1},\"autotypenumbers\":\"strict\",\"coloraxis\":{\"colorbar\":{\"outlinewidth\":0,\"ticks\":\"\"}},\"colorscale\":{\"diverging\":[[0,\"#8e0152\"],[0.1,\"#c51b7d\"],[0.2,\"#de77ae\"],[0.3,\"#f1b6da\"],[0.4,\"#fde0ef\"],[0.5,\"#f7f7f7\"],[0.6,\"#e6f5d0\"],[0.7,\"#b8e186\"],[0.8,\"#7fbc41\"],[0.9,\"#4d9221\"],[1,\"#276419\"]],\"sequential\":[[0.0,\"#0d0887\"],[0.1111111111111111,\"#46039f\"],[0.2222222222222222,\"#7201a8\"],[0.3333333333333333,\"#9c179e\"],[0.4444444444444444,\"#bd3786\"],[0.5555555555555556,\"#d8576b\"],[0.6666666666666666,\"#ed7953\"],[0.7777777777777778,\"#fb9f3a\"],[0.8888888888888888,\"#fdca26\"],[1.0,\"#f0f921\"]],\"sequentialminus\":[[0.0,\"#0d0887\"],[0.1111111111111111,\"#46039f\"],[0.2222222222222222,\"#7201a8\"],[0.3333333333333333,\"#9c179e\"],[0.4444444444444444,\"#bd3786\"],[0.5555555555555556,\"#d8576b\"],[0.6666666666666666,\"#ed7953\"],[0.7777777777777778,\"#fb9f3a\"],[0.8888888888888888,\"#fdca26\"],[1.0,\"#f0f921\"]]},\"colorway\":[\"#636efa\",\"#EF553B\",\"#00cc96\",\"#ab63fa\",\"#FFA15A\",\"#19d3f3\",\"#FF6692\",\"#B6E880\",\"#FF97FF\",\"#FECB52\"],\"font\":{\"color\":\"#f2f5fa\"},\"geo\":{\"bgcolor\":\"rgb(17,17,17)\",\"lakecolor\":\"rgb(17,17,17)\",\"landcolor\":\"rgb(17,17,17)\",\"showlakes\":true,\"showland\":true,\"subunitcolor\":\"#506784\"},\"hoverlabel\":{\"align\":\"left\"},\"hovermode\":\"closest\",\"mapbox\":{\"style\":\"dark\"},\"paper_bgcolor\":\"rgb(17,17,17)\",\"plot_bgcolor\":\"rgb(17,17,17)\",\"polar\":{\"angularaxis\":{\"gridcolor\":\"#506784\",\"linecolor\":\"#506784\",\"ticks\":\"\"},\"bgcolor\":\"rgb(17,17,17)\",\"radialaxis\":{\"gridcolor\":\"#506784\",\"linecolor\":\"#506784\",\"ticks\":\"\"}},\"scene\":{\"xaxis\":{\"backgroundcolor\":\"rgb(17,17,17)\",\"gridcolor\":\"#506784\",\"gridwidth\":2,\"linecolor\":\"#506784\",\"showbackground\":true,\"ticks\":\"\",\"zerolinecolor\":\"#C8D4E3\"},\"yaxis\":{\"backgroundcolor\":\"rgb(17,17,17)\",\"gridcolor\":\"#506784\",\"gridwidth\":2,\"linecolor\":\"#506784\",\"showbackground\":true,\"ticks\":\"\",\"zerolinecolor\":\"#C8D4E3\"},\"zaxis\":{\"backgroundcolor\":\"rgb(17,17,17)\",\"gridcolor\":\"#506784\",\"gridwidth\":2,\"linecolor\":\"#506784\",\"showbackground\":true,\"ticks\":\"\",\"zerolinecolor\":\"#C8D4E3\"}},\"shapedefaults\":{\"line\":{\"color\":\"#f2f5fa\"}},\"sliderdefaults\":{\"bgcolor\":\"#C8D4E3\",\"bordercolor\":\"rgb(17,17,17)\",\"borderwidth\":1,\"tickwidth\":0},\"ternary\":{\"aaxis\":{\"gridcolor\":\"#506784\",\"linecolor\":\"#506784\",\"ticks\":\"\"},\"baxis\":{\"gridcolor\":\"#506784\",\"linecolor\":\"#506784\",\"ticks\":\"\"},\"bgcolor\":\"rgb(17,17,17)\",\"caxis\":{\"gridcolor\":\"#506784\",\"linecolor\":\"#506784\",\"ticks\":\"\"}},\"title\":{\"x\":0.05},\"updatemenudefaults\":{\"bgcolor\":\"#506784\",\"borderwidth\":0},\"xaxis\":{\"automargin\":true,\"gridcolor\":\"#283442\",\"linecolor\":\"#506784\",\"ticks\":\"\",\"title\":{\"standoff\":15},\"zerolinecolor\":\"#283442\",\"zerolinewidth\":2},\"yaxis\":{\"automargin\":true,\"gridcolor\":\"#283442\",\"linecolor\":\"#506784\",\"ticks\":\"\",\"title\":{\"standoff\":15},\"zerolinecolor\":\"#283442\",\"zerolinewidth\":2}}},\"geo\":{\"domain\":{\"x\":[0.0,1.0],\"y\":[0.0,1.0]},\"center\":{},\"scope\":\"usa\"},\"coloraxis\":{\"colorbar\":{\"title\":{\"text\":\"Total\"}},\"colorscale\":[[0.0,\"#0d0887\"],[0.1111111111111111,\"#46039f\"],[0.2222222222222222,\"#7201a8\"],[0.3333333333333333,\"#9c179e\"],[0.4444444444444444,\"#bd3786\"],[0.5555555555555556,\"#d8576b\"],[0.6666666666666666,\"#ed7953\"],[0.7777777777777778,\"#fb9f3a\"],[0.8888888888888888,\"#fdca26\"],[1.0,\"#f0f921\"]],\"cmin\":1,\"cmax\":40},\"legend\":{\"tracegroupgap\":0},\"margin\":{\"t\":60},\"title\":{\"text\":\"Mass Shootings Map of USA states\"}},                        {\"responsive\": true}                    ).then(function(){\n",
       "                            \n",
       "var gd = document.getElementById('fcf072df-0ded-4be6-8f42-a378fcce6581');\n",
       "var x = new MutationObserver(function (mutations, observer) {{\n",
       "        var display = window.getComputedStyle(gd).display;\n",
       "        if (!display || display === 'none') {{\n",
       "            console.log([gd, 'removed!']);\n",
       "            Plotly.purge(gd);\n",
       "            observer.disconnect();\n",
       "        }}\n",
       "}});\n",
       "\n",
       "// Listen for the removal of the full notebook cells\n",
       "var notebookContainer = gd.closest('#notebook-container');\n",
       "if (notebookContainer) {{\n",
       "    x.observe(notebookContainer, {childList: true});\n",
       "}}\n",
       "\n",
       "// Listen for the clearing of the current output cell\n",
       "var outputEl = gd.closest('.output');\n",
       "if (outputEl) {{\n",
       "    x.observe(outputEl, {childList: true});\n",
       "}}\n",
       "\n",
       "                        })                };                });            </script>        </div>"
      ]
     },
     "metadata": {},
     "output_type": "display_data"
    }
   ],
   "source": [
    "fig = px.choropleth(df,\n",
    "                    locations='state_code', \n",
    "                    locationmode=\"USA-states\", \n",
    "                    scope=\"usa\",\n",
    "                    color='Total',\n",
    "                    range_color = [1,40],\n",
    "                    template = 'plotly_dark'\n",
    "                    )\n",
    "\n",
    "fig.update_layout(\n",
    "    title_text = 'Mass Shootings Map of USA states',\n",
    ")\n",
    "\n",
    "\n",
    "fig.show()"
   ]
  },
  {
   "cell_type": "markdown",
   "id": "1e521e5e",
   "metadata": {
    "papermill": {
     "duration": 0.013617,
     "end_time": "2022-07-09T16:41:31.557558",
     "exception": false,
     "start_time": "2022-07-09T16:41:31.543941",
     "status": "completed"
    },
    "tags": []
   },
   "source": [
    "## Top 15 states of USA w.r.t Mass Shootings"
   ]
  },
  {
   "cell_type": "code",
   "execution_count": 21,
   "id": "de47d5d0",
   "metadata": {
    "execution": {
     "iopub.execute_input": "2022-07-09T16:41:31.587477Z",
     "iopub.status.busy": "2022-07-09T16:41:31.586789Z",
     "iopub.status.idle": "2022-07-09T16:41:31.925505Z",
     "shell.execute_reply": "2022-07-09T16:41:31.924708Z"
    },
    "papermill": {
     "duration": 0.356278,
     "end_time": "2022-07-09T16:41:31.927659",
     "exception": false,
     "start_time": "2022-07-09T16:41:31.571381",
     "status": "completed"
    },
    "tags": []
   },
   "outputs": [
    {
     "data": {
      "image/png": "[encoded data removed]",
      "text/plain": [
       "<Figure size 1440x1152 with 1 Axes>"
      ]
     },
     "metadata": {
      "needs_background": "light"
     },
     "output_type": "display_data"
    }
   ],
   "source": [
    "data = df\n",
    "state_df = data[['State','Total']].groupby(['State']).sum().reset_index().sort_values('Total', ascending = False)\n",
    "state_dfa = state_df.head(15) #change the number to view more states\n",
    "\n",
    "plt.figure(figsize=(20,16))\n",
    "ax = sns.barplot(x='Total', y='State', data=state_dfa, palette='magma')\n",
    "plt.xticks(fontsize=13, color='midnightblue')\n",
    "plt.yticks(fontsize=13, color='midnightblue')\n",
    "plt.xlabel('Total', size = 18, color='midnightblue')\n",
    "plt.ylabel('State', size = 17 , color='midnightblue')\n",
    "plt.title('Top 15 states of USA w.r.t Mass Shootings', size = 20, color='midnightblue')\n",
    "plt.show()"
   ]
  },
  {
   "cell_type": "code",
   "execution_count": 22,
   "id": "17246cc3",
   "metadata": {
    "execution": {
     "iopub.execute_input": "2022-07-09T16:41:31.959474Z",
     "iopub.status.busy": "2022-07-09T16:41:31.958775Z",
     "iopub.status.idle": "2022-07-09T16:41:31.969535Z",
     "shell.execute_reply": "2022-07-09T16:41:31.968707Z"
    },
    "papermill": {
     "duration": 0.029355,
     "end_time": "2022-07-09T16:41:31.971737",
     "exception": false,
     "start_time": "2022-07-09T16:41:31.942382",
     "status": "completed"
    },
    "tags": []
   },
   "outputs": [],
   "source": [
    "data = df\n",
    "city_df = data[['City','Total']].groupby(['City']).sum().reset_index().sort_values('Total', ascending = False)\n",
    "city_dfa = city_df.head(15) #change the number to view more states"
   ]
  },
  {
   "cell_type": "code",
   "execution_count": 23,
   "id": "46c10ccc",
   "metadata": {
    "execution": {
     "iopub.execute_input": "2022-07-09T16:41:32.003406Z",
     "iopub.status.busy": "2022-07-09T16:41:32.002715Z",
     "iopub.status.idle": "2022-07-09T16:41:32.013084Z",
     "shell.execute_reply": "2022-07-09T16:41:32.012032Z"
    },
    "papermill": {
     "duration": 0.028884,
     "end_time": "2022-07-09T16:41:32.015233",
     "exception": false,
     "start_time": "2022-07-09T16:41:31.986349",
     "status": "completed"
    },
    "tags": []
   },
   "outputs": [
    {
     "data": {
      "text/html": [
       "<div>\n",
       "<style scoped>\n",
       "    .dataframe tbody tr th:only-of-type {\n",
       "        vertical-align: middle;\n",
       "    }\n",
       "\n",
       "    .dataframe tbody tr th {\n",
       "        vertical-align: top;\n",
       "    }\n",
       "\n",
       "    .dataframe thead th {\n",
       "        text-align: right;\n",
       "    }\n",
       "</style>\n",
       "<table border=\"1\" class=\"dataframe\">\n",
       "  <thead>\n",
       "    <tr style=\"text-align: right;\">\n",
       "      <th></th>\n",
       "      <th>City</th>\n",
       "      <th>Total</th>\n",
       "    </tr>\n",
       "  </thead>\n",
       "  <tbody>\n",
       "    <tr>\n",
       "      <th>138</th>\n",
       "      <td>Chicago</td>\n",
       "      <td>983</td>\n",
       "    </tr>\n",
       "    <tr>\n",
       "      <th>592</th>\n",
       "      <td>Paradise</td>\n",
       "      <td>479</td>\n",
       "    </tr>\n",
       "    <tr>\n",
       "      <th>611</th>\n",
       "      <td>Philadelphia</td>\n",
       "      <td>402</td>\n",
       "    </tr>\n",
       "    <tr>\n",
       "      <th>547</th>\n",
       "      <td>New York City</td>\n",
       "      <td>344</td>\n",
       "    </tr>\n",
       "    <tr>\n",
       "      <th>381</th>\n",
       "      <td>Houston</td>\n",
       "      <td>250</td>\n",
       "    </tr>\n",
       "    <tr>\n",
       "      <th>52</th>\n",
       "      <td>Baltimore</td>\n",
       "      <td>234</td>\n",
       "    </tr>\n",
       "    <tr>\n",
       "      <th>545</th>\n",
       "      <td>New Orleans</td>\n",
       "      <td>198</td>\n",
       "    </tr>\n",
       "    <tr>\n",
       "      <th>843</th>\n",
       "      <td>Washington D.C.</td>\n",
       "      <td>180</td>\n",
       "    </tr>\n",
       "    <tr>\n",
       "      <th>578</th>\n",
       "      <td>Orlando</td>\n",
       "      <td>163</td>\n",
       "    </tr>\n",
       "    <tr>\n",
       "      <th>466</th>\n",
       "      <td>Los Angeles</td>\n",
       "      <td>159</td>\n",
       "    </tr>\n",
       "    <tr>\n",
       "      <th>212</th>\n",
       "      <td>Detroit</td>\n",
       "      <td>158</td>\n",
       "    </tr>\n",
       "    <tr>\n",
       "      <th>43</th>\n",
       "      <td>Aurora</td>\n",
       "      <td>153</td>\n",
       "    </tr>\n",
       "    <tr>\n",
       "      <th>745</th>\n",
       "      <td>St. Louis</td>\n",
       "      <td>147</td>\n",
       "    </tr>\n",
       "    <tr>\n",
       "      <th>37</th>\n",
       "      <td>Atlanta</td>\n",
       "      <td>142</td>\n",
       "    </tr>\n",
       "    <tr>\n",
       "      <th>390</th>\n",
       "      <td>Indianapolis</td>\n",
       "      <td>139</td>\n",
       "    </tr>\n",
       "  </tbody>\n",
       "</table>\n",
       "</div>"
      ],
      "text/plain": [
       "                City  Total\n",
       "138          Chicago    983\n",
       "592         Paradise    479\n",
       "611     Philadelphia    402\n",
       "547    New York City    344\n",
       "381          Houston    250\n",
       "52         Baltimore    234\n",
       "545      New Orleans    198\n",
       "843  Washington D.C.    180\n",
       "578          Orlando    163\n",
       "466      Los Angeles    159\n",
       "212          Detroit    158\n",
       "43            Aurora    153\n",
       "745        St. Louis    147\n",
       "37           Atlanta    142\n",
       "390     Indianapolis    139"
      ]
     },
     "execution_count": 23,
     "metadata": {},
     "output_type": "execute_result"
    }
   ],
   "source": [
    "city_dfa"
   ]
  },
  {
   "cell_type": "markdown",
   "id": "6c92449d",
   "metadata": {
    "papermill": {
     "duration": 0.014306,
     "end_time": "2022-07-09T16:41:32.044358",
     "exception": false,
     "start_time": "2022-07-09T16:41:32.030052",
     "status": "completed"
    },
    "tags": []
   },
   "source": [
    "## Top 15 Cities of USA w.r.t Mass Shootings"
   ]
  },
  {
   "cell_type": "code",
   "execution_count": 24,
   "id": "f8c719ab",
   "metadata": {
    "execution": {
     "iopub.execute_input": "2022-07-09T16:41:32.076502Z",
     "iopub.status.busy": "2022-07-09T16:41:32.075833Z",
     "iopub.status.idle": "2022-07-09T16:41:32.404921Z",
     "shell.execute_reply": "2022-07-09T16:41:32.403995Z"
    },
    "papermill": {
     "duration": 0.347636,
     "end_time": "2022-07-09T16:41:32.407033",
     "exception": false,
     "start_time": "2022-07-09T16:41:32.059397",
     "status": "completed"
    },
    "tags": []
   },
   "outputs": [
    {
     "data": {
      "image/png": "[encoded data removed]",
      "text/plain": [
       "<Figure size 1440x1152 with 1 Axes>"
      ]
     },
     "metadata": {
      "needs_background": "light"
     },
     "output_type": "display_data"
    }
   ],
   "source": [
    "data = df\n",
    "city_df = data[['City','Total']].groupby(['City']).sum().reset_index().sort_values('Total', ascending = False)\n",
    "city_dfa = city_df.head(15) #change the number to view more states\n",
    "\n",
    "plt.figure(figsize=(20,16))\n",
    "ax = sns.barplot(x='Total', y='City', data=city_dfa, palette='magma')\n",
    "plt.xticks(fontsize=13, color='midnightblue')\n",
    "plt.yticks(fontsize=13, color='midnightblue')\n",
    "plt.xlabel('Total', size = 18, color='midnightblue')\n",
    "plt.ylabel('City', size = 17 , color='midnightblue')\n",
    "plt.title('Top 15 Cities of USA w.r.t Mass Shootings', size = 20, color='midnightblue')\n",
    "plt.show()"
   ]
  },
  {
   "cell_type": "code",
   "execution_count": 25,
   "id": "e7f02bf8",
   "metadata": {
    "execution": {
     "iopub.execute_input": "2022-07-09T16:41:32.439844Z",
     "iopub.status.busy": "2022-07-09T16:41:32.439439Z",
     "iopub.status.idle": "2022-07-09T16:41:32.456998Z",
     "shell.execute_reply": "2022-07-09T16:41:32.455930Z"
    },
    "papermill": {
     "duration": 0.036658,
     "end_time": "2022-07-09T16:41:32.459093",
     "exception": false,
     "start_time": "2022-07-09T16:41:32.422435",
     "status": "completed"
    },
    "tags": []
   },
   "outputs": [
    {
     "data": {
      "text/html": [
       "<div>\n",
       "<style scoped>\n",
       "    .dataframe tbody tr th:only-of-type {\n",
       "        vertical-align: middle;\n",
       "    }\n",
       "\n",
       "    .dataframe tbody tr th {\n",
       "        vertical-align: top;\n",
       "    }\n",
       "\n",
       "    .dataframe thead th {\n",
       "        text-align: right;\n",
       "    }\n",
       "</style>\n",
       "<table border=\"1\" class=\"dataframe\">\n",
       "  <thead>\n",
       "    <tr style=\"text-align: right;\">\n",
       "      <th></th>\n",
       "      <th>Date</th>\n",
       "      <th>City</th>\n",
       "      <th>State</th>\n",
       "      <th>Dead</th>\n",
       "      <th>Injured</th>\n",
       "      <th>Total</th>\n",
       "      <th>Description</th>\n",
       "      <th>year</th>\n",
       "      <th>month</th>\n",
       "      <th>day</th>\n",
       "      <th>day_of_week</th>\n",
       "      <th>Interval</th>\n",
       "      <th>state_code</th>\n",
       "    </tr>\n",
       "  </thead>\n",
       "  <tbody>\n",
       "    <tr>\n",
       "      <th>0</th>\n",
       "      <td>2022-07-07</td>\n",
       "      <td>Chicago</td>\n",
       "      <td>Illinois</td>\n",
       "      <td>0</td>\n",
       "      <td>4</td>\n",
       "      <td>4</td>\n",
       "      <td>Four people were wounded in a drive-by shootin...</td>\n",
       "      <td>2022</td>\n",
       "      <td>7</td>\n",
       "      <td>7</td>\n",
       "      <td>Thursday</td>\n",
       "      <td>2020s</td>\n",
       "      <td>IL</td>\n",
       "    </tr>\n",
       "    <tr>\n",
       "      <th>1</th>\n",
       "      <td>2022-07-06</td>\n",
       "      <td>Tampa</td>\n",
       "      <td>Florida</td>\n",
       "      <td>0</td>\n",
       "      <td>4</td>\n",
       "      <td>4</td>\n",
       "      <td>Four people were shot at an intersection in th...</td>\n",
       "      <td>2022</td>\n",
       "      <td>7</td>\n",
       "      <td>6</td>\n",
       "      <td>Wednesday</td>\n",
       "      <td>2020s</td>\n",
       "      <td>FL</td>\n",
       "    </tr>\n",
       "    <tr>\n",
       "      <th>2</th>\n",
       "      <td>2022-07-06</td>\n",
       "      <td>Chicago</td>\n",
       "      <td>Illinois</td>\n",
       "      <td>0</td>\n",
       "      <td>4</td>\n",
       "      <td>4</td>\n",
       "      <td>Four people were shot after three men got out ...</td>\n",
       "      <td>2022</td>\n",
       "      <td>7</td>\n",
       "      <td>6</td>\n",
       "      <td>Wednesday</td>\n",
       "      <td>2020s</td>\n",
       "      <td>IL</td>\n",
       "    </tr>\n",
       "    <tr>\n",
       "      <th>3</th>\n",
       "      <td>2022-07-06</td>\n",
       "      <td>St. Cloud</td>\n",
       "      <td>Minnesota</td>\n",
       "      <td>0</td>\n",
       "      <td>4</td>\n",
       "      <td>4</td>\n",
       "      <td>An argument in an alleyway escalated into a sh...</td>\n",
       "      <td>2022</td>\n",
       "      <td>7</td>\n",
       "      <td>6</td>\n",
       "      <td>Wednesday</td>\n",
       "      <td>2020s</td>\n",
       "      <td>MN</td>\n",
       "    </tr>\n",
       "    <tr>\n",
       "      <th>4</th>\n",
       "      <td>2022-07-05</td>\n",
       "      <td>Youngstown</td>\n",
       "      <td>Ohio</td>\n",
       "      <td>1</td>\n",
       "      <td>3</td>\n",
       "      <td>4</td>\n",
       "      <td>Four people were shot, one fatally, in the par...</td>\n",
       "      <td>2022</td>\n",
       "      <td>7</td>\n",
       "      <td>5</td>\n",
       "      <td>Tuesday</td>\n",
       "      <td>2020s</td>\n",
       "      <td>OH</td>\n",
       "    </tr>\n",
       "  </tbody>\n",
       "</table>\n",
       "</div>"
      ],
      "text/plain": [
       "        Date        City      State  Dead  Injured  Total  \\\n",
       "0 2022-07-07     Chicago   Illinois     0        4      4   \n",
       "1 2022-07-06       Tampa    Florida     0        4      4   \n",
       "2 2022-07-06     Chicago   Illinois     0        4      4   \n",
       "3 2022-07-06   St. Cloud  Minnesota     0        4      4   \n",
       "4 2022-07-05  Youngstown       Ohio     1        3      4   \n",
       "\n",
       "                                         Description  year  month  day  \\\n",
       "0  Four people were wounded in a drive-by shootin...  2022      7    7   \n",
       "1  Four people were shot at an intersection in th...  2022      7    6   \n",
       "2  Four people were shot after three men got out ...  2022      7    6   \n",
       "3  An argument in an alleyway escalated into a sh...  2022      7    6   \n",
       "4  Four people were shot, one fatally, in the par...  2022      7    5   \n",
       "\n",
       "  day_of_week Interval state_code  \n",
       "0    Thursday    2020s         IL  \n",
       "1   Wednesday    2020s         FL  \n",
       "2   Wednesday    2020s         IL  \n",
       "3   Wednesday    2020s         MN  \n",
       "4     Tuesday    2020s         OH  "
      ]
     },
     "execution_count": 25,
     "metadata": {},
     "output_type": "execute_result"
    }
   ],
   "source": [
    "df.head(5)"
   ]
  },
  {
   "cell_type": "markdown",
   "id": "5e255414",
   "metadata": {
    "papermill": {
     "duration": 0.015483,
     "end_time": "2022-07-09T16:41:32.490549",
     "exception": false,
     "start_time": "2022-07-09T16:41:32.475066",
     "status": "completed"
    },
    "tags": []
   },
   "source": [
    "## Scatter Plot of cross Injured & Dead"
   ]
  },
  {
   "cell_type": "code",
   "execution_count": 26,
   "id": "5e63c137",
   "metadata": {
    "execution": {
     "iopub.execute_input": "2022-07-09T16:41:32.524458Z",
     "iopub.status.busy": "2022-07-09T16:41:32.523719Z",
     "iopub.status.idle": "2022-07-09T16:41:32.685863Z",
     "shell.execute_reply": "2022-07-09T16:41:32.684998Z"
    },
    "papermill": {
     "duration": 0.185564,
     "end_time": "2022-07-09T16:41:32.691774",
     "exception": false,
     "start_time": "2022-07-09T16:41:32.506210",
     "status": "completed"
    },
    "tags": []
   },
   "outputs": [
    {
     "data": {
      "text/html": [
       "<div>                            <div id=\"946e8636-5b32-4875-9e24-4fdea869ccce\" class=\"plotly-graph-div\" style=\"height:525px; width:100%;\"></div>            <script type=\"text/javascript\">                require([\"plotly\"], function(Plotly) {                    window.PLOTLYENV=window.PLOTLYENV || {};                                    if (document.getElementById(\"946e8636-5b32-4875-9e24-4fdea869ccce\")) {                    Plotly.newPlot(                        \"946e8636-5b32-4875-9e24-4fdea869ccce\",                        [{\"customdata\":[[\"Chicago\",\"Illinois\",2022],[\"Tampa\",\"Florida\",2022],[\"Chicago\",\"Illinois\",2022],[\"St. Cloud\",\"Minnesota\",2022],[\"Youngstown\",\"Ohio\",2022],[\"Gary\",\"Indiana\",2022],[\"Steubenville\",\"Ohio\",2022],[\"Rochester\",\"New York\",2022],[\"Shreveport\",\"Louisiana\",2022],[\"Highland Park\",\"Illinois\",2022],[\"Boston\",\"Massachusetts\",2022],[\"Chicago\",\"Illinois\",2022],[\"Richmond\",\"Virginia\",2022],[\"Kansas City\",\"Missouri\",2022],[\"Kenosha\",\"Wisconsin\",2022],[\"Sacramento\",\"California\",2022],[\"New York City\",\"New York\",2022],[\"Denver\",\"Colorado\",2022],[\"Minneapolis\",\"Minnesota\",2022],[\"Oakland\",\"California\",2022],[\"Manassas\",\"Virginia\",2022],[\"Mullins\",\"South Carolina\",2022],[\"Surprise\",\"Arizona\",2022],[\"Tacoma\",\"Washington\",2022],[\"Haltom City\",\"Texas\",2022],[\"Clinton\",\"North Carolina\",2022],[\"New York City\",\"New York\",2022],[\"Chicago\",\"Illinois\",2022],[\"Chicago\",\"Illinois\",2022],[\"Greenwood\",\"Mississippi\",2022],[\"Allen City\",\"Kentucky\",2022],[\"Newark\",\"New Jersey\",2022],[\"Jersey City\",\"New Jersey\",2022],[\"Philadelphia\",\"Pennsylvania\",2022],[\"Ripley\",\"Tennessee\",2022],[\"Holly Springs\",\"Mississippi\",2022],[\"Charlotte\",\"North Carolina\",2022],[\"Paterson\",\"New Jersey\",2022],[\"Blakely\",\"Georgia\",2022],[\"San Antonio\",\"Texas\",2022],[\"Tacoma\",\"Washington\",2022],[\"Tacoma\",\"Washington\",2022],[\"Sutherlin\",\"Virginia\",2022],[\"Winona\",\"Texas\",2022],[\"Minneapolis\",\"Minnesota\",2022],[\"Houston\",\"Texas\",2022],[\"New York City\",\"New York\",2022],[\"Hopewell\",\"Virginia\",2022],[\"Burleson\",\"Texas\",2022],[\"Philadelphia\",\"Pennsylvania\",2022],[\"Chicago\",\"Illinois\",2022],[\"New York City\",\"New York\",2022],[\"New York City\",\"New York\",2022],[\"Detroit\",\"Michigan\",2022],[\"Washington D.C.\",\"Washington D.C.\",2022],[\"Grand Rapids\",\"Michigan\",2022],[\"Walterboro\",\"South Carolina\",2022],[\"Miami\",\"Florida\",2022],[\"Pensacola\",\"Florida\",2022],[\"Baltimore\",\"Maryl\",2022],[\"San Antonio\",\"Texas\",2022],[\"Chicago\",\"Illinois\",2022],[\"Oakland\",\"California\",2022],[\"Denmark\",\"South Carolina\",2022],[\"Casselberry\",\"Florida\",2022],[\"Claremont\",\"North Carolina\",2022],[\"Denver\",\"Colorado\",2022],[\"Gary\",\"Indiana\",2022],[\"Indianapolis\",\"Indiana\",2022],[\"Roseville\",\"Michigan\",2022],[\"Austin\",\"Texas\",2022],[\"Los Angeles\",\"California\",2022],[\"New Orleans\",\"Louisiana\",2022],[\"South Fulton\",\"Georgia\",2022],[\"Nashville\",\"Tennessee\",2022],[\"Louisville\",\"Kentucky\",2022],[\"Chicago\",\"Illinois\",2022],[\"Detroit\",\"Michigan\",2022],[\"Decatur\",\"Georgia\",2022],[\"Smithsburg\",\"Maryl\",2022],[\"Yuma\",\"Arizona\",2022],[\"Chicago\",\"Illinois\",2022],[\"Chicago\",\"Illinois\",2022],[\"Portsmouth\",\"Virginia\",2022],[\"Baltimore\",\"Maryl\",2022],[\"Salt Lake City\",\"Utah\",2022],[\"Andrews\",\"South Carolina\",2022],[\"Saginaw\",\"Michigan\",2022],[\"Mesa\",\"Arizona\",2022],[\"Chattanooga\",\"Tennessee\",2022],[\"Grand Rapids\",\"Michigan\",2022],[\"Philadelphia\",\"Pennsylvania\",2022],[\"Socorro\",\"Texas\",2022],[\"Phoenix\",\"Arizona\",2022],[\"Summerton\",\"South Carolina\",2022],[\"Macon\",\"Georgia\",2022],[\"Hempstead\",\"New York\",2022],[\"Enterprise\",\"Nevada\",2022],[\"Chester\",\"Virginia\",2022],[\"Omaha\",\"Nebraska\",2022],[\"Birch River\",\"West Virginia\",2022],[\"Centerville\",\"Texas\",2022],[\"Tulsa\",\"Oklahoma\",2022],[\"Waco\",\"Texas\",2022],[\"Wyoming\",\"Michigan\",2022],[\"Benton Harbor\",\"Michigan\",2022],[\"Charleston\",\"South Carolina\",2022],[\"Philadelphia\",\"Pennsylvania\",2022],[\"Chicago\",\"Illinois\",2022],[\"Taft\",\"Oklahoma\",2022],[\"Henderson\",\"Nevada\",2022],[\"Phoenix\",\"Arizona\",2022],[\"Fergus\",\"California\",2022],[\"Chicago\",\"Illinois\",2022],[\"Houston\",\"Texas\",2022],[\"Colorado Springs\",\"Colorado\",2022],[\"Chattanooga\",\"Tennessee\",2022],[\"Fresno\",\"California\",2022],[\"Malabar\",\"Florida\",2022],[\"Memphis\",\"Tennessee\",2022],[\"Austin Township\",\"Michigan\",2022],[\"Anniston\",\"Alabama\",2022],[\"Philadelphia\",\"Pennsylvania\",2022],[\"Uvalde\",\"Texas\",2022],[\"Cleveland\",\"Ohio\",2022],[\"North Charleston\",\"South Carolina\",2022],[\"San Juan\",\"Puerto Rico\",2022],[\"Riverside\",\"Alabama\",2022],[\"Tacoma\",\"Washington\",2022],[\"Goshen\",\"Indiana\",2022],[\"San Bernardino\",\"California\",2022],[\"New Orleans\",\"Louisiana\",2022],[\"Kissimmee\",\"Florida\",2022],[\"Chicago\",\"Illinois\",2022],[\"Houston\",\"Texas\",2022],[\"Philadelphia\",\"Pennsylvania\",2022],[\"East Palo Alto\",\"California\",2022],[\"Laguna Woods\",\"California\",2022],[\"Amarillo\",\"Texas\",2022],[\"Elizabeth City\",\"North Carolina\",2022],[\"Winston-Salem\",\"North Carolina\",2022],[\"Houston\",\"Texas\",2022],[\"Buffalo\",\"New York\",2022],[\"Milwaukee\",\"Wisconsin\",2022],[\"Dallas\",\"Texas\",2022],[\"Hot Springs\",\"Arkansas\",2022],[\"Paterson\",\"New Jersey\",2022],[\"Chicago\",\"Illinois\",2022],[\"Saint Louis\",\"Missouri\",2022],[\"Indianapolis\",\"Indiana\",2022],[\"Chicago\",\"Illinois\",2022],[\"Baltimore\",\"Maryl\",2022],[\"Philadelphia\",\"Pennsylvania\",2022],[\"Brookshire\",\"Texas\",2022],[\"Chicago\",\"Illinois\",2022],[\"Baltimore\",\"Maryl\",2022],[\"Tuscaloosa\",\"Alabama\",2022],[\"Detroit\",\"Michigan\",2022],[\"Clarkston\",\"Georgia\",2022],[\"Garland\",\"Texas\",2022],[\"Brownsville\",\"Florida\",2022],[\"Lexington\",\"Kentucky\",2022],[\"New Orleans\",\"Louisiana\",2022],[\"Sunnyside\",\"Washington\",2022],[\"Chicago\",\"Illinois\",2022],[\"Beaumont\",\"Texas\",2022],[\"Baton Rouge\",\"Louisiana\",2022],[\"Newkirk\",\"Oklahoma\",2022],[\"Tarpon Springs\",\"Florida\",2022],[\"Springfield\",\"Ohio\",2022],[\"Lafayette\",\"Louisiana\",2022],[\"Clinton\",\"North Carolina\",2022],[\"Jackson\",\"Mississippi\",2022],[\"Atlanta\",\"Georgia\",2022],[\"Laurel\",\"Mississippi\",2022],[\"Knoxville\",\"Tennessee\",2022],[\"New Orleans\",\"Louisiana\",2022],[\"Jackson\",\"Tennessee\",2022],[\"Bessemer\",\"Alabama\",2022],[\"Opelousas\",\"Louisiana\",2022],[\"Chicago\",\"Illinois\",2022],[\"Biloxi and Gulfport\",\"Mississippi\",2022],[\"Phoenix\",\"Arizona\",2022],[\"San Antonio\",\"Texas\",2022],[\"Rock Hill\",\"South Carolina\",2022],[\"Birmingham\",\"Alabama\",2022],[\"Lafayette\",\"Indiana\",2022],[\"Myrtle Beach\",\"South Carolina\",2022],[\"Rocky Mount\",\"North Carolina\",2022],[\"Chicago\",\"Illinois\",2022],[\"Atlanta\",\"Georgia\",2022],[\"San Bernardino\",\"California\",2022],[\"Washington D.C.\",\"Washington D.C.\",2022],[\"Petersburg\",\"Virginia\",2022],[\"Cincinnati\",\"Ohio\",2022],[\"Mountain View\",\"Arkansas\",2022],[\"Duluth\",\"Minnesota\",2022],[\"Cooleemee\",\"North Carolina\",2022],[\"Golden Glades\",\"Florida\",2022],[\"Portland\",\"Oregon\",2022],[\"Philadelphia\",\"Pennsylvania\",2022],[\"Furman\",\"South Carolina\",2022],[\"Sacramento\",\"California\",2022],[\"Pittsburgh\",\"Pennsylvania\",2022],[\"Baldwin\",\"Louisiana\",2022],[\"Milledgeville\",\"Georgia\",2022],[\"Columbia\",\"South Carolina\",2022],[\"Syracuse\",\"New York\",2022],[\"North Las Vegas\",\"Nevada\",2022],[\"Baltimore\",\"Maryl\",2022],[\"Paw Paw\",\"Michigan\",2022],[\"Pittsburg\",\"Texas\",2022],[\"Stockton\",\"California\",2022],[\"Walnut Township\",\"Kansas\",2022],[\"New York City\",\"New York\",2022],[\"New York City\",\"New York\",2022],[\"Baton Rouge\",\"Louisiana\",2022],[\"Willowbrook\",\"California\",2022],[\"Indianapolis\",\"Indiana\",2022],[\"Elgin\",\"Illinois\",2022],[\"Cedar Rapids\",\"Iowa\",2022],[\"Washington D.C.\",\"Washington D.C.\",2022],[\"Houston\",\"Texas\",2022],[\"Miami\",\"Florida\",2022],[\"Latimer\",\"Mississippi\",2022],[\"Philadelphia\",\"Pennsylvania\",2022],[\"Hartford\",\"Connecticut\",2022],[\"Covington\",\"Kentucky\",2022],[\"San Francisco\",\"California\",2022],[\"Buffalo\",\"New York\",2022],[\"Sacramento\",\"California\",2022],[\"Parkin and Wynne\",\"Arkansas\",2022],[\"Dallas\",\"Texas\",2022],[\"Shelby\",\"North Carolina\",2022],[\"Monroe\",\"Louisiana\",2022],[\"Shreveport\",\"Louisiana\",2022],[\"Colorado Springs\",\"Colorado\",2022],[\"Walterboro\",\"South Carolina\",2022],[\"Lebanon\",\"Pennsylvania\",2022],[\"Buffalo\",\"New York\",2022],[\"Portland\",\"Oregon\",2022],[\"New Orleans\",\"Louisiana\",2022],[\"Virginia Beach\",\"Virginia\",2022],[\"Hollister\",\"California\",2022],[\"Cleveland\",\"Ohio\",2022],[\"Colorado Springs\",\"Colorado\",2022],[\"Glendale\",\"Arizona\",2022],[\"Williamson\",\"New York\",2022],[\"Stockton\",\"California\",2022],[\"Waterbury\",\"Connecticut\",2022],[\"Chicago\",\"Illinois\",2022],[\"Milwaukee\",\"Wisconsin\",2022],[\"Dallas\",\"Texas\",2022],[\"Austin\",\"Texas\",2022],[\"Houston\",\"Texas\",2022],[\"Norfolk\",\"Virginia\",2022],[\"Madison Heights\",\"Virginia\",2022],[\"Dumas\",\"Arkansas\",2022],[\"Fayetteville\",\"North Carolina\",2022],[\"Dallas\",\"Texas\",2022],[\"Fort Worth\",\"Texas\",2022],[\"New Iberia\",\"Louisiana\",2022],[\"Lansing\",\"Michigan\",2022],[\"Fort Lauderdale\",\"Florida\",2022],[\"Chicago\",\"Illinois\",2022],[\"Irvington\",\"New Jersey\",2022],[\"Ozark\",\"Alabama\",2022],[\"Wai'anae\",\"Hawaii\",2022],[\"Albuquerque\",\"New Mexico\",2022],[\"Reading\",\"Pennsylvania\",2022],[\"Chicago\",\"Illinois\",2022],[\"Columbia\",\"South Carolina\",2022],[\"Rochester\",\"New York\",2022],[\"Autaugaville\",\"Alabama\",2022],[\"Baltimore\",\"Maryl\",2022],[\"Columbus\",\"Ohio\",2022],[\"Aurora\",\"Colorado\",2022],[\"Joplin\",\"Missouri\",2022],[\"Jacksonville\",\"Florida\",2022],[\"Knoxville\",\"Tennessee\",2022],[\"Monroe\",\"Louisiana\",2022],[\"Lubbock\",\"Texas\",2022],[\"Chester\",\"South Carolina\",2022],[\"Louisville\",\"Kentucky\",2022],[\"Hazleton\",\"Pennsylvania\",2022],[\"Minneapolis\",\"Minnesota\",2022],[\"Glendale\",\"Arizona\",2022],[\"Columbus\",\"Georgia\",2022],[\"Atlanta\",\"Georgia\",2022],[\"Paradise\",\"Nevada\",2022],[\"Baltimore\",\"Maryl\",2022],[\"Arden-Arcade\",\"California\",2022],[\"Concord\",\"California\",2022],[\"Alexandria\",\"Louisiana\",2022],[\"North Charleston\",\"South Carolina\",2022],[\"Bogalusa\",\"Louisiana\",2022],[\"Albuquerque\",\"New Mexico\",2022],[\"Winchester\",\"Nevada\",2022],[\"Baton Rouge\",\"Louisiana\",2022],[\"San Antonio\",\"Texas\",2022],[\"Granbury\",\"Texas\",2022],[\"Claxton\",\"Georgia\",2022],[\"Evans\",\"Georgia\",2022],[\"Saint Paul\",\"Minnesota\",2022],[\"Portland\",\"Oregon\",2022],[\"McComb\",\"Mississippi\",2022],[\"Omaha\",\"Nebraska\",2022],[\"Durham\",\"North Carolina\",2022],[\"Tuscaloosa\",\"Alabama\",2022],[\"Portland\",\"Oregon\",2022],[\"Turlock\",\"California\",2022],[\"Charleston\",\"Missouri\",2022],[\"Philadelphia\",\"Pennsylvania\",2022],[\"Houston\",\"Texas\",2022],[\"West Little River\",\"Florida\",2022],[\"Joliet\",\"Illinois\",2022],[\"Racine\",\"Wisconsin\",2022],[\"Los Angeles\",\"California\",2022],[\"Little Rock\",\"Arkansas\",2022],[\"Murfreesboro\",\"Tennessee\",2022],[\"Springfield\",\"Missouri\",2022],[\"Phoenix\",\"Arizona\",2022],[\"Romeoville\",\"Illinois\",2022],[\"Wilmington\",\"North Carolina\",2022],[\"Fresno\",\"California\",2022],[\"North Lauderdale\",\"Florida\",2022],[\"Las Cruces\",\"New Mexico\",2022],[\"Corsicana  and Frost\",\"Texas\",2022],[\"Blacksburg\",\"Virginia\",2022],[\"Oroville\",\"California\",2022],[\"Milwaukee\",\"Wisconsin\",2022],[\"Raleigh\",\"North Carolina\",2022],[\"Winter Haven\",\"Florida\",2022],[\"Augusta\",\"Georgia\",2022],[\"Bakersfield\",\"California\",2022],[\"Atlanta\",\"Georgia\",2022],[\"Saint Louis\",\"Missouri\",2022],[\"Goodlettsville\",\"Tennessee\",2022],[\"Ducor\",\"California\",2022],[\"Washington D.C.\",\"Washington D.C.\",2022],[\"Milwaukee\",\"Wisconsin\",2022],[\"Inglewood\",\"California\",2022],[\"Midland\",\"Washington\",2022],[\"New Orleans\",\"Louisiana\",2022],[\"Baltimore\",\"Maryl\",2022],[\"Contant\",\"United States Virgin Isls\",2022],[\"Miami\",\"Florida\",2022],[\"San Antonio\",\"Texas\",2022],[\"Savannah\",\"Georgia\",2022],[\"Brunswick\",\"Georgia\",2022],[\"Knoxville\",\"Tennessee\",2022],[\"Eugene\",\"Oregon\",2022],[\"Augusta\",\"Georgia\",2022],[\"New York City\",\"New York\",2022],[\"Chicago\",\"Illinois\",2022],[\"Montgomery\",\"Alabama\",2022],[\"Fresno\",\"California\",2022],[\"Colorado Springs\",\"Colorado\",2022],[\"Los Angeles\",\"California\",2022],[\"Houston\",\"Texas\",2022],[\"Jackson\",\"Mississippi\",2022],[\"Corsicana\",\"Texas\",2022],[\"San Antonio\",\"Texas\",2022],[\"Columbia\",\"Missouri\",2022],[\"Peoria\",\"Illinois\",2022],[\"Philadelphia\",\"Pennsylvania\",2022],[\"Dillon\",\"South Carolina\",2022],[\"Auburn\",\"Georgia\",2022],[\"Kenosha\",\"Wisconsin\",2022],[\"South Bend\",\"Indiana\",2022],[\"Denver\",\"Colorado\",2022],[\"Capitol Heights\",\"Maryl\",2021],[\"Los Angeles\",\"California\",2021],[\"Gulfport\",\"Mississippi\",2021],[\"Philadelphia\",\"Pennsylvania\",2021],[\"Kirksville\",\"Missouri\",2021],[\"Mobile\",\"Alabama\",2021],[\"Youngstown\",\"Ohio\",2021],[\"Denver  and Lakewood\",\"Colorado\",2021],[\"Garland\",\"Texas\",2021],[\"Buffalo\",\"New York\",2021],[\"Clear Brook\",\"Virginia\",2021],[\"Fayette\",\"Mississippi\",2021],[\"Philadelphia\",\"Pennsylvania\",2021],[\"Lafayette\",\"Louisiana\",2021],[\"New York City\",\"New York\",2021],[\"Roswell\",\"Georgia\",2021],[\"Swissvale\",\"Pennsylvania\",2021],[\"Brooklyn\",\"Illinois\",2021],[\"Baltimore\",\"Maryl\",2021],[\"Portsmouth\",\"Virginia\",2021],[\"Baltimore\",\"Maryl\",2021],[\"Troy\",\"Alabama\",2021],[\"Fresno\",\"California\",2021],[\"Philadelphia\",\"Pennsylvania\",2021],[\"Durham\",\"North Carolina\",2021],[\"Baytown\",\"Texas\",2021],[\"Woodbridge\",\"Virginia\",2021],[\"Bolton\",\"Mississippi\",2021],[\"Tampa\",\"Florida\",2021],[\"River Grove\",\"Illinois\",2021],[\"Lansing\",\"Michigan\",2021],[\"Orlando\",\"Florida\",2021],[\"Charlotte\",\"North Carolina\",2021],[\"Beloit\",\"Wisconsin\",2021],[\"Philadelphia\",\"Pennsylvania\",2021],[\"El Paso\",\"Texas\",2021],[\"Detroit\",\"Michigan\",2021],[\"Memphis\",\"Tennessee\",2021],[\"Elizabeth City\",\"North Carolina\",2021],[\"Rex\",\"Georgia\",2021],[\"Oxford\",\"Michigan\",2021],[\"Philadelphia\",\"Pennsylvania\",2021],[\"Lancaster\",\"California\",2021],[\"Aurora\",\"Colorado\",2021],[\"Baltimore\",\"Maryl\",2021],[\"Evanston\",\"Illinois\",2021],[\"Newark\",\"New Jersey\",2021],[\"Nashville\",\"Tennessee\",2021],[\"San Antonio\",\"Texas\",2021],[\"Green Sea\",\"South Carolina\",2021],[\"Lehigh Acres\",\"Florida\",2021],[\"Marshall\",\"Texas\",2021],[\"Warsaw\",\"North Carolina\",2021],[\"Baton Rouge\",\"Louisiana\",2021],[\"Passaic\",\"New Jersey\",2021],[\"Berwyn\",\"Illinois\",2021],[\"Fresno\",\"California\",2021],[\"Cambridge\",\"Maryl\",2021],[\"Chicago\",\"Illinois\",2021],[\"East St. Louis\",\"Illinois\",2021],[\"New York City\",\"New York\",2021],[\"Newburgh\",\"New York\",2021],[\"Aurora\",\"Colorado\",2021],[\"New York City\",\"New York\",2021],[\"Chiloquin\",\"Oregon\",2021],[\"Tucson\",\"Arizona\",2021],[\"Troy\",\"Alabama\",2021],[\"Columbia\",\"Missouri\",2021],[\"Philadelphia\",\"Pennsylvania\",2021],[\"Houma\",\"Louisiana\",2021],[\"Winston-Salem\",\"North Carolina\",2021],[\"Richmond\",\"Virginia\",2021],[\"Birmingham\",\"Alabama\",2021],[\"Rochester\",\"New York\",2021],[\"Scotland\",\"South Dakota\",2021],[\"Killona\",\"Louisiana\",2021],[\"Philadelphia\",\"Pennsylvania\",2021],[\"Kenosha\",\"Wisconsin\",2021],[\"Oakley\",\"California\",2021],[\"Marshall\",\"Texas\",2021],[\"Highland\",\"California\",2021],[\"Oakland\",\"California\",2021],[\"Norfolk\",\"Virginia\",2021],[\"Des Moines\",\"Iowa\",2021],[\"Mobile\",\"Alabama\",2021],[\"Orlando\",\"Florida\",2021],[\"San Antonio\",\"Texas\",2021],[\"Louisville\",\"Kentucky\",2021],[\"Flossmoor\",\"Illinois\",2021],[\"Lakewood\",\"Colorado\",2021],[\"Houston\",\"Texas\",2021],[\"Joliet\",\"Illinois\",2021],[\"Fort Worth\",\"Texas\",2021],[\"Sacramento\",\"California\",2021],[\"Decatur\",\"Illinois\",2021],[\"Texarkana\",\"Texas\",2021],[\"Oklahoma City\",\"Oklahoma\",2021],[\"St. Petersburg\",\"Florida\",2021],[\"Gilroy\",\"California\",2021],[\"Kalamazoo\",\"Michigan\",2021],[\"Poughkeepsie\",\"New York\",2021],[\"Las Vegas\",\"Nevada\",2021],[\"Nashville\",\"Tennessee\",2021],[\"Boise\",\"Idaho\",2021],[\"Memphis\",\"Tennessee\",2021],[\"Gonzales\",\"California\",2021],[\"Crenshaw\",\"Mississippi\",2021],[\"Fort Valley\",\"Georgia\",2021],[\"Florence\",\"South Carolina\",2021],[\"Ontario\",\"California\",2021],[\"Renton\",\"Washington\",2021],[\"Baltimore\",\"Maryl\",2021],[\"Chicago\",\"Illinois\",2021],[\"New York City\",\"New York\",2021],[\"Tacoma\",\"Washington\",2021],[\"Farwell\",\"Michigan\",2021],[\"Kenosha\",\"Wisconsin\",2021],[\"Grambling\",\"Louisiana\",2021],[\"Houston\",\"Texas\",2021],[\"Jackson\",\"Mississippi\",2021],[\"Pine Bluff\",\"Arkansas\",2021],[\"Racine\",\"Wisconsin\",2021],[\"Colorado Springs\",\"Colorado\",2021],[\"Pine Bluff\",\"Arkansas\",2021],[\"St. Louis\",\"Missouri\",2021],[\"Killeen\",\"Texas\",2021],[\"Mobile\",\"Alabama\",2021],[\"Minneapolis\",\"Minnesota\",2021],[\"Meridian\",\"Mississippi\",2021],[\"Naples\",\"Florida\",2021],[\"South Fulton\",\"Georgia\",2021],[\"Dover\",\"Delaware\",2021],[\"Chicago\",\"Illinois\",2021],[\"Sioux City\",\"Iowa\",2021],[\"McColl\",\"South Carolina\",2021],[\"Saint Paul\",\"Minnesota\",2021],[\"Dallas\",\"Texas\",2021],[\"Denver\",\"Colorado\",2021],[\"Livingston\",\"Louisiana\",2021],[\"Albany\",\"New York\",2021],[\"Baltimore\",\"Maryl\",2021],[\"Washington D.C.\",\"Washington D.C.\",2021],[\"Chicago\",\"Illinois\",2021],[\"Milwaukee\",\"Wisconsin\",2021],[\"Milwaukee\",\"Wisconsin\",2021],[\"Cleveland\",\"Ohio\",2021],[\"Baltimore\",\"Maryl\",2021],[\"New Orleans\",\"Louisiana\",2021],[\"Rockford\",\"Illinois\",2021],[\"Saint Paul\",\"Minnesota\",2021],[\"Minneapolis\",\"Minnesota\",2021],[\"Bishopville\",\"South Carolina\",2021],[\"Aurora\",\"Colorado\",2021],[\"San Antonio\",\"Texas\",2021],[\"Washington D.C.\",\"Washington D.C.\",2021],[\"Cedar Rapids\",\"Iowa\",2021],[\"Chicago\",\"Illinois\",2021],[\"Minneapolis\",\"Minnesota\",2021],[\"Chicago\",\"Illinois\",2021],[\"Chicago\",\"Illinois\",2021],[\"New York City\",\"New York\",2021],[\"Des Moines\",\"Washington\",2021],[\"Chicago\",\"Illinois\",2021],[\"Oakland\",\"California\",2021],[\"Athens\",\"Tennessee\",2021],[\"Riverside\",\"California\",2021],[\"Chattanooga\",\"Tennessee\",2021],[\"Utica\",\"New York\",2021],[\"Los Angeles\",\"California\",2021],[\"Aiken\",\"South Carolina\",2021],[\"Collierville\",\"Tennessee\",2021],[\"Philadelphia\",\"Pennsylvania\",2021],[\"Fayetteville\",\"North Carolina\",2021],[\"Washington D.C.\",\"Washington D.C.\",2021],[\"St. Louis\",\"Missouri\",2021],[\"El Monte\",\"California\",2021],[\"Philadelphia\",\"Pennsylvania\",2021],[\"Miami\",\"Florida\",2021],[\"Dallas\",\"Texas\",2021],[\"Oakland\",\"California\",2021],[\"Chicago\",\"Illinois\",2021],[\"Rochester\",\"New York\",2021],[\"Yemassee\",\"South Carolina\",2021],[\"Opelousas\",\"Louisiana\",2021],[\"Danville\",\"Illinois\",2021],[\"New York City\",\"New York\",2021],[\"New York City\",\"New York\",2021],[\"Augusta\",\"Georgia\",2021],[\"Baltimore\",\"Maryl\",2021],[\"Cleveland\",\"Ohio\",2021],[\"Milwaukee\",\"Wisconsin\",2021],[\"Saint Paul\",\"Minnesota\",2021],[\"Temple\",\"Texas\",2021],[\"Detroit\",\"Michigan\",2021],[\"Blue Island\",\"Illinois\",2021],[\"Chicago\",\"Illinois\",2021],[\"Dothan\",\"Alabama\",2021],[\"Utica\",\"New York\",2021],[\"Paterson\",\"New Jersey\",2021],[\"Chicago\",\"Illinois\",2021],[\"Orlando\",\"Florida\",2021],[\"East St. Louis\",\"Illinois\",2021],[\"Montgomery\",\"Alabama\",2021],[\"St. Louis\",\"Missouri\",2021],[\"Wilmington\",\"Delaware\",2021],[\"Wichita\",\"Kansas\",2021],[\"Atlanta\",\"Georgia\",2021],[\"Houston\",\"Texas\",2021],[\"Cincinnati\",\"Ohio\",2021],[\"Lakeland\",\"Florida\",2021],[\"Athens\",\"Georgia\",2021],[\"Detroit\",\"Michigan\",2021],[\"Wyatt\",\"Missouri\",2021],[\"New York City\",\"New York\",2021],[\"Independence\",\"Missouri\",2021],[\"Monroe\",\"Louisiana\",2021],[\"Washington D.C.\",\"Washington D.C.\",2021],[\"Birmingham\",\"Alabama\",2021],[\"Pittsburgh\",\"Pennsylvania\",2021],[\"Chicago\",\"Illinois\",2021],[\"Warner Robins\",\"Georgia\",2021],[\"Syracuse\",\"New York\",2021],[\"New Iberia\",\"Louisiana\",2021],[\"Austin\",\"Texas\",2021],[\"Niagara Falls\",\"New York\",2021],[\"Elm City\",\"North Carolina\",2021],[\"Normal\",\"Illinois\",2021],[\"Las Vegas\",\"Nevada\",2021],[\"Nashville\",\"Tennessee\",2021],[\"Milwaukee\",\"Wisconsin\",2021],[\"San Diego\",\"California\",2021],[\"Chicago\",\"Illinois\",2021],[\"Albany\",\"New York\",2021],[\"Sharon Hill\",\"Pennsylvania\",2021],[\"Huntington\",\"West Virginia\",2021],[\"Los Angeles\",\"California\",2021],[\"Minneapolis\",\"Minnesota\",2021],[\"Chicago\",\"Illinois\",2021],[\"Portland\",\"Oregon\",2021],[\"Grand Rapids\",\"Michigan\",2021],[\"Carbondale\",\"Illinois\",2021],[\"Chicago\",\"Illinois\",2021],[\"Chicago\",\"Illinois\",2021],[\"Chicago\",\"Illinois\",2021],[\"Flint\",\"Michigan\",2021],[\"Edgewood\",\"Maryl\",2021],[\"Philadelphia\",\"Pennsylvania\",2021],[\"Chicago\",\"Illinois\",2021],[\"Germantown\",\"Maryl\",2021],[\"Youngstown\",\"Ohio\",2021],[\"Los Angeles\",\"California\",2021],[\"Durham\",\"North Carolina\",2021],[\"New York City\",\"New York\",2021],[\"New York City\",\"New York\",2021],[\"Detroit\",\"Michigan\",2021],[\"San Antonio\",\"Texas\",2021],[\"Chicago\",\"Illinois\",2021],[\"Indianapolis\",\"Indiana\",2021],[\"Trenton\",\"New Jersey\",2021],[\"Akron\",\"Ohio\",2021],[\"New York City\",\"New York\",2021],[\"Las Vegas\",\"Nevada\",2021],[\"Philadelphia\",\"Pennsylvania\",2021],[\"Clarksdale\",\"Mississippi\",2021],[\"Portland\",\"Oregon\",2021],[\"Flint\",\"Michigan\",2021],[\"Boston\",\"Massachusetts\",2021],[\"Houston\",\"Texas\",2021],[\"Chicago\",\"Illinois\",2021],[\"New York City\",\"New York\",2021],[\"New Orleans\",\"Louisiana\",2021],[\"Chicago\",\"Illinois\",2021],[\"Montgomery\",\"Alabama\",2021],[\"Chicago\",\"Illinois\",2021],[\"Norfolk\",\"Virginia\",2021],[\"Nashville\",\"Tennessee\",2021],[\"Philadelphia\",\"Pennsylvania\",2021],[\"Urbana\",\"Illinois\",2021],[\"Greenwood\",\"South Carolina\",2021],[\"Columbia\",\"South Carolina\",2021],[\"New Orleans\",\"Louisiana\",2021],[\"Providence\",\"Rhode Isl\",2021],[\"Nacogdoches\",\"Texas\",2021],[\"New Orleans\",\"Louisiana\",2021],[\"Lexington\",\"Kentucky\",2021],[\"Indianapolis\",\"Indiana\",2021],[\"New York City\",\"New York\",2021],[\"Saginaw\",\"Michigan\",2021],[\"Chicago\",\"Illinois\",2021],[\"Columbus\",\"Ohio\",2021],[\"Davenport\",\"Iowa\",2021],[\"Pittsburgh\",\"Pennsylvania\",2021],[\"Washington D.C.\",\"Washington D.C.\",2021],[\"Charleston\",\"South Carolina\",2021],[\"Fort Worth\",\"Texas\",2021],[\"Seattle\",\"Washington\",2021],[\"Chicago\",\"Illinois\",2021],[\"Wasco\",\"California\",2021],[\"Detroit\",\"Michigan\",2021],[\"Amarillo\",\"Texas\",2021],[\"Macon\",\"Georgia\",2021],[\"Columbus\",\"Ohio\",2021],[\"Darlington\",\"South Carolina\",2021],[\"Spartanburg\",\"South Carolina\",2021],[\"San Rafael\",\"California\",2021],[\"Houston\",\"Texas\",2021],[\"Chicago\",\"Illinois\",2021],[\"Chicago\",\"Illinois\",2021],[\"Adelphi\",\"Maryl\",2021],[\"Chicago\",\"Illinois\",2021],[\"Jacksonville\",\"Texas\",2021],[\"Chicago\",\"Illinois\",2021],[\"Perth Amboy\",\"New Jersey\",2021],[\"Burlington\",\"North Carolina\",2021],[\"Toledo\",\"Ohio\",2021],[\"Gainesville\",\"Florida\",2021],[\"Houston\",\"Texas\",2021],[\"Walnut Creek\",\"California\",2021],[\"Tucson\",\"Arizona\",2021],[\"Chicago\",\"Illinois\",2021],[\"Portland\",\"Oregon\",2021],[\"Greenville\",\"South Carolina\",2021],[\"Philadelphia\",\"Pennsylvania\",2021],[\"Chicago\",\"Illinois\",2021],[\"Manchester\",\"New Hampshire\",2021],[\"Washington D.C.\",\"Washington D.C.\",2021],[\"Sacramento\",\"California\",2021],[\"Levelland\",\"Texas\",2021],[\"Lake Ozark\",\"Missouri\",2021],[\"Boston\",\"Massachusetts\",2021],[\"Chicago\",\"Illinois\",2021],[\"Chicago\",\"Illinois\",2021],[\"Claymont\",\"Delaware\",2021],[\"Indianapolis\",\"Indiana\",2021],[\"Detroit\",\"Michigan\",2021],[\"Iselin\",\"New Jersey\",2021],[\"New York City\",\"New York\",2021],[\"Beaver Falls\",\"Pennsylvania\",2021],[\"Castroville\",\"California\",2021],[\"El Paso\",\"Texas\",2021],[\"Philadelphia\",\"Pennsylvania\",2021],[\"Springfield\",\"Ohio\",2021],[\"Boston\",\"Massachusetts\",2021],[\"Hartford\",\"Connecticut\",2021],[\"Santa Rosa\",\"California\",2021],[\"Toledo\",\"Ohio\",2021],[\"Buffalo\",\"New York\",2021],[\"Chicago\",\"Illinois\",2021],[\"Cleveland\",\"Ohio\",2021],[\"Dallas\",\"Texas\",2021],[\"Kansas City\",\"Missouri\",2021],[\"Dallas\",\"Texas\",2021],[\"Fort Worth\",\"Texas\",2021],[\"Thermal\",\"California\",2021],[\"Danville\",\"Illinois\",2021],[\"Rantoul\",\"Illinois\",2021],[\"Cincinnati\",\"Ohio\",2021],[\"Omaha\",\"Nebraska\",2021],[\"Peoria\",\"Illinois\",2021],[\"Chadbourn\",\"North Carolina\",2021],[\"Lancaster\",\"Pennsylvania\",2021],[\"Swainsboro\",\"Georgia\",2021],[\"Chicago\",\"Illinois\",2021],[\"Norfolk\",\"Virginia\",2021],[\"Champaign\",\"Illinois\",2021],[\"Philadelphia\",\"Pennsylvania\",2021],[\"Chicago\",\"Illinois\",2021],[\"Spartanburg\",\"South Carolina\",2021],[\"Chesapeake\",\"Virginia\",2021],[\"Dover\",\"Delaware\",2021],[\"Houston\",\"Texas\",2021],[\"Chicago\",\"Illinois\",2021],[\"Marrero\",\"Louisiana\",2021],[\"Rochester\",\"New York\",2021],[\"Chicago\",\"Illinois\",2021],[\"Memphis\",\"Tennessee\",2021],[\"Greensboro\",\"North Carolina\",2021],[\"Chicago\",\"Illinois\",2021],[\"St. Charles\",\"Illinois\",2021],[\"Fort Deposit\",\"Alabama\",2021],[\"Chicago\",\"Illinois\",2021],[\"Houston\",\"Texas\",2021],[\"Columbus\",\"Ohio\",2021],[\"Chicago\",\"Illinois\",2021],[\"New York City\",\"New York\",2021],[\"Gainesville\",\"Florida\",2021],[\"Montgomery\",\"Alabama\",2021],[\"Chicago\",\"Illinois\",2021],[\"Buffalo\",\"New York\",2021],[\"Chicago\",\"Illinois\",2021],[\"Washington D.C.\",\"Washington D.C.\",2021],[\"St. Louis\",\"Missouri\",2021],[\"Richmond\",\"California\",2021],[\"Granger\",\"Indiana\",2021],[\"Dallas\",\"Texas\",2021],[\"Atlantic City\",\"New Jersey\",2021],[\"Wildwood\",\"Florida\",2021],[\"Cincinnati\",\"Ohio\",2021],[\"Aurora\",\"Colorado\",2021],[\"Richmond\",\"Virginia\",2021],[\"Anchorage\",\"Alaska\",2021],[\"Oakland\",\"California\",2021],[\"Baton Rouge\",\"Louisiana\",2021],[\"Newark\",\"New Jersey\",2021],[\"Minneapolis\",\"Minnesota\",2021],[\"Durham\",\"North Carolina\",2021],[\"Petersburg\",\"Virginia\",2021],[\"Paterson\",\"New Jersey\",2021],[\"Glendale\",\"Peoria\",2021],[\"Baltimore\",\"Maryl\",2021],[\"Chicago\",\"Illinois\",2021],[\"Chicago\",\"Illinois\",2021],[\"Albertville\",\"Alabama\",2021],[\"Lansing\",\"Michigan\",2021],[\"Boynton Beach\",\"Florida\",2021],[\"Louisville\",\"Kentucky\",2021],[\"West Salem\",\"Ohio\",2021],[\"Cleveland\",\"Ohio\",2021],[\"Austin\",\"Texas\",2021],[\"Chicago\",\"Illinois\",2021],[\"Cincinnati\",\"Ohio\",2021],[\"Savannah\",\"Georgia\",2021],[\"Dallas\",\"Texas\",2021],[\"Winston-Salem\",\"North Carolina\",2021],[\"White Center\",\"Washington\",2021],[\"Detroit\",\"Michigan\",2021],[\"Yonkers\",\"New York\",2021],[\"Memphis\",\"Tennessee\",2021],[\"Nashville\",\"Tennessee\",2021],[\"Houston\",\"Texas\",2021],[\"Homestead\",\"Florida\",2021],[\"Cleveland\",\"Ohio\",2021],[\"Salt Lake City\",\"Utah\",2021],[\"Portland\",\"Oregon\",2021],[\"Chicago\",\"Illinois\",2021],[\"Oakland\",\"California\",2021],[\"St. Louis\",\"Missouri\",2021],[\"Maury\",\"North Carolina\",2021],[\"Kendall\",\"Florida\",2021],[\"New Orleans\",\"Louisiana\",2021],[\"Indianapolis\",\"Indiana\",2021],[\"Fruitport Township\",\"Michigan\",2021],[\"Magnolia\",\"Arkansas\",2021],[\"Springfield\",\"Ohio\",2021],[\"Wilmington\",\"Delaware\",2021],[\"Toledo\",\"Ohio\",2021],[\"New York City\",\"New York\",2021],[\"St. Louis\",\"Missouri\",2021],[\"Garfield Heights\",\"Ohio\",2021],[\"Chicago\",\"Illinois\",2021],[\"Aliceville\",\"Alabama\",2021],[\"Hialeah\",\"Florida\",2021],[\"San Antonio\",\"Texas\",2021],[\"Dellwood\",\"Missouri\",2021],[\"Miami\",\"Florida\",2021],[\"Durham\",\"North Carolina\",2021],[\"Chicago\",\"Illinois\",2021],[\"San Jose\",\"California\",2021],[\"Bay Shore\",\"New York\",2021],[\"Inkster\",\"Michigan\",2021],[\"West Jefferson\",\"Ohio\",2021],[\"Chicago\",\"Illinois\",2021],[\"Paterson\",\"New Jersey\",2021],[\"Norfolk\",\"Virginia\",2021],[\"Youngstown\",\"Ohio\",2021],[\"Park Forest\",\"Illinois\",2021],[\"Minneapolis\",\"Minnesota\",2021],[\"San Angelo\",\"Texas\",2021],[\"Columbus\",\"Ohio\",2021],[\"Fort Wayne\",\"Indiana\",2021],[\"North Charleston\",\"South Carolina\",2021],[\"Fairfield Township\",\"New Jersey\",2021],[\"Albany\",\"New York\",2021],[\"Jersey City\",\"New Jersey\",2021],[\"Evansville\",\"Indiana\",2021],[\"Hemet\",\"California\",2021],[\"Oakland\",\"California\",2021],[\"Portland\",\"Oregon\",2021],[\"Stone Mountain\",\"Georgia\",2021],[\"Columbus\",\"Georgia\",2021],[\"Birmingham\",\"Alabama\",2021],[\"East Lansing\",\"Michigan\",2021],[\"Atlanta\",\"Georgia\",2021],[\"Cincinnati\",\"Ohio\",2021],[\"Chicago\",\"Illinois\",2021],[\"New York City\",\"New York\",2021],[\"Washington D.C.\",\"Washington D.C.\",2021],[\"Philadelphia\",\"Pennsylvania\",2021],[\"Washington D.C.\",\"Washington D.C.\",2021],[\"Augusta\",\"Georgia\",2021],[\"Providence\",\"Rhode Isl\",2021],[\"Buford\",\"Georgia\",2021],[\"Baltimore\",\"Maryl\",2021],[\"Montgomery\",\"Alabama\",2021],[\"Phoenix\",\"Arizona\",2021],[\"Colorado Springs\",\"Colorado\",2021],[\"Detroit\",\"Michigan\",2021],[\"Gwynn Oak\",\"Maryl\",2021],[\"Oakland\",\"California\",2021],[\"Citrus Heights\",\"California\",2021],[\"Kinloch\",\"Missouri\",2021],[\"Paterson\",\"New Jersey\",2021],[\"Chicago\",\"Illinois\",2021],[\"Saginaw\",\"Michigan\",2021],[\"Saint Paul\",\"Minnesota\",2021],[\"Columbus\",\"Ohio\",2021],[\"Chicago\",\"Illinois\",2021],[\"Baltimore\",\"Maryl\",2021],[\"Philadelphia\",\"Pennsylvania\",2021],[\"Clewiston\",\"Florida\",2021],[\"New Rochelle\",\"New York\",2021],[\"Wilmington\",\"Delaware\",2021],[\"Atlanta\",\"Georgia\",2021],[\"New Orleans\",\"Louisiana\",2021],[\"Ashwaubenon\",\"Wisconsin\",2021],[\"Holyoke\",\"Massachusetts\",2021],[\"Atlanta\",\"Georgia\",2021],[\"Miami\",\"Florida\",2021],[\"Boone\",\"North Carolina\",2021],[\"Fairfield\",\"Alabama\",2021],[\"Richmond\",\"Virginia\",2021],[\"Gresham\",\"Oregon\",2021],[\"Palestine\",\"Texas\",2021],[\"Little Rock\",\"Arkansas\",2021],[\"Kansas City\",\"Missouri\",2021],[\"Phenix City\",\"Alabama\",2021],[\"Houma\",\"Louisiana\",2021],[\"New Orleans\",\"Louisiana\",2021],[\"San Diego\",\"California\",2021],[\"Saint Croix\",\"United States Virgin Isls\",2021],[\"Houston\",\"Texas\",2021],[\"Atlanta\",\"Georgia\",2021],[\"Montgomery\",\"Alabama\",2021],[\"Detroit\",\"Michigan\",2021],[\"Kenosha\",\"Wisconsin\",2021],[\"Shreveport\",\"Louisiana\",2021],[\"LaPlace\",\"Louisiana\",2021],[\"Columbus\",\"Ohio\",2021],[\"Detroit\",\"Michigan\",2021],[\"Indianapolis\",\"Indiana\",2021],[\"Washington D.C.\",\"Washington D.C.\",2021],[\"Pensacola\",\"Florida\",2021],[\"Chicago\",\"Illinois\",2021],[\"Baltimore\",\"Maryl\",2021],[\"Chicago\",\"Illinois\",2021],[\"Nashville\",\"Tennessee\",2021],[\"Carroll County\",\"Georgia\",2021],[\"Wichita\",\"Kansas\",2021],[\"Seattle\",\"Washington\",2021],[\"Koshkonong\",\"Missouri\",2021],[\"Memphis\",\"Tennessee\",2021],[\"Waterbury\",\"Connecticut\",2021],[\"Allendale\",\"Michigan\",2021],[\"Fort Worth\",\"Texas\",2021],[\"Bryan\",\"Texas\",2021],[\"Rock Hill\",\"South Carolina\",2021],[\"Milwaukee\",\"Wisconsin\",2021],[\"New York City\",\"New York\",2021],[\"Detroit\",\"Michigan\",2021],[\"Chicago\",\"Illinois\",2021],[\"Baltimore\",\"Maryl\",2021],[\"Allen\",\"Texas\",2021],[\"Monroe\",\"Louisiana\",2021],[\"Birmingham\",\"Alabama\",2021],[\"Beaumont\",\"Texas\",2021],[\"Wilmington\",\"North Carolina\",2021],[\"Quincy\",\"Florida\",2021],[\"Tuscaloosa\",\"Alabama\",2021],[\"Orange\",\"California\",2021],[\"Washington D.C.\",\"Washington D.C.\",2021],[\"Houston\",\"Texas\",2021],[\"Essex\",\"Maryl\",2021],[\"Chicago\",\"Illinois\",2021],[\"San Antonio\",\"Texas\",2021],[\"Cleveland\",\"Ohio\",2021],[\"Chicago\",\"Illinois\",2021],[\"River Grove\",\"Illinois\",2021],[\"Yazoo City\",\"Mississippi\",2021],[\"Memphis\",\"Tennessee\",2021],[\"Philadelphia\",\"Pennsylvania\",2021],[\"Virginia Beach\",\"Virginia\",2021],[\"Chicago\",\"Illinois\",2021],[\"Atlanta\",\"Georgia\",2021],[\"Aliceville\",\"Alabama\",2021],[\"Detroit\",\"Michigan\",2021],[\"Cleveland\",\"Ohio\",2021],[\"Boulder\",\"Colorado\",2021],[\"Houston\",\"Texas\",2021],[\"Philadelphia\",\"Pennsylvania\",2021],[\"Dallas\",\"Texas\",2021],[\"New Orleans\",\"Louisiana\",2021],[\"Gresham\",\"Oregon\",2021],[\"Stockton\",\"California\",2021],[\"Phoenix\",\"Arizona\",2021],[\"Atlanta  and Acworth\",\"Georgia\",2021],[\"Indianapolis\",\"Indiana\",2021],[\"Chicago\",\"Illinois\",2021],[\"Chicago\",\"Illinois\",2021],[\"Tampa\",\"Florida\",2021],[\"Indianapolis\",\"Indiana\",2021],[\"Orlando\",\"Florida\",2021],[\"New York City\",\"New York\",2021],[\"Richmond\",\"Virginia\",2021],[\"Greensboro\",\"North Carolina\",2021],[\"Chamita\",\"New Mexico\",2021],[\"Columbia\",\"South Carolina\",2021],[\"Philadelphia\",\"Pennsylvania\",2021],[\"Philadelphia\",\"Pennsylvania\",2021],[\"Houston\",\"Texas\",2021],[\"Clearwater\",\"Florida\",2021],[\"Edwards\",\"Mississippi\",2021],[\"Yuba City\",\"California\",2021],[\"Fayetteville\",\"North Carolina\",2021],[\"Compton\",\"California\",2021],[\"Washington D.C.\",\"Washington D.C.\",2021],[\"Erie\",\"Pennsylvania\",2021],[\"Houston\",\"Texas\",2021],[\"McCormick\",\"South Carolina\",2021],[\"Dover\",\"Delaware\",2021],[\"Shreveport\",\"Louisiana\",2021],[\"Frederiksted\",\"United States Virgin Isls\",2021],[\"East Chicago\",\"Indiana\",2021],[\"Cincinnati\",\"Ohio\",2021],[\"Columbus\",\"Mississippi\",2021],[\"Pattison\",\"Mississippi\",2021],[\"Saint Croix\",\"United States Virgin Isls\",2021],[\"San Diego\",\"California\",2021],[\"Houston\",\"Texas\",2021],[\"Baton Rouge\",\"Louisiana\",2021],[\"Teachey\",\"North Carolina\",2021],[\"Kennett\",\"Missouri\",2021],[\"Metairie\",\"Louisiana\",2021],[\"Springfield\",\"Illinois\",2021],[\"East Norriton\",\"Pennsylvania\",2021],[\"Grand Junction\",\"Colorado\",2021],[\"Baton Rouge\",\"Louisiana\",2021],[\"Philadelphia\",\"Pennsylvania\",2021],[\"St. Petersburg\",\"Florida\",2021],[\"Indianapolis\",\"Indiana\",2021],[\"Cary\",\"North Carolina\",2021],[\"Oakland\",\"California\",2021],[\"San Francisco\",\"California\",2021],[\"Columbus\",\"Georgia\",2021],[\"Atlanta\",\"Georgia\",2021],[\"Houston\",\"Texas\",2021],[\"Buffalo\",\"Minnesota\",2021],[\"Mobile\",\"Alabama\",2021],[\"Thibodaux\",\"Louisiana\",2021],[\"Tacoma\",\"Washington\",2021],[\"Murfreesboro\",\"Tennessee\",2021],[\"Bloomingdale\",\"Illinois\",2021],[\"Martinsville\",\"Virginia\",2021],[\"Mohnton\",\"Pennsylvania\",2021],[\"Bolivar\",\"Mississippi\",2021],[\"High Point\",\"North Carolina\",2021],[\"Memphis\",\"Tennessee\",2021],[\"Colorado Springs\",\"Colorado\",2021],[\"Oak Creek\",\"Colorado\",2021],[\"Sunrise\",\"Florida\",2021],[\"Muskogee\",\"Oklahoma\",2021],[\"Rochester\",\"New York\",2021],[\"Albany\",\"New York\",2021],[\"McKees Rocks\",\"Pennsylvania\",2021],[\"Flint\",\"Michigan\",2021],[\"Santa Ana\",\"California\",2021],[\"Washington D.C.\",\"Washington D.C.\",2021],[\"Las Vegas\",\"Nevada\",2021],[\"Indianapolis\",\"Indiana\",2021],[\"Covington\",\"Kentucky\",2021],[\"Oakland\",\"California\",2021],[\"Crowley\",\"Louisiana\",2021],[\"Tobyhanna\",\"Pennsylvania\",2021],[\"Phoenix\",\"Arizona\",2021],[\"Phoenix\",\"Arizona\",2021],[\"Kankakee\",\"Illinois\",2021],[\"San Francisco\",\"California\",2021],[\"Philadelphia\",\"Pennsylvania\",2021],[\"Miami\",\"Florida\",2021],[\"Houston\",\"Texas\",2021],[\"Chicago  and Evanston\",\"Illinois\",2021],[\"Washington D.C.\",\"Washington D.C.\",2021],[\"Manassas\",\"Virginia\",2021],[\"Livingston\",\"Texas\",2021],[\"Tampa\",\"Florida\",2021],[\"Lauderhill\",\"Florida\",2021],[\"New Orleans\",\"Louisiana\",2021],[\"Houston\",\"Texas\",2021],[\"Shreveport\",\"Louisiana\",2021],[\"Santa Barbara\",\"California\",2021],[\"Miami\",\"Florida\",2021],[\"Gresham\",\"Oregon\",2021],[\"Miami\",\"Florida\",2021],[\"Fort Smith\",\"Arkansas\",2021],[\"Sioux City\",\"Iowa\",2021],[\"Amarillo\",\"Texas\",2021],[\"Galesburg\",\"Illinois\",2021],[\"Happy Valley\",\"Oregon\",2020],[\"Indianapolis\",\"Indiana\",2020],[\"Smith Bay\",\"United States Virgin Isls\",2020],[\"Lynn\",\"Massachusetts\",2020],[\"Miami\",\"Florida\",2020],[\"Tampa\",\"Florida\",2020],[\"Rockford\",\"Illinois\",2020],[\"Atkins\",\"Arkansas\",2020],[\"Boynton Beach\",\"Florida\",2020],[\"Lakeland\",\"Florida\",2020],[\"Meridian\",\"Mississippi\",2020],[\"Mayfield\",\"Kentucky\",2020],[\"Bridgeport\",\"Connecticut\",2020],[\"Chicago\",\"Illinois\",2020],[\"Philadelphia\",\"Pennsylvania\",2020],[\"St. Louis\",\"Missouri\",2020],[\"Elkview\",\"West Virginia\",2020],[\"New York City\",\"New York\",2020],[\"Landover\",\"Maryl\",2020],[\"San Bernardino\",\"California\",2020],[\"Copiague\",\"New York\",2020],[\"Jackson\",\"Mississippi\",2020],[\"Tifton\",\"Georgia\",2020],[\"Metairie\",\"Louisiana\",2020],[\"Lacombe\",\"Louisiana\",2020],[\"Venus\",\"Texas\",2020],[\"Autryville\",\"North Carolina\",2020],[\"Hayward\",\"California\",2020],[\"Chicago\",\"Illinois\",2020],[\"Morrisville\",\"Pennsylvania\",2020],[\"Palmer\",\"Alaska\",2020],[\"Memphis\",\"Tennessee\",2020],[\"Grenada\",\"Mississippi\",2020],[\"New Orleans\",\"Louisiana\",2020],[\"Aiken\",\"South Carolina\",2020],[\"Toledo\",\"Ohio\",2020],[\"Macon\",\"Georgia\",2020],[\"Henderson\",\"Nevada\",2020],[\"New York City\",\"New York\",2020],[\"Trenton\",\"New Jersey\",2020],[\"Bellevue\",\"Nebraska\",2020],[\"Phoenix\",\"Arizona\",2020],[\"Chicago\",\"Illinois\",2020],[\"Elberta\",\"Michigan\",2020],[\"Wauwatosa\",\"Wisconsin\",2020],[\"Haines City\",\"Florida\",2020],[\"Florence\",\"South Carolina\",2020],[\"Houston\",\"Texas\",2020],[\"Jackson\",\"Tennessee\",2020],[\"Chicago\",\"Illinois\",2020],[\"Miami\",\"Florida\",2020],[\"Chicago\",\"Illinois\",2020],[\"Riverdale\",\"Georgia\",2020],[\"Shreveport\",\"Louisiana\",2020],[\"Sumter\",\"South Carolina\",2020],[\"Riverside\",\"California\",2020],[\"Cincinnati\",\"Ohio\",2020],[\"Fulton\",\"Missouri\",2020],[\"Gastonia\",\"North Carolina\",2020],[\"Tampa\",\"Florida\",2020],[\"Tampa\",\"Florida\",2020],[\"Fort Worth\",\"Texas\",2020],[\"Nashville\",\"Tennessee\",2020],[\"Virginia Beach\",\"Virginia\",2020],[\"Rock Hill\",\"South Carolina\",2020],[\"Ogden\",\"Kansas\",2020],[\"New Orleans\",\"Louisiana\",2020],[\"Toledo\",\"Ohio\",2020],[\"Jefferson City\",\"Missouri\",2020],[\"Henderson\",\"Nevada\",2020],[\"Winston-Salem\",\"North Carolina\",2020],[\"Evansville\",\"Indiana\",2020],[\"Atlantic City\",\"New Jersey\",2020],[\"Hollywood\",\"South Carolina\",2020],[\"Rochester\",\"New York\",2020],[\"Oklahoma City\",\"Oklahoma\",2020],[\"Tucson\",\"Arizona\",2020],[\"Anaheim\",\"California\",2020],[\"Las Vegas\",\"Nevada\",2020],[\"College Park\",\"Maryl\",2020],[\"Sacramento\",\"California\",2020],[\"Sumner\",\"Washington\",2020],[\"Waldorf\",\"Maryl\",2020],[\"Chicago\",\"Illinois\",2020],[\"Winter Garden\",\"Florida\",2020],[\"Roanoke\",\"Virginia\",2020],[\"Newark\",\"New Jersey\",2020],[\"Bessemer\",\"Alabama\",2020],[\"San Antonio\",\"Texas\",2020],[\"Raleigh\",\"North Carolina\",2020],[\"Fort Worth\",\"Texas\",2020],[\"Greenwood\",\"Mississippi\",2020],[\"Rayne\",\"Louisiana\",2020],[\"Miami\",\"Florida\",2020],[\"Boston\",\"Massachusetts\",2020],[\"Baltimore\",\"Maryl\",2020],[\"New York City\",\"New York\",2020],[\"Canton\",\"Mississippi\",2020],[\"Houston\",\"Texas\",2020],[\"Mansfield\",\"Ohio\",2020],[\"New Orleans\",\"Louisiana\",2020],[\"Nashville\",\"Tennessee\",2020],[\"Annapolis\",\"Maryl\",2020],[\"Chicago\",\"Illinois\",2020],[\"Rock Hill\",\"South Carolina\",2020],[\"Lockport\",\"New York\",2020],[\"Mesa\",\"Arizona\",2020],[\"San Francisco\",\"California\",2020],[\"Orlando\",\"Florida\",2020],[\"San Jose\",\"California\",2020],[\"Lafayette\",\"Louisiana\",2020],[\"Baltimore\",\"Maryl\",2020],[\"Philadelphia\",\"Pennsylvania\",2020],[\"Myrtle Beach\",\"South Carolina\",2020],[\"Atlanta\",\"Georgia\",2020],[\"Chicago\",\"Illinois\",2020],[\"Kingstree\",\"South Carolina\",2020],[\"Jennings\",\"Missouri\",2020],[\"Philadelphia\",\"Pennsylvania\",2020],[\"Anchorage\",\"Alaska\",2020],[\"New York City\",\"New York\",2020],[\"Washington D.C.\",\"Washington D.C.\",2020],[\"Atlanta\",\"Georgia\",2020],[\"Indianapolis\",\"Indiana\",2020],[\"Sacramento\",\"California\",2020],[\"Clarksville\",\"Tennessee\",2020],[\"Seattle\",\"Washington\",2020],[\"New Orleans\",\"Louisiana\",2020],[\"Detroit\",\"Michigan\",2020],[\"Milwaukee\",\"Wisconsin\",2020],[\"Jacksonville\",\"Florida\",2020],[\"Greensboro\",\"North Carolina\",2020],[\"Plainsville\",\"Ohio\",2020],[\"Philadelphia\",\"Pennsylvania\",2020],[\"Detroit\",\"Michigan\",2020],[\"Nashville\",\"Tennessee\",2020],[\"Sandusky\",\"Ohio\",2020],[\"San Bernardino\",\"California\",2020],[\"Enterprise\",\"Alabama\",2020],[\"Philadelphia\",\"Pennsylvania\",2020],[\"Chicago\",\"Illinois\",2020],[\"Waterloo\",\"Iowa\",2020],[\"Philadelphia\",\"Pennsylvania\",2020],[\"Hampton\",\"Georgia\",2020],[\"Minneapolis\",\"Minnesota\",2020],[\"Struthers\",\"Ohio\",2020],[\"New York City\",\"New York\",2020],[\"Stamford\",\"Connecticut\",2020],[\"Plainfield\",\"New Jersey\",2020],[\"West Memphis\",\"Arkansas\",2020],[\"Chicago\",\"Illinois\",2020],[\"Buffalo\",\"New York\",2020],[\"Rochester\",\"New York\",2020],[\"Chicago\",\"Illinois\",2020],[\"Little Rock\",\"Arkansas\",2020],[\"Philadelphia\",\"Pennsylvania\",2020],[\"Chicago\",\"Illinois\",2020],[\"San Jose\",\"California\",2020],[\"Baker\",\"Louisiana\",2020],[\"New Brunswick\",\"New Jersey\",2020],[\"Chicago\",\"Illinois\",2020],[\"Grand Rapids\",\"Michigan\",2020],[\"Manchester\",\"Tennessee\",2020],[\"Tampa\",\"Florida\",2020],[\"Chicago\",\"Illinois\",2020],[\"Wilson\",\"North Carolina\",2020],[\"Donaldson\",\"Louisiana\",2020],[\"New Orleans\",\"Louisiana\",2020],[\"St. Louis\",\"Missouri\",2020],[\"Baltimore\",\"Maryl\",2020],[\"Aguanga\",\"California\",2020],[\"Indianapolis\",\"Indiana\",2020],[\"New Orleans\",\"Louisiana\",2020],[\"New York City\",\"New York\",2020],[\"Chicago\",\"Illinois\",2020],[\"New Iberia\",\"Louisiana\",2020],[\"Chicago\",\"Illinois\",2020],[\"Commerce City\",\"Colorado\",2020],[\"Memphis\",\"Tennessee\",2020],[\"Baltimore\",\"Maryl\",2020],[\"Kansas City\",\"Missouri\",2020],[\"St. Louis\",\"Missouri\",2020],[\"Sparta\",\"Georgia\",2020],[\"Williston\",\"Florida\",2020],[\"Baltimore\",\"Maryl\",2020],[\"Little Rock\",\"Arkansas\",2020],[\"Houston\",\"Texas\",2020],[\"Little Rock\",\"Arkansas\",2020],[\"Hensley\",\"Arkansas\",2020],[\"Philadelphia\",\"Pennsylvania\",2020],[\"Miami\",\"Florida\",2020],[\"Oakland\",\"California\",2020],[\"Albany\",\"Georgia\",2020],[\"Philadelphia\",\"Pennsylvania\",2020],[\"Tallahassee\",\"Florida\",2020],[\"Lexington\",\"Kentucky\",2020],[\"Chicago\",\"Illinois\",2020],[\"Zion\",\"Illinois\",2020],[\"Madisonville\",\"Kentucky\",2020],[\"San Antonio\",\"Texas\",2020],[\"Buffalo\",\"New York\",2020],[\"Rock Island\",\"Illinois\",2020],[\"Las Vegas\",\"Nevada\",2020],[\"Dallas\",\"Texas\",2020],[\"Minneapolis\",\"Minnesota\",2020],[\"Portland\",\"Oregon\",2020],[\"Pontiac\",\"Michigan\",2020],[\"Hilton Head Island\",\"South Carolina\",2020],[\"Philadelphia\",\"Pennsylvania\",2020],[\"Rochester\",\"New York\",2020],[\"Norfolk\",\"Virginia\",2020],[\"West Palm Beach\",\"Florida\",2020],[\"Richmond\",\"Virginia\",2020],[\"Sacramento\",\"California\",2020],[\"Detroit\",\"Michigan\",2020],[\"Champaign\",\"Illinois\",2020],[\"Chicago\",\"Illinois\",2020],[\"Pueblo\",\"Colorado\",2020],[\"Somerville\",\"Tennessee\",2020],[\"New York City\",\"New York\",2020],[\"Pine Bluff\",\"Arkansas\",2020],[\"Hueytown\",\"Alabama\",2020],[\"Rockford\",\"Illinois\",2020],[\"Chicago\",\"Illinois\",2020],[\"Philadelphia\",\"Pennsylvania\",2020],[\"Philadelphia\",\"Pennsylvania\",2020],[\"New York City\",\"New York\",2020],[\"Rockford\",\"Illinois\",2020],[\"Dayton\",\"Texas\",2020],[\"New York City\",\"New York\",2020],[\"Cleveland\",\"Ohio\",2020],[\"Louisville\",\"Kentucky\",2020],[\"Lexington\",\"Kentucky\",2020],[\"San Antonio\",\"Texas\",2020],[\"Cincinnati\",\"Ohio\",2020],[\"Denver\",\"Colorado\",2020],[\"Cincinnati\",\"Ohio\",2020],[\"Oklahoma City\",\"Oklahoma\",2020],[\"Troy\",\"Alabama\",2020],[\"New Haven\",\"Connecticut\",2020],[\"Belleville\",\"Michigan\",2020],[\"Rochester\",\"New York\",2020],[\"Philadelphia\",\"Pennsylvania\",2020],[\"New York City\",\"New York\",2020],[\"Dayton\",\"Ohio\",2020],[\"Newark\",\"New Jersey\",2020],[\"Los Angeles\",\"California\",2020],[\"Houston\",\"Texas\",2020],[\"Jackson\",\"Mississippi\",2020],[\"Washington D.C.\",\"Washington D.C.\",2020],[\"Toledo\",\"Ohio\",2020],[\"Denver\",\"Colorado\",2020],[\"Birmingham\",\"Alabama\",2020],[\"Brockton\",\"Massachusetts\",2020],[\"Philadelphia\",\"Pennsylvania\",2020],[\"Paducah\",\"Kentucky\",2020],[\"Albany\",\"New York\",2020],[\"Oakland\",\"California\",2020],[\"Chicago\",\"Illinois\",2020],[\"Washington D.C.\",\"Washington D.C.\",2020],[\"Madison\",\"Wisconsin\",2020],[\"Los Angeles\",\"California\",2020],[\"St. Louis\",\"Missouri\",2020],[\"Hartford\",\"Connecticut\",2020],[\"New York City\",\"New York\",2020],[\"Newark\",\"New Jersey\",2020],[\"Philadelphia\",\"Pennsylvania\",2020],[\"Montgomery\",\"Alabama\",2020],[\"Denver\",\"Colorado\",2020],[\"Pointblank\",\"Texas\",2020],[\"Chicago\",\"Illinois\",2020],[\"Philadelphia\",\"Pennsylvania\",2020],[\"Miami Gardens\",\"Florida\",2020],[\"Tampa\",\"Florida\",2020],[\"Detroit\",\"Michigan\",2020],[\"Elyria\",\"Ohio\",2020],[\"St. Louis\",\"Missouri\",2020],[\"Milwaukee\",\"Wisconsin\",2020],[\"Wilmington\",\"Delaware\",2020],[\"Chicago\",\"Illinois\",2020],[\"Federal Way\",\"Washington\",2020],[\"Magnolia\",\"Arkansas\",2020],[\"Mont Enterprise\",\"Texas\",2020],[\"Flint Township\",\"Michigan\",2020],[\"Commerce City\",\"Colorado\",2020],[\"Louisville\",\"Kentucky\",2020],[\"Manteca\",\"California\",2020],[\"Miami\",\"Florida\",2020],[\"Dallas\",\"Texas\",2020],[\"Denver\",\"Colorado\",2020],[\"Flint\",\"Michigan\",2020],[\"Raleigh\",\"North Carolina\",2020],[\"Atlanta\",\"Georgia\",2020],[\"Henrico County\",\"Virginia\",2020],[\"Chicago\",\"Illinois\",2020],[\"Petersburg\",\"Virginia\",2020],[\"Warren\",\"Michigan\",2020],[\"Chicago\",\"Illinois\",2020],[\"Richmond\",\"Virginia\",2020],[\"Chicago\",\"Illinois\",2020],[\"Detroit\",\"Michigan\",2020],[\"Chicago\",\"Illinois\",2020],[\"Detroit\",\"Michigan\",2020],[\"Washington D.C.\",\"Washington D.C.\",2020],[\"Omaha\",\"Nebraska\",2020],[\"Peoria\",\"Illinois\",2020],[\"Chicago\",\"Illinois\",2020],[\"Columbus\",\"Ohio\",2020],[\"Madison\",\"Florida\",2020],[\"Nashville\",\"Tennessee\",2020],[\"Shreveport\",\"Louisiana\",2020],[\"New York City\",\"New York\",2020],[\"St. Joseph\",\"Missouri\",2020],[\"Durham\",\"North Carolina\",2020],[\"Kent\",\"Washington\",2020],[\"Louisville\",\"Kentucky\",2020],[\"New York City\",\"New York\",2020],[\"Baton Rouge\",\"Louisiana\",2020],[\"Chicago\",\"Illinois\",2020],[\"Chicago\",\"Illinois\",2020],[\"Fort Lauderdale\",\"Florida\",2020],[\"New York City\",\"New York\",2020],[\"Lansing\",\"Michigan\",2020],[\"Como\",\"Mississippi\",2020],[\"Wilmington\",\"Delaware\",2020],[\"Rochester\",\"New York\",2020],[\"Paterson\",\"New Jersey\",2020],[\"Alexandria\",\"Virginia\",2020],[\"Chicago\",\"Illinois\",2020],[\"Chicago\",\"Illinois\",2020],[\"Chicago\",\"Illinois\",2020],[\"Houston\",\"Texas\",2020],[\"Detroit\",\"Michigan\",2020],[\"Greenville\",\"Mississippi\",2020],[\"Davenport\",\"Iowa\",2020],[\"New York City\",\"New York\",2020],[\"Helena\",\"Arkansas\",2020],[\"Milwaukee\",\"Wisconsin\",2020],[\"Greenville\",\"South Carolina\",2020],[\"Atlanta\",\"Georgia\",2020],[\"Ephrata\",\"Pennsylvania\",2020],[\"Columbia\",\"Missouri\",2020],[\"Freeport\",\"Illinois\",2020],[\"Barnwell County\",\"South Carolina\",2020],[\"Cambridge\",\"Maryl\",2020],[\"Chicago\",\"Illinois\",2020],[\"Lynn\",\"Massachusetts\",2020],[\"Chicago\",\"Illinois\",2020],[\"Atlanta\",\"Georgia\",2020],[\"Jackson\",\"Mississippi\",2020],[\"Temple Hills\",\"Maryl\",2020],[\"Baton Rouge\",\"Louisiana\",2020],[\"Baltimore\",\"Maryl\",2020],[\"Hoover\",\"Alabama\",2020],[\"Somerville\",\"Massachusetts\",2020],[\"Paterson\",\"New Jersey\",2020],[\"Delano\",\"California\",2020],[\"Oakland\",\"California\",2020],[\"Atlanta\",\"Georgia\",2020],[\"Davenport\",\"Iowa\",2020],[\"Chicago\",\"Illinois\",2020],[\"Dayton\",\"Ohio\",2020],[\"Greenbrier\",\"Arkansas\",2020],[\"Boston\",\"Massachusetts\",2020],[\"Los Angeles\",\"California\",2020],[\"Sioux Falls\",\"South Dakota\",2020],[\"Sawyerville\",\"Alabama\",2020],[\"Philadelphia\",\"Pennsylvania\",2020],[\"Red Bluff\",\"California\",2020],[\"Roselle\",\"Illinois\",2020],[\"Peoria\",\"Illinois\",2020],[\"New York City\",\"New York\",2020],[\"Chicago\",\"Illinois\",2020],[\"Blytheville\",\"Arkansas\",2020],[\"Aurora\",\"Colorado\",2020],[\"Fresno\",\"California\",2020],[\"Phoenix\",\"Arizona\",2020],[\"Philadelphia\",\"Pennsylvania\",2020],[\"Bridgeport\",\"Connecticut\",2020],[\"Jackson\",\"Tennessee\",2020],[\"Chicago\",\"Illinois\",2020],[\"Lake Worth Beach\",\"Florida\",2020],[\"New York City\",\"New York\",2020],[\"Chicago\",\"Illinois\",2020],[\"Chicago\",\"Illinois\",2020],[\"Minneapolis\",\"Minnesota\",2020],[\"Charlotte\",\"North Carolina\",2020],[\"San Francisco\",\"California\",2020],[\"Minneapolis\",\"Minnesota\",2020],[\"Chicago\",\"Illinois\",2020],[\"Austin\",\"Texas\",2020],[\"Minneapolis\",\"Minnesota\",2020],[\"Auburn\",\"Alabama\",2020],[\"Milwaukee\",\"Wisconsin\",2020],[\"Buffalo\",\"New York\",2020],[\"Wichita\",\"Kansas\",2020],[\"Syracuse\",\"New York\",2020],[\"Pinetops\",\"North Carolina\",2020],[\"Saginaw\",\"Michigan\",2020],[\"New York City\",\"New York\",2020],[\"Detroit\",\"Michigan\",2020],[\"Jersey City\",\"New Jersey\",2020],[\"Janesville\",\"Wisconsin\",2020],[\"New York City\",\"New York\",2020],[\"Albany\",\"New York\",2020],[\"Chicago\",\"Illinois\",2020],[\"Fort Dodge\",\"Iowa\",2020],[\"Decatur\",\"Illinois\",2020],[\"Chicago\",\"Illinois\",2020],[\"New Orleans\",\"Louisiana\",2020],[\"Lafayette\",\"Louisiana\",2020],[\"Lake Charles\",\"Louisiana\",2020],[\"Louisville\",\"Kentucky\",2020],[\"Minneapolis\",\"Minnesota\",2020],[\"Hesperia\",\"California\",2020],[\"Washington D.C.\",\"Washington D.C.\",2020],[\"Atlanta\",\"Georgia\",2020],[\"Rison\",\"Arkansas\",2020],[\"Wyandanch\",\"New York\",2020],[\"St. Louis\",\"Missouri\",2020],[\"Baltimore\",\"Maryl\",2020],[\"San Antonio\",\"Texas\",2020],[\"New York City\",\"New York\",2020],[\"Philadelphia\",\"Pennsylvania\",2020],[\"Monroe\",\"Louisiana\",2020],[\"Richmond\",\"Virginia\",2020],[\"Houston\",\"Texas\",2020],[\"Washington D.C.\",\"Washington D.C.\",2020],[\"Sacramento\",\"California\",2020],[\"Toledo\",\"Ohio\",2020],[\"Paso Robles\",\"California\",2020],[\"Vallejo\",\"California\",2020],[\"Scotland Neck\",\"North Carolina\",2020],[\"Philadelphia\",\"Pennsylvania\",2020],[\"New York City\",\"New York\",2020],[\"Memphis\",\"Tennessee\",2020],[\"Chicago\",\"Illinois\",2020],[\"Sikeston\",\"Missouri\",2020],[\"Chicago\",\"Illinois\",2020],[\"Dyersburg\",\"Tennessee\",2020],[\"Hope\",\"Arkansas\",2020],[\"Sacramento\",\"California\",2020],[\"Ironton\",\"Ohio\",2020],[\"Kansas City\",\"Missouri\",2020],[\"Denver\",\"Colorado\",2020],[\"Valhermoso\",\"Alabama\",2020],[\"Dallas\",\"Texas\",2020],[\"Racine\",\"Wisconsin\",2020],[\"Chicago\",\"Illinois\",2020],[\"St. Louis\",\"Missouri\",2020],[\"Philadelphia\",\"Pennsylvania\",2020],[\"Gulfport\",\"Mississippi\",2020],[\"Saginaw\",\"Michigan\",2020],[\"Gastonia\",\"North Carolina\",2020],[\"Houston\",\"Texas\",2020],[\"Altha\",\"Florida\",2020],[\"Hiawatha\",\"Iowa\",2020],[\"Portsmouth\",\"Virginia\",2020],[\"Memphis\",\"Tennessee\",2020],[\"Louisville\",\"Kentucky\",2020],[\"Philadelphia\",\"Pennsylvania\",2020],[\"Philadelphia\",\"Pennsylvania\",2020],[\"Cleveland\",\"Ohio\",2020],[\"San Jose\",\"California\",2020],[\"Boston\",\"Massachusetts\",2020],[\"Chicago\",\"Illinois\",2020],[\"Bowman\",\"South Carolina\",2020],[\"Vicksburg\",\"Mississippi\",2020],[\"Philadelphia\",\"Pennsylvania\",2020],[\"Los Angeles\",\"California\",2020],[\"Lake Charles\",\"Louisiana\",2020],[\"Jackson\",\"Mississippi\",2020],[\"St. Louis\",\"Missouri\",2020],[\"Danville\",\"Alabama\",2020],[\"Myrtle Beach\",\"South Carolina\",2020],[\"Jonesville\",\"South Carolina\",2020],[\"Charlotte\",\"North Carolina\",2020],[\"Daytona\",\"Florida\",2020],[\"Chicago\",\"Illinois\",2020],[\"Mount Morris Township\",\"Michigan\",2020],[\"Fort Lauderdale\",\"Florida\",2020],[\"Rock Island\",\"Illinois\",2020],[\"Washington D.C.\",\"Washington D.C.\",2020],[\"Houston\",\"Texas\",2020],[\"Cleveland\",\"Ohio\",2020],[\"Houston\",\"Texas\",2020],[\"Decatur\",\"Illinois\",2020],[\"Bakersfield\",\"California\",2020],[\"District Heights\",\"Maryl\",2020],[\"St. Matthews\",\"South Carolina\",2020],[\"Charleston\",\"South Carolina\",2020],[\"Bogalusa\",\"Louisiana\",2020],[\"Albuquerque\",\"New Mexico\",2020],[\"Rockford\",\"Illinois\",2020],[\"Garrison\",\"Kentucky\",2020],[\"Montgomery\",\"Alabama\",2020],[\"Fort Worth\",\"Texas\",2020],[\"Katy\",\"Texas\",2020],[\"Baton Rouge\",\"Louisiana\",2020],[\"St. Louis\",\"Missouri\",2020],[\"Baltimore\",\"Maryl\",2020],[\"Albany\",\"Georgia\",2020],[\"Memphis\",\"Tennessee\",2020],[\"Hammond\",\"Indiana\",2020],[\"Columbus\",\"Ohio\",2020],[\"Jacksonville\",\"Florida\",2020],[\"Chicago\",\"Illinois\",2020],[\"Philadelphia\",\"Pennsylvania\",2020],[\"Indianapolis\",\"Indiana\",2020],[\"Milwaukee\",\"Wisconsin\",2020],[\"Troy\",\"New York\",2020],[\"Salisbury\",\"North Carolina\",2020],[\"Orlando\",\"Florida\",2020],[\"Memphis\",\"Tennessee\",2020],[\"Joliet\",\"Illinois\",2020],[\"Fort Wayne\",\"Indiana\",2020],[\"Houston\",\"Texas\",2020],[\"Hyattsville\",\"Maryl\",2020],[\"Springfield\",\"Massachusetts\",2020],[\"Greensboro\",\"North Carolina\",2020],[\"Jackson\",\"Mississippi\",2020],[\"Bakersfield\",\"California\",2020],[\"Muskegon\",\"Michigan\",2020],[\"Detroit\",\"Michigan\",2020],[\"Anchorage\",\"Alaska\",2020],[\"Greenwood\",\"South Carolina\",2020],[\"Chicago\",\"Illinois\",2020],[\"New York City\",\"New York\",2020],[\"Lancaster\",\"South Carolina\",2020],[\"Los Angeles\",\"California\",2020],[\"Hialeah\",\"Florida\",2020],[\"Lubbock\",\"Texas\",2020],[\"Vidor\",\"Texas\",2020],[\"Louisville\",\"Kentucky\",2020],[\"Macon\",\"Georgia\",2020],[\"Philadelphia\",\"Pennsylvania\",2020],[\"Atlanta\",\"Georgia\",2020],[\"Baltimore\",\"Maryl\",2020],[\"San Antonio\",\"Texas\",2020],[\"Hanahan\",\"South Carolina\",2020],[\"St. Louis\",\"Missouri\",2020],[\"Norfolk\",\"Virginia\",2020],[\"Jacksonville\",\"Florida\",2020],[\"Baltimore\",\"Maryl\",2020],[\"Springfield\",\"Missouri\",2020],[\"Moncure\",\"North Carolina\",2020],[\"Saginaw\",\"Michigan\",2020],[\"Albuquerque\",\"New Mexico\",2020],[\"New Orleans\",\"Louisiana\",2020],[\"Rockford\",\"Illinois\",2020],[\"Chester\",\"Pennsylvania\",2020],[\"Ceres\",\"California\",2020],[\"Rosedale\",\"Maryl\",2020],[\"South Holland\",\"Illinois\",2020],[\"Milwaukee\",\"Wisconsin\",2020],[\"Cleveland\",\"Ohio\",2020],[\"Albuquerque\",\"New Mexico\",2020],[\"Chicago\",\"Illinois\",2020],[\"Washington D.C.\",\"Washington D.C.\",2020],[\"Tulare\",\"California\",2020],[\"Brighton\",\"Colorado\",2020],[\"Kansas City\",\"Missouri\",2020],[\"Milwaukee\",\"Wisconsin\",2020],[\"Chicago\",\"Illinois\",2020],[\"Lafayette\",\"Louisiana\",2020],[\"Houston\",\"Texas\",2020],[\"Clarkton\",\"North Carolina\",2020],[\"Caldwell\",\"Idaho\",2020],[\"Greensboro\",\"North Carolina\",2020],[\"Orlando\",\"Florida\",2020],[\"Philadelphia\",\"Pennsylvania\",2020],[\"Port Gibson\",\"Mississippi\",2020],[\"Pensacola\",\"Florida\",2020],[\"Midland\",\"Texas\",2020],[\"Hartford\",\"Connecticut\",2020],[\"New Orleans\",\"Louisiana\",2020],[\"Memphis\",\"Tennessee\",2020],[\"Chicago\",\"Illinois\",2020],[\"Dover\",\"Delaware\",2020],[\"Youngstown\",\"Ohio\",2020],[\"San Antonio\",\"Texas\",2020],[\"Houston\",\"Texas\",2020],[\"Waco\",\"Texas\",2020],[\"Indianapolis\",\"Indiana\",2020],[\"Washington County\",\"Maine\",2020],[\"Grapevine\",\"California\",2020],[\"Philadelphia\",\"Mississippi\",2020],[\"Union Parish\",\"Louisiana\",2020],[\"Shreveport\",\"Louisiana\",2020],[\"Delano\",\"California\",2020],[\"Boynton Beach\",\"Florida\",2020],[\"Merced\",\"California\",2020],[\"Bridgeport\",\"Connecticut\",2020],[\"Hartsville\",\"South Carolina\",2020],[\"Newburgh\",\"New York\",2020],[\"Cape Girardeau\",\"Missouri\",2020],[\"Salisbury\",\"North Carolina\",2020],[\"Lisle\",\"Illinois\",2020],[\"Vanceboro\",\"North Carolina\",2020],[\"Seattle\",\"Washington\",2020],[\"San Antonio\",\"Texas\",2020],[\"Kansas City\",\"Missouri\",2020],[\"South Houston\",\"Texas\",2020],[\"Memphis\",\"Tennessee\",2020],[\"Grantsville\",\"Utah\",2020],[\"Chicago\",\"Illinois\",2020],[\"Des Moines\",\"Iowa\",2020],[\"Aurora\",\"Colorado\",2020],[\"Bay Saint Louis\",\"Mississippi\",2020],[\"Atlanta\",\"Georgia\",2020],[\"Ocala\",\"Florida\",2020],[\"New York City\",\"New York\",2020],[\"Trujillo Alto\",\"Puerto Rico\",2020],[\"Huntington\",\"West Virginia\",2020],[\"St. Louis\",\"Missouri\",2020],[\"Cleveland\",\"Ohio\",2020],[\"Danville\",\"Illinois\",2019],[\"Buffalo\",\"New York\",2019],[\"White Settlement\",\"Texas\",2019],[\"Ceres\",\"California\",2019],[\"Houston\",\"Texas\",2019],[\"Kennesaw\",\"Georgia\",2019],[\"Modesto\",\"California\",2019],[\"St. Petersburg\",\"Florida\",2019],[\"Oakland\",\"California\",2019],[\"Coralville\",\"Iowa\",2019],[\"Richmond\",\"Virginia\",2019],[\"High Point\",\"North Carolina\",2019],[\"New Orleans\",\"Louisiana\",2019],[\"Chicago\",\"Illinois\",2019],[\"Baltimore\",\"Maryl\",2019],[\"Waynesbroro\",\"Mississippi\",2019],[\"Tuskegee\",\"Alabama\",2019],[\"Winston-Salem\",\"North Carolina\",2019],[\"Westerly\",\"Rhode Isl\",2019],[\"San Antonio\",\"Texas\",2019],[\"Great Falls\",\"Montana\",2019],[\"Columbus\",\"Georgia\",2019],[\"Ivanhoe\",\"California\",2019],[\"St. Louis\",\"Missouri\",2019],[\"Jersey City\",\"New Jersey\",2019],[\"Edinburg\",\"Texas\",2019],[\"Desoto\",\"Texas\",2019],[\"New Orleans\",\"Louisiana\",2019],[\"Pensacola\",\"Florida\",2019],[\"Miramar\",\"Florida\",2019],[\"Pearl Harbor\",\"Hawaii\",2019],[\"Montgomery\",\"Alabama\",2019],[\"Comstock Township\",\"Michigan\",2019],[\"Cotton Valley\",\"Louisiana\",2019],[\"New Orleans\",\"Louisiana\",2019],[\"New Orleans\",\"Louisiana\",2019],[\"Aurora\",\"Illinois\",2019],[\"Amarillo\",\"Texas\",2019],[\"New York City\",\"New York\",2019],[\"Brownsville\",\"Florida\",2019],[\"Birmingham\",\"Alabama\",2019],[\"Los Angeles\",\"California\",2019],[\"Cottonport\",\"Louisiana\",2019],[\"Los Angeles\",\"California\",2019],[\"Tallulah\",\"Louisiana\",2019],[\"Everett\",\"Washington\",2019],[\"Long Beach\",\"California\",2019],[\"Richmond\",\"California\",2019],[\"Newark\",\"New Jersey\",2019],[\"Fresno\",\"California\",2019],[\"Cleveland\",\"Ohio\",2019],[\"San Diego\",\"California\",2019],[\"Santa Clarita\",\"California\",2019],[\"Belle Glade\",\"Florida\",2019],[\"Kansas City\",\"Missouri\",2019],[\"Memphis\",\"Tennessee\",2019],[\"Little Rock\",\"Arkansas\",2019],[\"Detroit\",\"Michigan\",2019],[\"Vidalia\",\"Georgia\",2019],[\"Conyers\",\"Georgia\",2019],[\"Houston\",\"Texas\",2019],[\"Toledo\",\"Ohio\",2019],[\"Nacogdoches\",\"Texas\",2019],[\"Detroit\",\"Michigan\",2019],[\"Baton Rouge\",\"Louisiana\",2019],[\"Tolleson\",\"Arizona\",2019],[\"San Angelo\",\"Texas\",2019],[\"Orinda\",\"California\",2019],[\"Long Beach\",\"California\",2019],[\"Baltimore\",\"Maryl\",2019],[\"Lansing\",\"Michigan\",2019],[\"Detroit\",\"Michigan\",2019],[\"Greenville\",\"Texas\",2019],[\"Jersey City\",\"New Jersey\",2019],[\"Oklahoma City\",\"Oklahoma\",2019],[\"Oklahoma City\",\"Oklahoma\",2019],[\"Sumter\",\"South Carolina\",2019],[\"Port Arthur\",\"Texas\",2019],[\"El Paso\",\"Texas\",2019],[\"Duquesne\",\"Pennsylvania\",2019],[\"Miami\",\"Oklahoma\",2019],[\"Columbus\",\"Ohio\",2019],[\"San Juan\",\"Puerto Rico\",2019],[\"Philadelphia\",\"Pennsylvania\",2019],[\"Akron\",\"Ohio\",2019],[\"Philadelphia\",\"Pennsylvania\",2019],[\"Baltimore\",\"Maryl\",2019],[\"New York City\",\"New York\",2019],[\"Crosby\",\"Texas\",2019],[\"Eastpointe\",\"Michigan\",2019],[\"Chicago\",\"Illinois\",2019],[\"Philadelphia\",\"Pennsylvania\",2019],[\"Milwaukee\",\"Wisconsin\",2019],[\"Tampa\",\"Florida\",2019],[\"Baltimore\",\"Maryl\",2019],[\"Abington\",\"Massachusetts\",2019],[\"Denver\",\"Colorado\",2019],[\"Evansville\",\"Indiana\",2019],[\"Kansas City\",\"Kansas\",2019],[\"Lawton\",\"Oklahoma\",2019],[\"Roxboro\",\"North Carolina\",2019],[\"Marshall\",\"Missouri\",2019],[\"St. Louis\",\"Missouri\",2019],[\"Clafin\",\"Kansas\",2019],[\"Jacksonville\",\"Florida\",2019],[\"Milwaukee\",\"Wisconsin\",2019],[\"Round Lake\",\"Illinois\",2019],[\"Beaumont\",\"Texas\",2019],[\"Seaman\",\"Ohio\",2019],[\"Chicago\",\"Illinois\",2019],[\"Gary\",\"Indiana\",2019],[\"Independence\",\"Missouri\",2019],[\"Lancaster\",\"South Carolina\",2019],[\"Indianapolis\",\"Indiana\",2019],[\"New Orleans\",\"Louisiana\",2019],[\"South Bend\",\"Indiana\",2019],[\"New Orleans\",\"Louisiana\",2019],[\"Washington D.C.\",\"Washington D.C.\",2019],[\"Chicago\",\"Illinois\",2019],[\"Los Angeles\",\"California\",2019],[\"Cheyenne\",\"Wyoming\",2019],[\"LaGrange\",\"Georgia\",2019],[\"St. Louis\",\"Missouri\",2019],[\"Oakland\",\"California\",2019],[\"Cincinnati\",\"Ohio\",2019],[\"Albuquerque\",\"New Mexico\",2019],[\"Albuquerque\",\"New Mexico\",2019],[\"Chicago\",\"Illinois\",2019],[\"Alexandria\",\"Louisiana\",2019],[\"Sumter\",\"South Carolina\",2019],[\"Whiteville\",\"North Carolina\",2019],[\"Saint Croix\",\"United States Virgin Isls\",2019],[\"Jacksonville\",\"Florida\",2019],[\"Marrero\",\"Louisiana\",2019],[\"Elkmont\",\"Alabama\",2019],[\"Chicago\",\"Illinois\",2019],[\"Greensboro\",\"North Carolina\",2019],[\"Rocky Mount\",\"North Carolina\",2019],[\"Valley\",\"Alabama\",2019],[\"Hartford\",\"Connecticut\",2019],[\"Toledo\",\"Ohio\",2019],[\"Odessa and Midland\",\"Texas\",2019],[\"Charlotte\",\"North Carolina\",2019],[\"Frederick\",\"Maryl\",2019],[\"Baltimore\",\"Maryl\",2019],[\"Mobile\",\"Alabama\",2019],[\"Baltimore\",\"Maryl\",2019],[\"Pembroke Falls\",\"Florida\",2019],[\"Chicago\",\"Illinois\",2019],[\"Hobbs*\",\"New Mexico\",2019],[\"Temple\",\"Maryl\",2019],[\"Lynn\",\"Massachusetts\",2019],[\"Coconut Creek\",\"Florida\",2019],[\"St. Louis\",\"Missouri\",2019],[\"Houston\",\"Texas\",2019],[\"Columbia\",\"South Carolina\",2019],[\"Los Angeles\",\"California\",2019],[\"Atlanta\",\"Georgia\",2019],[\"Kansas City\",\"Missouri\",2019],[\"Newport News\",\"Virginia\",2019],[\"Houston\",\"Texas\",2019],[\"Kansas City\",\"Missouri\",2019],[\"Montgomery\",\"Alabama\",2019],[\"Philadelphia\",\"Pennsylvania\",2019],[\"Philadelphia\",\"Pennsylvania\",2019],[\"New Manchester\",\"West Virginia\",2019],[\"Tacoma\",\"Washington\",2019],[\"Greenwood\",\"Mississippi\",2019],[\"Riverside\",\"California\",2019],[\"Hickory\",\"North Carolina\",2019],[\"Chicago\",\"Illinois\",2019],[\"San Francisco\",\"California\",2019],[\"Richmond\",\"Virginia\",2019],[\"Chicago\",\"Illinois\",2019],[\"Houston\",\"Texas\",2019],[\"Irvington\",\"New Jersey\",2019],[\"St. Louis\",\"Missouri\",2019],[\"Detroit\",\"Michigan\",2019],[\"Stone Mountain\",\"Georgia\",2019],[\"Suitland\",\"Maryl\",2019],[\"New York City\",\"New York\",2019],[\"San Antonio\",\"Texas\",2019],[\"Memphis\",\"Tennessee\",2019],[\"Grenada\",\"Mississippi\",2019],[\"Chicago\",\"Illinois\",2019],[\"Chicago\",\"Illinois\",2019],[\"Dayton\",\"Ohio\",2019],[\"El Paso\",\"Texas\",2019],[\"Suffolk\",\"Virginia\",2019],[\"Pomfret\",\"Maryl\",2019],[\"Elkhart\",\"Indiana\",2019],[\"Southaven\",\"Mississippi\",2019],[\"Haskell\",\"Oklahoma\",2019],[\"Rosenberg\",\"Texas\",2019],[\"Columbus\",\"Ohio\",2019],[\"Philadelphia\",\"Pennsylvania\",2019],[\"Chippewa Falls\",\"Wisconsin\",2019],[\"Chicago\",\"Illinois\",2019],[\"Gilroy\",\"California\",2019],[\"Uniontown\",\"Pennsylvania\",2019],[\"Washington D.C.\",\"Washington D.C.\",2019],[\"New York City\",\"New York\",2019],[\"Wichita\",\"Kansas\",2019],[\"Albemarle\",\"North Carolina\",2019],[\"Los Angeles\",\"California\",2019],[\"Pembroke Park\",\"Florida\",2019],[\"Chicago\",\"Illinois\",2019],[\"Washington D.C.\",\"Washington D.C.\",2019],[\"Chicago\",\"Illinois\",2019],[\"Jersey City\",\"New Jersey\",2019],[\"Clairton\",\"Pennsylvania\",2019],[\"Chicago\",\"Illinois\",2019],[\"Lubbock\",\"Texas\",2019],[\"San Antonio\",\"Texas\",2019],[\"Baltimore\",\"Maryl\",2019],[\"New Orleans\",\"Louisiana\",2019],[\"Atlanta\",\"Georgia\",2019],[\"Philadelphia\",\"Pennsylvania\",2019],[\"Chicago\",\"Illinois\",2019],[\"Houston\",\"Texas\",2019],[\"Washington D.C.\",\"Washington D.C.\",2019],[\"Manson\",\"North Carolina\",2019],[\"Flint\",\"Michigan\",2019],[\"Wichita\",\"Kansas\",2019],[\"Chicago\",\"Illinois\",2019],[\"Albuquerque\",\"New Mexico\",2019],[\"San Jose\",\"California\",2019],[\"St. Clair Shores\",\"Michigan\",2019],[\"Charlotte\",\"North Carolina\",2019],[\"Boston\",\"Massachusetts\",2019],[\"Reno\",\"Nevada\",2019],[\"New York City\",\"New York\",2019],[\"Gravette\",\"Arkansas\",2019],[\"Chicago\",\"Illinois\",2019],[\"Chicago\",\"Illinois\",2019],[\"Rockford\",\"Illinois\",2019],[\"Fresno\",\"California\",2019],[\"Los Angeles\",\"California\",2019],[\"Katy\",\"Texas\",2019],[\"Wellston\",\"Missouri\",2019],[\"Washington Park\",\"Illinois\",2019],[\"Baltimore\",\"Maryl\",2019],[\"Dallas\",\"Texas\",2019],[\"Yucaipa\",\"California\",2019],[\"Bay Shore\",\"New York\",2019],[\"Oakland\",\"California\",2019],[\"Chicago\",\"Illinois\",2019],[\"Baton Rouge\",\"Louisiana\",2019],[\"Hartford\",\"Connecticut\",2019],[\"Paterson\",\"New Jersey\",2019],[\"Saint Paul\",\"Minnesota\",2019],[\"Atlanta\",\"Georgia\",2019],[\"Hamden\",\"Connecticut\",2019],[\"Atlanta\",\"Georgia\",2019],[\"Akron\",\"Ohio\",2019],[\"Abbeville\",\"South Carolina\",2019],[\"Columbus\",\"Ohio\",2019],[\"La Jolla\",\"California\",2019],[\"South Bend\",\"Indiana\",2019],[\"San Jose\",\"California\",2019],[\"Baltimore\",\"Maryl\",2019],[\"Philadelphia\",\"Pennsylvania\",2019],[\"Hampton\",\"Virginia\",2019],[\"Saginaw\",\"Michigan\",2019],[\"Chicago\",\"Illinois\",2019],[\"Richmond\",\"California\",2019],[\"Allentown\",\"Pennsylvania\",2019],[\"Newark\",\"New Jersey\",2019],[\"Dallas\",\"Texas\",2019],[\"San Antonio\",\"Texas\",2019],[\"Memphis\",\"Tennessee\",2019],[\"Philadelphia\",\"Pennsylvania\",2019],[\"Louisville\",\"Kentucky\",2019],[\"Des Moines\",\"Iowa\",2019],[\"Shreveport\",\"Louisiana\",2019],[\"West Des Moines\",\"Iowa\",2019],[\"Charlotte\",\"North Carolina\",2019],[\"Savannah\",\"Georgia\",2019],[\"Aurora\",\"Colorado\",2019],[\"Cleveland\",\"Ohio\",2019],[\"Henning\",\"Tennessee\",2019],[\"Buffalo\",\"New York\",2019],[\"White Swan\",\"Washington\",2019],[\"Chicago\",\"Illinois\",2019],[\"Austin\",\"Texas\",2019],[\"Chicago\",\"Illinois\",2019],[\"Santa Rosa\",\"California\",2019],[\"Allendale\",\"South Carolina\",2019],[\"Portsmouth\",\"Virginia\",2019],[\"Chicago\",\"Illinois\",2019],[\"Chicago\",\"Illinois\",2019],[\"Atlanta\",\"Georgia\",2019],[\"Macon\",\"Georgia\",2019],[\"Virginia Beach\",\"Virginia\",2019],[\"Robbins\",\"Illinois\",2019],[\"Cleveland\",\"Texas\",2019],[\"Trenton\",\"New Jersey\",2019],[\"Washington D.C.\",\"Washington D.C.\",2019],[\"Washington D.C.\",\"Washington D.C.\",2019],[\"Chicago\",\"Illinois\",2019],[\"Stockton\",\"California\",2019],[\"La Crosse\",\"Virginia\",2019],[\"Chesapeake\",\"Virginia\",2019],[\"Baltimore\",\"Maryl\",2019],[\"Trenton\",\"New Jersey\",2019],[\"Oklahoma City\",\"Oklahoma\",2019],[\"Alexandria\",\"Louisiana\",2019],[\"Columbus\",\"Ohio\",2019],[\"Tulsa\",\"Oklahoma\",2019],[\"Portland\",\"Oregon\",2019],[\"Atmore\",\"Alabama\",2019],[\"Winston-Salem\",\"North Carolina\",2019],[\"Muncie\",\"Indiana\",2019],[\"Cascilla\",\"Mississippi\",2019],[\"Long Beach\",\"California\",2019],[\"Cedar Rapids\",\"Iowa\",2019],[\"Sacramento\",\"California\",2019],[\"Cleveland\",\"Ohio\",2019],[\"St. Rose\",\"Louisiana\",2019],[\"St. Louis\",\"Missouri\",2019],[\"New Orleans\",\"Louisiana\",2019],[\"Chestnuthill Township\",\"Pennsylvania\",2019],[\"Paulsboro\",\"New Jersey\",2019],[\"St. Louis\",\"Missouri\",2019],[\"Philadelphia\",\"Pennsylvania\",2019],[\"Indianapolis\",\"Indiana\",2019],[\"Highlands Ranch\",\"Colorado\",2019],[\"Oceano\",\"California\",2019],[\"North Bergen\",\"New Jersey\",2019],[\"Indianapolis\",\"Indiana\",2019],[\"Wilmington\",\"Delaware\",2019],[\"St. Louis\",\"Missouri\",2019],[\"Baltimore\",\"Maryl\",2019],[\"Baltimore\",\"Maryl\",2019],[\"Dallas\",\"Texas\",2019],[\"Boston\",\"Massachusetts\",2019],[\"Charlotte\",\"North Carolina\",2019],[\"Nashville\",\"Tennessee\",2019],[\"West Chester Township\",\"Ohio\",2019],[\"Birmingham\",\"Alabama\",2019],[\"Baltimore\",\"Maryl\",2019],[\"Jackson\",\"Michigan\",2019],[\"Jackson\",\"Mississippi\",2019],[\"Poway\",\"California\",2019],[\"Hugo\",\"Oklahoma\",2019],[\"Philadelphia\",\"Pennsylvania\",2019],[\"Los Angeles\",\"California\",2019],[\"Corpus Christi\",\"Texas\",2019],[\"Memphis\",\"Tennessee\",2019],[\"Wichita\",\"Kansas\",2019],[\"Louisville\",\"Kentucky\",2019],[\"Germantown\",\"Maryl\",2019],[\"Stockton\",\"California\",2019],[\"Miami\",\"Florida\",2019],[\"Valleho\",\"California\",2019],[\"Carbondale\",\"Illinois\",2019],[\"Phoenix\",\"Arizona\",2019],[\"Los Angeles\",\"California\",2019],[\"Baltimore\",\"Maryl\",2019],[\"Kansas City\",\"Missouri\",2019],[\"Shreveport\",\"Louisiana\",2019],[\"Indianapolis\",\"Indiana\",2019],[\"Winston-Salem\",\"North Carolina\",2019],[\"Wilmington\",\"Delaware\",2019],[\"Chicago\",\"Illinois\",2019],[\"Tallahassee\",\"Florida\",2019],[\"Stockbridge\",\"Georgia\",2019],[\"Panama City\",\"Florida\",2019],[\"Covington\",\"Kentucky\",2019],[\"Hermanville\",\"Mississippi\",2019],[\"Chicago\",\"Illinois\",2019],[\"Atlanta\",\"Georgia\",2019],[\"North Charleston\",\"South Carolina\",2019],[\"Baltimore\",\"Maryl\",2019],[\"North Las Vegas\",\"Nevada\",2019],[\"Phoenix\",\"Arizona\",2019],[\"San Francisco\",\"California\",2019],[\"Phoenix\",\"Arizona\",2019],[\"Augusta\",\"Georgia\",2019],[\"Las Vegas\",\"Nevada\",2019],[\"Rochelle\",\"Georgia\",2019],[\"Camden\",\"New Jersey\",2019],[\"Mobile\",\"Alabama\",2019],[\"Missoula\",\"Montana\",2019],[\"Harvey\",\"Illinois\",2019],[\"Paterson\",\"New Jersey\",2019],[\"Denver\",\"Colorado\",2019],[\"Shreveport\",\"Louisiana\",2019],[\"Oakland\",\"California\",2019],[\"Chicago\",\"Illinois\",2019],[\"Pine Bluff\",\"Arkansas\",2019],[\"Joliet\",\"Illinois\",2019],[\"Oakland\",\"California\",2019],[\"Birmingham\",\"Alabama\",2019],[\"Elizabeth\",\"Kentucky\",2019],[\"Baltimore\",\"Maryl\",2019],[\"Houston\",\"Texas\",2019],[\"Covington\",\"Tennessee\",2019],[\"Solon Township\",\"Michigan\",2019],[\"New Orleans\",\"Louisiana\",2019],[\"Henderson\",\"Texas\",2019],[\"Evansville\",\"Indiana\",2019],[\"Clinton\",\"Mississippi\",2019],[\"Aurora\",\"Illinois\",2019],[\"Jacksonville\",\"Florida\",2019],[\"Livingston\",\"Texas\",2019],[\"Petersburg\",\"Virginia\",2019],[\"Cleveland\",\"Ohio\",2019],[\"New York City\",\"New York\",2019],[\"San Antonio\",\"Texas\",2019],[\"Washington D.C.\",\"Washington D.C.\",2019],[\"Baton Rouge\",\"Louisiana\",2019],[\"Chicago\",\"Illinois\",2019],[\"San Diego\",\"California\",2019],[\"Houston\",\"Texas\",2019],[\"Birmingham\",\"Alabama\",2019],[\"Albany\",\"Georgia\",2019],[\"Indianapolis\",\"Indiana\",2019],[\"Newark\",\"New Jersey\",2019],[\"Ascension Parish and Livingston Parish\",\"Louisiana\",2019],[\"State College\",\"Pennsylvania\",2019],[\"Rockmart\",\"Georgia\",2019],[\"Sebring\",\"Florida\",2019],[\"Miami\",\"Florida\",2019],[\"Houston\",\"Texas\",2019],[\"Gaffney\",\"South Carolina\",2019],[\"Jacksonville\",\"Florida\",2019],[\"Lebanon\",\"Pennsylvania\",2019],[\"Chicago\",\"Illinois\",2019],[\"Owensboro\",\"Kentucky\",2019],[\"Jacksonville\",\"Florida\",2019],[\"Palmdale\",\"California\",2019],[\"Little Rock\",\"Arkansas\",2019],[\"Phoenix\",\"Arizona\",2019],[\"Roswell\",\"New Mexico\",2019],[\"Torrance\",\"California\",2019],[\"Hurt\",\"Virginia\",2019],[\"Houston\",\"Texas\",2019],[\"Texas City\",\"Texas\",2019],[\"Jonesboro\",\"Arkansas\",2019],[\"Tallahassee\",\"Florida\",2019],[\"Columbia\",\"South Carolina\",2019],[\"Cleveland\",\"Ohio\",2018],[\"Lima\",\"Ohio\",2018],[\"St. Charles\",\"Missouri\",2018],[\"Lutcher\",\"Louisiana\",2018],[\"Springfield\",\"Missouri\",2018],[\"Las Vegas\",\"Nevada\",2018],[\"Baltimore\",\"Maryl\",2018],[\"Miami\",\"Florida\",2018],[\"Colorado Springs\",\"Colorado\",2018],[\"Philadelphia\",\"Pennsylvania\",2018],[\"Natachitoches\",\"Louisiana\",2018],[\"Madison\",\"Wisconsin\",2018],[\"Laurinburg\",\"North Carolina\",2018],[\"New York City\",\"New York\",2018],[\"Miami\",\"Florida\",2018],[\"Powell\",\"Tennessee\",2018],[\"Houston\",\"Texas\",2018],[\"Demopolis\",\"Alabama\",2018],[\"Oakland\",\"California\",2018],[\"Orlando\",\"Florida\",2018],[\"Miami\",\"Florida\",2018],[\"Fort Wayne\",\"Indiana\",2018],[\"St. Louis\",\"Missouri\",2018],[\"Philadelphia\",\"Pennsylvania\",2018],[\"Chicago\",\"Illinois\",2018],[\"Denver\",\"Colorado\",2018],[\"Los Angeles\",\"California\",2018],[\"Little Rock\",\"Arkansas\",2018],[\"Wheatland\",\"Wisconsin\",2018],[\"Baton Rouge\",\"Louisiana\",2018],[\"Indianapolis\",\"Indiana\",2018],[\"Tsayatoh\",\"New Mexico\",2018],[\"Dunn\",\"North Carolina\",2018],[\"Robbins\",\"Illinois\",2018],[\"Globe\",\"Arizona\",2018],[\"Memphis\",\"Tennessee\",2018],[\"Thousand Oaks\",\"California\",2018],[\"Watertown\",\"New York\",2018],[\"Tallahassee\",\"Florida\",2018],[\"Long Beach\",\"California\",2018],[\"Minneapolis\",\"Minnesota\",2018],[\"Springfield\",\"Missouri\",2018],[\"Detroit\",\"Michigan\",2018],[\"Los Angeles\",\"California\",2018],[\"Vallejo\",\"California\",2018],[\"Riverside\",\"California\",2018],[\"El Dorado\",\"Arkansas\",2018],[\"Pittsburgh\",\"Pennsylvania\",2018],[\"Memphis\",\"Tennessee\",2018],[\"Jersey City\",\"New Jersey\",2018],[\"Chicago\",\"Illinois\",2018],[\"Chicago\",\"Illinois\",2018],[\"Lakewood\",\"Washington\",2018],[\"Jacksonville\",\"Florida\",2018],[\"Atlanta\",\"Georgia\",2018],[\"Columbia\",\"Tennessee\",2018],[\"North Las Vegas\",\"Nevada\",2018],[\"East Palo Alto\",\"California\",2018],[\"Fort Worth\",\"Texas\",2018],[\"St. Louis\",\"Missouri\",2018],[\"Taft\",\"Texas\",2018],[\"Spartanburg\",\"South Carolina\",2018],[\"Las Vegas\",\"Nevada\",2018],[\"Birmingham\",\"Alabama\",2018],[\"Oakland\",\"California\",2018],[\"Tulsa\",\"Oklahoma\",2018],[\"Houston\",\"Texas\",2018],[\"Swainsboro\",\"Georgia\",2018],[\"Española\",\"New Mexico\",2018],[\"Philadelphia\",\"Pennsylvania\",2018],[\"Florence\",\"South Carolina\",2018],[\"Chicago\",\"Illinois\",2018],[\"Memphis\",\"Tennessee\",2018],[\"Aberdeen\",\"Maryl\",2018],[\"Masontown\",\"Pennsylvania\",2018],[\"Middleton\",\"Wisconsin\",2018],[\"Silver Spring\",\"Maryl\",2018],[\"Bakersfield\",\"California\",2018],[\"Cincinnati\",\"Ohio\",2018],[\"San Bernardino\",\"California\",2018],[\"Cleveland\",\"Ohio\",2018],[\"Pine Bluff\",\"Arkansas\",2018],[\"Jacksonville\",\"Florida\",2018],[\"Wichita Falls\",\"Texas\",2018],[\"Nashville\",\"Tennessee\",2018],[\"Richmond\",\"Virginia\",2018],[\"Philadelphia\",\"Pennsylvania\",2018],[\"St. Louis\",\"Missouri\",2018],[\"Memphis\",\"Tennessee\",2018],[\"Jackson\",\"Tennessee\",2018],[\"Cleveland\",\"Ohio\",2018],[\"Chicago\",\"Illinois\",2018],[\"Detroit\",\"Michigan\",2018],[\"New York City\",\"New York\",2018],[\"Trenton\",\"New Jersey\",2018],[\"Chicago\",\"Illinois\",2018],[\"Greenwood\",\"South Carolina\",2018],[\"Wyncote\",\"Pennsylvania\",2018],[\"Clearlake\",\"California\",2018],[\"Pittsburgh\",\"Pennsylvania\",2018],[\"San Francisco\",\"California\",2018],[\"Thornton\",\"Colorado\",2018],[\"Columbus\",\"Ohio\",2018],[\"Detroit\",\"Michigan\",2018],[\"St. Louis\",\"Missouri\",2018],[\"Philadelphia\",\"Pennsylvania\",2018],[\"Paterson\",\"New Jersey\",2018],[\"Chicago\",\"Illinois\",2018],[\"Chicago\",\"Illinois\",2018],[\"Chicago\",\"Illinois\",2018],[\"Chicago\",\"Illinois\",2018],[\"Chicago\",\"Illinois\",2018],[\"North Las Vegas\",\"Nevada\",2018],[\"Kansas City\",\"Missouri\",2018],[\"Milwaukee\",\"Wisconsin\",2018],[\"Chicago\",\"Illinois\",2018],[\"Gardena\",\"California\",2018],[\"Savannah\",\"Georgia\",2018],[\"Chicago\",\"Illinois\",2018],[\"Phoenix\",\"Arizona\",2018],[\"Lansing\",\"Michigan\",2018],[\"York\",\"Pennsylvania\",2018],[\"New Orleans\",\"Louisiana\",2018],[\"Los Angeles\",\"California\",2018],[\"Chicago\",\"Illinois\",2018],[\"Robstown\",\"Texas\",2018],[\"Dallas\",\"Texas\",2018],[\"Oakland\",\"California\",2018],[\"Cleveland\",\"Ohio\",2018],[\"New Orleans\",\"Louisiana\",2018],[\"Chicago\",\"Illinois\",2018],[\"Chicago\",\"Illinois\",2018],[\"Baltimore\",\"Maryl\",2018],[\"Elizabeth\",\"New Jersey\",2018],[\"Sunnyside\",\"Washington\",2018],[\"Oklahoma City\",\"Oklahoma\",2018],[\"Washington\",\"District of Columbia\",2018],[\"Palm Beach Gardens\",\"Florida\",2018],[\"Philadelphia\",\"Pennsylvania\",2018],[\"Denver\",\"Colorado\",2018],[\"Chattanooga\",\"Tennessee\",2018],[\"Fort Washington\",\"Maryl\",2018],[\"Richmond\",\"Virginia\",2018],[\"Memphis\",\"Tennessee\",2018],[\"Houston\",\"Texas\",2018],[\"Reddick\",\"Florida\",2018],[\"Prices Corner\",\"Delaware\",2018],[\"Orlando\",\"Florida\",2018],[\"Lowndes County\",\"Alabama\",2018],[\"Memphis\",\"Tennessee\",2018],[\"Wetumpka\",\"Alabama\",2018],[\"New York City\",\"New York\",2018],[\"Albany\",\"New York\",2018],[\"Los Angeles\",\"California\",2018],[\"Virginia Beach\",\"Virginia\",2018],[\"Lima\",\"Ohio\",2018],[\"Gary\",\"Indiana\",2018],[\"Atlanta\",\"Georgia\",2018],[\"Washington\",\"District of Columbia\",2018],[\"St. Louis\",\"Missouri\",2018],[\"Buffalo\",\"New York\",2018],[\"Chicago\",\"Illinois\",2018],[\"Ashburn\",\"Georgia\",2018],[\"Baltimore\",\"Maryl\",2018],[\"Jersey City\",\"New Jersey\",2018],[\"Annapolis\",\"Maryl\",2018],[\"Oakland\",\"California\",2018],[\"San Antonio\",\"Texas\",2018],[\"Hartford\",\"Connecticut\",2018],[\"Chicago\",\"Illinois\",2018],[\"Punta Gorda\",\"Florida\",2018],[\"Sanford\",\"North Carolina\",2018],[\"Indiantown\",\"Florida\",2018],[\"Palm Beach Gardens\",\"Florida\",2018],[\"Gary\",\"Indiana\",2018],[\"Sandusky\",\"Ohio\",2018],[\"Wichita\",\"Kansas\",2018],[\"Chicago\",\"Illinois\",2018],[\"Covington\",\"Tennessee\",2018],[\"Homestead\",\"Pennsylvania\",2018],[\"Chicago\",\"Illinois\",2018],[\"Morganza\",\"Louisiana\",2018],[\"San Bernardino\",\"California\",2018],[\"Modesto\",\"California\",2018],[\"Huntsville\",\"Alabama\",2018],[\"Chicago\",\"Illinois\",2018],[\"Bloomington\",\"Illinois\",2018],[\"Trenton\",\"New Jersey\",2018],[\"Macon\",\"Georgia\",2018],[\"Chicago\",\"Illinois\",2018],[\"Charlotte\",\"North Carolina\",2018],[\"Tracy\",\"California\",2018],[\"Westminster\",\"Colorado\",2018],[\"Buffalo\",\"New York\",2018],[\"Philadelphia\",\"Pennsylvania\",2018],[\"Union City\",\"California\",2018],[\"New York City\",\"New York\",2018],[\"Montgomery\",\"Alabama\",2018],[\"Orlando\",\"Florida\",2018],[\"Valley Village\",\"California\",2018],[\"Bradenton\",\"Florida\",2018],[\"Chicago\",\"Illinois\",2018],[\"Bloomington\",\"Illinois\",2018],[\"Aurora\",\"Illinois\",2018],[\"Indianapolis\",\"Indiana\",2018],[\"Philadelphia\",\"Pennsylvania\",2018],[\"Kannapolis\",\"North Carolina\",2018],[\"Boston\",\"Massachusetts\",2018],[\"Jacksonville\",\"Florida\",2018],[\"Scottsdale\",\"Arizona\",2018],[\"Chicago\",\"Illinois\",2018],[\"Dallas\",\"Texas\",2018],[\"Buffalo\",\"New York\",2018],[\"Omaha\",\"Nebraska\",2018],[\"Timmonsville\",\"South Carolina\",2018],[\"Shreveport\",\"Louisiana\",2018],[\"Aurora\",\"Colorado\",2018],[\"Cincinnati\",\"Ohio\",2018],[\"Hazlehurst\",\"Mississippi\",2018],[\"Anderson\",\"Indiana\",2018],[\"Santa Fe\",\"Texas\",2018],[\"Ponder\",\"Texas\",2018],[\"Baltimore\",\"Maryl\",2018],[\"Stockton\",\"California\",2018],[\"Byhalia\",\"Mississippi\",2018],[\"Los Angeles\",\"California\",2018],[\"Omaha\",\"Nebraska\",2018],[\"Paulsboro\",\"New Jersey\",2018],[\"Talihina\",\"Oklahoma\",2018],[\"St. Louis\",\"Missouri\",2018],[\"Omaha\",\"Nebraska\",2018],[\"St. Louis\",\"Missouri\",2018],[\"San Diego\",\"California\",2018],[\"Stillwater\",\"Oklahoma\",2018],[\"Memphis\",\"Tennessee\",2018],[\"Columbus\",\"Georgia\",2018],[\"Henderson\",\"North Carolina\",2018],[\"Chicago Heights\",\"Illinois\",2018],[\"Chicago\",\"Illinois\",2018],[\"New York City\",\"New York\",2018],[\"Minneapolis\",\"Minnesota\",2018],[\"New Orleans\",\"Louisiana\",2018],[\"Pompano Beach\",\"Florida\",2018],[\"Washington\",\"District of Columbia\",2018],[\"Wartburg\",\"Tennessee\",2018],[\"Bryn Mawr-Skyway\",\"Washington\",2018],[\"Monroe\",\"North Carolina\",2018],[\"West Palm Beach\",\"Florida\",2018],[\"Maxton\",\"North Carolina\",2018],[\"Pine Bluff\",\"Arkansas\",2018],[\"St. Louis\",\"Missouri\",2018],[\"Flint\",\"Michigan\",2018],[\"Nashville\",\"Tennessee\",2018],[\"New Orleans\",\"Louisiana\",2018],[\"Philadelphia\",\"Pennsylvania\",2018],[\"San Francisco\",\"California\",2018],[\"Asheville\",\"North Carolina\",2018],[\"Shreveport\",\"Louisiana\",2018],[\"Vallejo\",\"California\",2018],[\"Miami\",\"Florida\",2018],[\"Hickory\",\"North Carolina\",2018],[\"Jacksonville\",\"Florida\",2018],[\"Virginia Beach\",\"Virginia\",2018],[\"New Orleans\",\"Louisiana\",2018],[\"San Bruno\",\"California\",2018],[\"Houston\",\"Texas\",2018],[\"Mobile\",\"Alabama\",2018],[\"Saginaw\",\"Michigan\",2018],[\"Asbury Park\",\"New Jersey\",2018],[\"Camden\",\"New Jersey\",2018],[\"Plano\",\"Texas\",2018],[\"West Valley City\",\"Utah\",2018],[\"San Francisco\",\"California\",2018],[\"Louisville\",\"Kentucky\",2018],[\"Harvey\",\"Illinois\",2018],[\"Macclenny\",\"Florida\",2018],[\"Modesto\",\"California\",2018],[\"Saginaw\",\"Michigan\",2018],[\"Champaign\",\"Illinois\",2018],[\"South Bend\",\"Indiana\",2018],[\"Yountville\",\"California\",2018],[\"Wadesboro\",\"North Carolina\",2018],[\"Hurtsboro\",\"Alabama\",2018],[\"Rockford\",\"Illinois\",2018],[\"Miami\",\"Florida\",2018],[\"New York City\",\"New York\",2018],[\"Bridgeport\",\"Connecticut\",2018],[\"Detroit\",\"Michigan\",2018],[\"Palm Beach Gardens\",\"Florida\",2018],[\"San Antonio\",\"Texas\",2018],[\"Memphis\",\"Tennessee\",2018],[\"Kansas City\",\"Kansas\",2018],[\"Oklahoma City\",\"Oklahoma\",2018],[\"Parkland\",\"Florida\",2018],[\"New Orleans\",\"Louisiana\",2018],[\"Detroit\",\"Michigan\",2018],[\"Paintsville\",\"Kentucky\",2018],[\"Lake Worth\",\"Florida\",2018],[\"Colorado Springs\",\"Colorado\",2018],[\"Cleveland\",\"Ohio\",2018],[\"St. Louis\",\"Missouri\",2018],[\"Melcroft\",\"Pennsylvania\",2018],[\"Reading\",\"Pennsylvania\",2018],[\"Indianapolis\",\"Indiana\",2018],[\"Los Angeles\",\"California\",2018],[\"Bowling Green\",\"Kentucky\",2018],[\"Washington\",\"District of Columbia\",2018],[\"Philadelphia\",\"Pennsylvania\",2018],[\"Benton\",\"Kentucky\",2018],[\"Orlando\",\"Florida\",2018],[\"Chicago\",\"Illinois\",2018],[\"Washington\",\"District of Columbia\",2018],[\"Alachua\",\"Florida\",2018],[\"Eutaw\",\"Alabama\",2018],[\"Madison\",\"Alabama\",2018],[\"Nashville\",\"Tennessee\",2018],[\"St. Robert\",\"Missouri\",2018],[\"Union Springs\",\"Alabama\",2018],[\"Plantation\",\"Florida\",2018],[\"Hattiesburg\",\"Mississippi\",2018],[\"Brinkley\",\"Arkansas\",2018],[\"Huntsville\",\"Alabama\",2018],[\"Highlands Ranch\",\"Colorado\",2017],[\"Aztec\",\"New Mexico\",2017],[\"Tehama County\",\"California\",2017],[\"Sutherland Springs\",\"Texas\",2017],[\"Paradise\",\"Nevada\",2017],[\"Antioch\",\"Tennessee\",2017],[\"Plano\",\"Texas\",2017],[\"Clovis\",\"New Mexico\",2017],[\"Little Rock\",\"Arkansas\",2017],[\"New York City\",\"New York\",2017],[\"San Francisco\",\"California\",2017],[\"Alexandria\",\"Virginia\",2017],[\"Eaton Township\",\"Pennsylvania\",2017],[\"Sandy\",\"Utah\",2017],[\"Orlando\",\"Florida\",2017],[\"Lincoln County\",\"Mississippi\",2017],[\"Kirkersville\",\"Ohio\",2017],[\"San Bernardino\",\"California\",2017],[\"Cincinnati\",\"Ohio\",2017],[\"Schofield and Rothschild\",\"Wisconsin\",2017],[\"Broward County\",\"Florida\",2017],[\"Townville\",\"South Carolina\",2016],[\"Burlington\",\"Washington\",2016],[\"Citronelle\",\"Alabama\",2016],[\"Mukilteo\",\"Washington\",2016],[\"Baton Rouge\",\"Louisiana\",2016],[\"St. Joseph\",\"Michigan\",2016],[\"Dallas\",\"Texas\",2016],[\"Orlando\",\"Florida\",2016],[\"Wilkinsburg\",\"Pennsylvania\",2016],[\"Hesston and Newton\",\"Kansas\",2016],[\"Kalamazoo\",\"Michigan\",2016],[\"San Bernardino\",\"California\",2015],[\"Colorado Springs\",\"Colorado\",2015],[\"Minneapolis\",\"Minnesota\",2015],[\"Colorado Springs\",\"Colorado\",2015],[\"Flagstaff\",\"Arizona\",2015],[\"Roseburg\",\"Oregon\",2015],[\"Moneta\",\"Virginia\",2015],[\"Harris County\",\"Texas\",2015],[\"Lafayette\",\"Louisiana\",2015],[\"Chattanooga\",\"Tennessee\",2015],[\"Charleston\",\"South Carolina\",2015],[\"Waco\",\"Texas\",2015],[\"Tyrone\",\"Missouri\",2015],[\"Montgomery County\",\"Pennsylvania\",2014],[\"Portland\",\"Oregon\",2014],[\"Marysville\",\"Washington\",2014],[\"Spring\",\"Texas\",2014],[\"Isla Vista\",\"California\",2014],[\"Fort Hood\",\"Texas\",2014],[\"Los Angeles\",\"California\",2013],[\"Saylorsburg\",\"Pennsylvania\",2013],[\"Hialeah\",\"Florida\",2013],[\"Santa Monica\",\"California\",2013],[\"South Valley\",\"New Mexico\",2013],[\"Webster\",\"New York\",2012],[\"Newtown\",\"Connecticut\",2012],[\"Clackamas\",\"Oregon\",2012],[\"Brookfield\",\"Wisconsin\",2012],[\"Minneapolis\",\"Minnesota\",2012],[\"New York City\",\"New York\",2012],[\"College Station\",\"Texas\",2012],[\"Oak Creek\",\"Wisconsin\",2012],[\"Aurora\",\"Colorado\",2012],[\"Seattle\",\"Washington\",2012],[\"Oakland\",\"California\",2012],[\"Chardon\",\"Ohio\",2012],[\"Irwindale\",\"California\",2011],[\"Seal Beach\",\"California\",2011],[\"Carson City\",\"Nevada\",2011],[\"Copley Township\",\"Ohio\",2011],[\"Grand Rapids\",\"Michigan\",2011],[\"Tucson\",\"Arizona\",2011],[\"Saipan\",\"Northern Mariana Isls\",2009],[\"Fort Hood\",\"Texas\",2009],[\"Collier Township\",\"Pennsylvania\",2009],[\"Pittsburgh\",\"Pennsylvania\",2009],[\"Binghamton\",\"New York\",2009],[\"Carthage\",\"North Carolina\",2009],[\"Geneva\",\"Samson\",2009],[\"Covina\",\"California\",2008],[\"Skagit County\",\"Washington\",2008],[\"DeKalb\",\"Illinois\",2008],[\"Kirkwood\",\"Missouri\",2008],[\"Tinley Park\",\"Illinois\",2008],[\"Arvada\",\"Colorado Springs\",2007],[\"Omaha\",\"Nebraska\",2007],[\"Crandon\",\"Wisconsin\",2007],[\"Blacksburg\",\"Virginia\",2007],[\"Salt Lake City\",\"Utah\",2007],[\"Bart Township\",\"Lancaster County\",2006],[\"Seattle\",\"Washington\",2006],[\"Indianapolis\",\"Indiana\",2006],[\"Seattle\",\"Washington\",2006],[\"Goleta\",\"California\",2006],[\"Tacoma\",\"Washington\",2005],[\"Red Lake\",\"Minnesota\",2005],[\"Brookfield\",\"Wisconsin\",2005],[\"Columbus\",\"Ohio\",2004],[\"Meteor\",\"Wisconsin\",2004],[\"Fresno\",\"California\",2004],[\"Meridian\",\"Mississippi\",2003],[\"Madison County\",\"Montana\",2003],[\"New Orleans\",\"Louisiana\",2003],[\"Los Angeles\",\"California\",2002],[\"Grundy\",\"Virginia\",2002],[\"Santee\",\"California\",2001],[\"Nevada County\",\"California\",2001],[\"Wakefield\",\"Massachusetts\",2000],[\"New York City\",\"New York\",2000],[\"Scott Township\",\"Robinson Township\",2000],[\"Honolulu\",\"Hawaii\",1999],[\"Fort Worth\",\"Texas\",1999],[\"Los Angeles\",\"California\",1999],[\"Conyers\",\"Georgia\",1999],[\"Columbine\",\"Colorado\",1999],[\"Tacoma\",\"Washington\",1998],[\"Springfield\",\"Oregon\",1998],[\"Edinboro\",\"Pennsylvania\",1998],[\"Craighead County\",\"Arkansas\",1998],[\"Newington\",\"Connecticut\",1998],[\"West Paducah\",\"Kentucky\",1997],[\"Pearl\",\"Mississippi\",1997],[\"Aiken\",\"South Carolina\",1997],[\"Bethel\",\"Alaska\",1997],[\"Moses Lake\",\"Washington\",1996],[\"Wickliffe\",\"Ohio\",1994],[\"Fairchild Air Force Base\",\"Washington\",1994],[\"Aurora\",\"Colorado\",1993],[\"Garden City\",\"New York\",1993],[\"San Francisco\",\"California\",1993],[\"Langley\",\"Virginia\",1993],[\"Palatine\",\"Illinois\",1993],[\"Great Barrington\",\"Massachusetts\",1992],[\"Olivehurst\",\"California\",1992],[\"Austin\",\"Texas\",1991],[\"Iowa City\",\"Iowa\",1991],[\"Killeen\",\"Texas\",1991],[\"Sacramento County\",\"California\",1991],[\"Las Cruces\",\"New Mexico\",1990],[\"Louisville\",\"Kentucky\",1989],[\"Stockton\",\"California\",1989],[\"Greenwood\",\"South Carolina\",1988],[\"Winston-Salem\",\"North Carolina\",1988],[\"Winnetka\",\"Illinois\",1988],[\"Sunnyvale\",\"California\",1988],[\"Cayucos\",\"California\",1987],[\"Edmond\",\"Oklahoma\",1986],[\"Springfield\",\"Pennsylvania\",1985],[\"Detroit\",\"Michigan\",1985],[\"New York City\",\"New York\",1984],[\"San Diego\",\"California\",1984],[\"New York City\",\"New York\",1984],[\"Los Angeles\",\"California\",1984],[\"Seattle\",\"Washington\",1983],[\"Wilkes-Barre\",\"Pennsylvania  Jenkins Township\",1982],[\"Miami\",\"Florida\",1982],[\"Anchorage\",\"Alaska\",1982],[\"Salem\",\"Oregon\",1981],[\"Daingerfield\",\"Texas\",1980],[\"Greensboro\",\"North Carolina\",1979],[\"San Diego\",\"California\",1979],[\"Boston\",\"Massachusetts\",1978],[\"San Francisco\",\"California\",1977],[\"Fullerton\",\"California\",1976],[\"Hamilton\",\"Ohio\",1975],[\"Olean\",\"New York\",1974],[\"Amityville\",\"New York\",1974],[\"New Britain\",\"Connecticut\",1974],[\"Ogden\",\"Utah\",1974],[\"Lyon County\",\"Iowa\",1973],[\"Saint Croix\",\"United States Virgin Isls\",1972],[\"Westfield\",\"New Jersey\",1971],[\"Dallas\",\"Texas\",1971],[\"San Rafael\",\"California\",1970],[\"Jackson\",\"Mississippi\",1970],[\"Kent\",\"Ohio\",1970],[\"Good Hart\",\"Michigan\",1968],[\"Orangeburg\",\"South Carolina\",1968],[\"Mesa\",\"Arizona\",1966],[\"Austin\",\"Texas\",1966],[\"Orcutt\",\"California\",1965],[\"Osprey\",\"Florida\",1959],[\"Holcomb\",\"Kansas\",1959],[\"Maxton\",\"North Carolina\",1958],[\"Camden\",\"New Jersey\",1949],[\"Walton County\",\"Georgia\",1946],[\"Salina\",\"Utah\",1945],[\"Rio Piedras\",\"Puerto Rico\",1935],[\"Kansas City\",\"Missouri\",1933],[\"Germanton\",\"North Carolina\",1929],[\"Chicago\",\"Illinois\",1929],[\"Serene\",\"Colorado\",1927],[\"Hanapepe\",\"Hawaii\",1924]],\"hovertemplate\":\"Injured=%{x}<br>Dead=%{marker.color}<br>City=%{customdata[0]}<br>State=%{customdata[1]}<br>year=%{customdata[2]}<extra></extra>\",\"legendgroup\":\"\",\"marker\":{\"color\":[0,0,0,0,1,3,0,1,1,7,0,0,0,0,1,1,0,1,0,0,0,0,3,0,3,0,1,2,0,1,3,0,0,0,1,1,0,0,1,1,0,1,1,0,0,2,0,2,1,2,1,1,0,1,1,0,2,0,0,0,2,0,1,0,4,1,2,2,0,0,1,3,0,0,2,0,1,0,1,3,0,0,0,4,2,1,0,3,2,2,1,3,0,1,1,1,1,0,1,1,2,5,5,0,4,1,0,2,1,1,0,0,1,0,0,1,0,1,0,0,4,0,0,22,0,0,5,4,0,2,1,1,1,2,4,0,1,1,1,0,0,2,10,0,2,0,1,0,1,0,1,1,0,1,0,0,0,0,3,2,0,2,2,0,0,0,0,0,0,1,0,1,1,1,0,2,0,2,1,2,0,4,0,0,3,1,2,1,0,2,0,1,1,0,0,4,5,4,1,1,0,0,1,2,0,0,0,1,0,1,0,1,2,1,0,1,0,2,1,1,2,0,1,0,4,1,1,0,2,0,6,2,1,1,1,1,0,0,2,0,0,2,0,2,0,2,0,0,1,0,2,0,0,0,1,2,1,1,3,0,1,0,0,2,0,1,0,1,2,1,0,1,2,1,3,1,1,3,1,0,0,0,2,0,1,1,1,0,0,1,1,5,0,0,1,0,1,1,2,0,4,0,1,1,1,1,0,2,0,1,0,2,0,0,1,1,1,0,1,1,0,2,0,0,2,0,0,6,1,1,0,0,1,1,0,1,3,4,2,1,6,4,1,0,3,1,1,0,1,1,0,0,3,1,0,1,0,2,1,1,1,2,2,0,2,1,0,1,1,0,2,0,0,4,0,2,1,1,6,3,0,1,0,0,0,0,1,0,1,1,0,1,0,0,0,2,1,0,0,0,1,1,0,0,1,0,1,2,2,3,4,4,0,5,0,0,1,1,3,2,0,0,1,2,1,0,0,2,1,0,1,0,0,0,0,2,4,1,1,0,0,0,2,2,0,3,1,0,1,2,0,0,1,3,0,0,0,0,2,1,2,1,2,1,2,0,1,0,1,1,0,0,0,1,3,0,2,2,1,0,1,0,0,0,0,4,4,3,1,0,3,1,0,0,0,1,1,0,1,3,1,0,1,1,0,2,1,0,1,2,1,0,1,0,0,3,0,1,1,1,0,0,1,1,1,1,0,0,1,1,1,0,3,0,0,4,0,2,0,0,4,2,0,2,0,1,1,1,0,2,1,0,2,1,0,2,1,0,0,0,0,0,4,0,2,2,1,0,0,0,1,0,0,1,0,0,1,0,4,0,4,0,0,0,0,0,1,3,2,0,0,1,0,1,1,0,2,3,1,0,0,0,0,0,1,2,0,0,0,0,1,1,1,0,1,1,1,1,0,1,2,0,1,0,0,1,3,0,1,0,0,0,1,1,2,2,2,1,1,1,2,0,1,0,0,0,0,0,1,3,0,1,0,1,0,0,0,0,2,0,1,0,3,0,1,2,2,0,5,0,0,2,0,0,2,2,1,0,2,1,2,4,0,0,0,1,1,3,1,2,0,1,1,1,1,0,1,2,1,1,0,0,0,2,0,1,0,0,2,3,1,0,1,0,0,1,1,0,2,0,0,0,3,0,0,0,0,2,1,0,3,0,1,0,0,1,1,0,2,1,1,3,0,0,1,1,3,0,1,1,1,1,1,0,0,0,1,2,0,0,0,0,3,3,1,0,1,1,1,1,1,1,1,2,0,0,2,0,0,1,1,0,5,2,2,1,1,1,3,1,1,0,1,0,1,2,1,0,1,1,0,3,0,1,4,0,0,0,0,3,0,2,1,0,0,1,0,0,0,1,0,1,3,2,1,1,0,0,10,0,2,4,0,0,0,3,0,2,0,1,1,1,2,1,2,0,1,2,0,1,0,1,0,0,1,2,1,1,0,0,2,0,1,0,0,1,7,0,4,0,0,2,0,0,1,0,0,0,1,1,1,1,0,1,2,3,0,1,0,5,1,2,0,0,1,1,0,0,0,1,2,2,0,1,1,3,0,0,1,0,9,0,0,0,0,1,1,1,1,0,1,1,0,0,1,1,7,2,4,1,0,0,6,0,1,0,3,0,0,4,2,0,5,0,0,0,0,1,0,3,0,2,1,0,2,1,2,10,0,1,1,0,0,0,4,8,1,0,2,0,4,1,0,2,0,1,1,2,0,3,1,0,2,1,1,0,1,0,0,0,0,2,0,4,0,2,1,1,1,0,0,1,3,1,1,1,1,0,3,0,1,0,0,1,0,0,1,0,0,1,1,1,2,1,3,2,1,3,2,3,6,1,1,2,1,0,1,0,6,0,1,0,0,0,1,0,0,0,0,1,6,0,1,1,0,0,0,1,2,2,0,0,0,0,1,1,0,0,1,1,1,1,2,3,5,1,1,5,4,2,0,0,0,4,0,1,1,1,0,0,2,2,0,0,1,0,1,4,2,0,0,1,0,1,1,1,0,2,1,0,3,0,1,0,3,0,0,0,0,2,0,3,2,0,0,0,2,1,0,0,0,1,0,2,3,0,4,1,0,1,0,2,1,2,0,0,0,0,0,1,1,0,0,1,1,0,1,2,2,0,1,0,0,1,1,3,0,1,0,1,1,0,1,1,1,3,2,2,0,0,2,0,1,0,2,1,1,1,0,1,3,1,0,0,0,0,0,0,0,2,0,0,0,0,1,1,0,0,2,0,1,0,1,0,1,0,0,0,1,2,0,0,2,0,2,0,2,1,0,3,0,2,0,0,3,1,0,7,1,0,0,1,0,0,0,0,0,0,1,1,0,1,0,0,0,1,0,0,0,1,2,0,0,1,0,0,2,1,1,2,0,0,1,3,0,0,0,0,0,1,1,0,0,0,0,1,1,0,1,1,0,0,1,0,0,3,0,0,2,1,0,2,2,1,0,2,1,4,0,0,0,1,1,0,0,0,1,0,0,1,0,0,1,1,1,0,0,0,1,1,1,0,0,0,0,1,2,1,1,0,0,0,5,3,0,2,1,1,0,0,1,1,1,0,1,0,2,0,0,2,1,2,0,0,0,1,0,3,2,0,1,0,0,1,0,0,0,1,1,0,0,0,1,0,1,1,1,2,1,0,2,0,0,4,0,0,1,0,0,2,0,1,0,1,0,2,2,0,2,1,0,0,1,1,4,0,1,1,0,0,1,0,1,2,0,1,0,0,0,0,1,0,1,0,2,2,1,0,0,1,3,0,0,0,0,1,0,0,0,0,0,0,0,3,0,0,1,0,1,0,1,0,0,0,2,1,0,0,1,0,0,0,0,2,0,0,1,0,0,1,1,0,2,2,0,1,1,0,0,1,0,6,0,2,0,1,1,2,2,0,1,0,0,0,2,1,0,0,1,0,1,0,7,1,0,0,0,0,1,0,1,1,1,1,0,0,0,1,0,1,0,1,2,3,0,0,0,0,1,0,3,0,2,0,0,1,1,0,1,1,0,1,2,0,0,1,4,0,0,0,1,1,0,0,0,0,0,0,1,2,1,0,0,0,0,0,5,0,1,1,0,1,0,3,2,1,1,1,0,0,0,0,1,1,0,1,1,1,2,0,0,3,0,0,1,0,0,0,0,1,0,5,7,2,1,0,0,2,1,1,0,1,1,0,0,0,1,0,1,6,1,0,0,3,2,0,4,0,2,1,1,1,0,0,0,1,3,0,1,1,4,3,1,0,4,0,1,1,0,0,3,3,0,0,2,5,1,2,2,2,1,4,0,2,0,2,0,1,0,4,0,3,0,0,1,3,0,2,0,1,0,0,1,1,0,0,0,0,1,2,2,2,0,4,1,0,1,6,4,2,1,4,4,3,2,1,2,2,0,1,0,0,2,1,0,2,0,1,0,0,0,1,4,0,5,3,0,0,1,0,0,0,2,1,0,1,1,0,0,0,5,3,1,1,0,2,0,2,1,0,1,1,0,2,0,6,3,0,0,1,4,0,1,5,0,1,2,1,5,0,0,4,4,1,1,0,0,0,0,1,4,3,1,2,0,2,0,0,1,1,1,3,2,2,0,2,1,0,1,4,0,1,2,3,0,0,2,5,0,2,0,0,0,0,8,1,0,1,0,1,4,1,3,0,1,2,1,2,2,0,0,0,1,0,0,2,0,0,1,2,0,2,3,0,0,0,0,0,1,2,0,4,1,0,4,1,0,1,0,10,23,2,3,3,2,0,3,0,1,5,0,4,0,0,1,1,3,4,2,0,0,0,0,0,1,1,0,2,1,0,0,1,0,0,2,2,0,0,0,0,2,0,0,1,0,4,0,1,0,1,0,2,0,0,0,2,0,0,0,0,0,0,0,0,0,0,0,1,3,0,1,1,5,1,0,0,1,0,0,0,1,1,0,0,1,1,0,0,4,1,2,0,1,1,0,5,0,0,1,0,0,1,0,0,0,0,13,0,2,1,0,1,2,1,0,1,0,0,0,1,0,2,0,1,1,0,1,1,2,1,0,0,4,0,0,0,0,0,0,1,0,1,0,0,1,0,0,1,1,2,0,4,0,1,0,1,1,0,0,0,0,0,0,0,1,0,2,1,0,3,1,0,0,0,2,0,0,0,0,3,1,0,0,1,1,0,0,0,0,1,2,0,0,1,1,2,1,1,0,1,0,0,0,1,4,1,2,2,1,2,0,4,1,2,0,4,6,2,5,0,1,1,2,0,0,2,0,2,0,0,0,1,5,4,4,5,0,3,1,3,0,0,3,1,3,1,1,0,3,3,1,3,1,0,0,3,1,4,2,0,0,0,0,1,0,1,0,1,0,0,0,1,2,0,2,2,3,0,4,4,1,1,3,1,3,2,4,3,1,3,2,13,0,3,0,0,2,1,0,2,0,2,11,0,1,0,0,1,0,0,5,3,2,0,0,4,0,0,0,0,0,1,0,1,1,2,2,3,4,1,1,4,6,4,0,1,1,3,1,1,0,0,0,0,1,1,0,1,0,0,0,0,0,4,0,1,1,0,0,0,2,0,0,0,0,1,1,0,0,0,1,2,0,0,1,0,0,3,2,0,5,0,2,1,0,0,2,0,0,1,0,1,2,1,0,0,0,1,0,0,0,5,1,0,0,3,0,0,3,0,1,1,1,0,1,2,0,1,0,0,5,1,0,0,0,0,1,0,1,1,0,0,1,0,1,0,0,1,0,0,2,3,1,1,0,0,1,1,1,0,0,0,0,5,0,1,1,2,0,1,1,0,0,3,7,1,0,0,1,3,0,1,0,1,0,10,5,0,3,0,2,0,0,1,0,0,0,0,0,2,0,0,0,1,1,0,0,0,0,0,2,1,1,0,0,3,0,4,1,2,1,4,0,0,2,1,0,1,2,1,1,1,0,0,0,1,0,1,0,0,0,0,0,1,0,5,3,2,1,0,1,0,5,1,0,0,1,1,17,3,4,5,3,2,1,0,5,4,2,0,0,0,0,2,0,0,1,0,1,0,3,2,1,0,0,1,1,2,3,6,27,61,1,9,2,0,2,4,1,4,3,6,8,4,3,2,5,5,2,5,6,3,5,3,6,50,6,4,6,16,3,0,4,1,10,3,8,3,6,9,9,8,6,0,5,6,7,4,1,3,7,6,5,3,28,3,4,7,2,3,7,12,6,7,3,3,8,5,8,8,6,5,14,4,3,14,8,11,10,6,6,7,5,5,9,7,33,6,6,1,7,7,8,0,10,8,5,6,9,7,1,1,3,3,2,3,7,5,5,7,8,1,0,15,5,4,1,5,5,3,3,4,2,3,1,5,4,6,9,2,7,2,4,4,6,24,6,4,9,6,2,4,2,7,43,15,3,0,0,22,10,3,13,13,8,4,5,5,5,2,5,5,7,11,3,6,6,3,4,8,5,3,4,2,4,6,3,5,17,4,4,4,0,13,4,9,5,5,7,7,6,20],\"coloraxis\":\"coloraxis\",\"size\":[0,0,0,0,1,3,0,1,1,7,0,0,0,0,1,1,0,1,0,0,0,0,3,0,3,0,1,2,0,1,3,0,0,0,1,1,0,0,1,1,0,1,1,0,0,2,0,2,1,2,1,1,0,1,1,0,2,0,0,0,2,0,1,0,4,1,2,2,0,0,1,3,0,0,2,0,1,0,1,3,0,0,0,4,2,1,0,3,2,2,1,3,0,1,1,1,1,0,1,1,2,5,5,0,4,1,0,2,1,1,0,0,1,0,0,1,0,1,0,0,4,0,0,22,0,0,5,4,0,2,1,1,1,2,4,0,1,1,1,0,0,2,10,0,2,0,1,0,1,0,1,1,0,1,0,0,0,0,3,2,0,2,2,0,0,0,0,0,0,1,0,1,1,1,0,2,0,2,1,2,0,4,0,0,3,1,2,1,0,2,0,1,1,0,0,4,5,4,1,1,0,0,1,2,0,0,0,1,0,1,0,1,2,1,0,1,0,2,1,1,2,0,1,0,4,1,1,0,2,0,6,2,1,1,1,1,0,0,2,0,0,2,0,2,0,2,0,0,1,0,2,0,0,0,1,2,1,1,3,0,1,0,0,2,0,1,0,1,2,1,0,1,2,1,3,1,1,3,1,0,0,0,2,0,1,1,1,0,0,1,1,5,0,0,1,0,1,1,2,0,4,0,1,1,1,1,0,2,0,1,0,2,0,0,1,1,1,0,1,1,0,2,0,0,2,0,0,6,1,1,0,0,1,1,0,1,3,4,2,1,6,4,1,0,3,1,1,0,1,1,0,0,3,1,0,1,0,2,1,1,1,2,2,0,2,1,0,1,1,0,2,0,0,4,0,2,1,1,6,3,0,1,0,0,0,0,1,0,1,1,0,1,0,0,0,2,1,0,0,0,1,1,0,0,1,0,1,2,2,3,4,4,0,5,0,0,1,1,3,2,0,0,1,2,1,0,0,2,1,0,1,0,0,0,0,2,4,1,1,0,0,0,2,2,0,3,1,0,1,2,0,0,1,3,0,0,0,0,2,1,2,1,2,1,2,0,1,0,1,1,0,0,0,1,3,0,2,2,1,0,1,0,0,0,0,4,4,3,1,0,3,1,0,0,0,1,1,0,1,3,1,0,1,1,0,2,1,0,1,2,1,0,1,0,0,3,0,1,1,1,0,0,1,1,1,1,0,0,1,1,1,0,3,0,0,4,0,2,0,0,4,2,0,2,0,1,1,1,0,2,1,0,2,1,0,2,1,0,0,0,0,0,4,0,2,2,1,0,0,0,1,0,0,1,0,0,1,0,4,0,4,0,0,0,0,0,1,3,2,0,0,1,0,1,1,0,2,3,1,0,0,0,0,0,1,2,0,0,0,0,1,1,1,0,1,1,1,1,0,1,2,0,1,0,0,1,3,0,1,0,0,0,1,1,2,2,2,1,1,1,2,0,1,0,0,0,0,0,1,3,0,1,0,1,0,0,0,0,2,0,1,0,3,0,1,2,2,0,5,0,0,2,0,0,2,2,1,0,2,1,2,4,0,0,0,1,1,3,1,2,0,1,1,1,1,0,1,2,1,1,0,0,0,2,0,1,0,0,2,3,1,0,1,0,0,1,1,0,2,0,0,0,3,0,0,0,0,2,1,0,3,0,1,0,0,1,1,0,2,1,1,3,0,0,1,1,3,0,1,1,1,1,1,0,0,0,1,2,0,0,0,0,3,3,1,0,1,1,1,1,1,1,1,2,0,0,2,0,0,1,1,0,5,2,2,1,1,1,3,1,1,0,1,0,1,2,1,0,1,1,0,3,0,1,4,0,0,0,0,3,0,2,1,0,0,1,0,0,0,1,0,1,3,2,1,1,0,0,10,0,2,4,0,0,0,3,0,2,0,1,1,1,2,1,2,0,1,2,0,1,0,1,0,0,1,2,1,1,0,0,2,0,1,0,0,1,7,0,4,0,0,2,0,0,1,0,0,0,1,1,1,1,0,1,2,3,0,1,0,5,1,2,0,0,1,1,0,0,0,1,2,2,0,1,1,3,0,0,1,0,9,0,0,0,0,1,1,1,1,0,1,1,0,0,1,1,7,2,4,1,0,0,6,0,1,0,3,0,0,4,2,0,5,0,0,0,0,1,0,3,0,2,1,0,2,1,2,10,0,1,1,0,0,0,4,8,1,0,2,0,4,1,0,2,0,1,1,2,0,3,1,0,2,1,1,0,1,0,0,0,0,2,0,4,0,2,1,1,1,0,0,1,3,1,1,1,1,0,3,0,1,0,0,1,0,0,1,0,0,1,1,1,2,1,3,2,1,3,2,3,6,1,1,2,1,0,1,0,6,0,1,0,0,0,1,0,0,0,0,1,6,0,1,1,0,0,0,1,2,2,0,0,0,0,1,1,0,0,1,1,1,1,2,3,5,1,1,5,4,2,0,0,0,4,0,1,1,1,0,0,2,2,0,0,1,0,1,4,2,0,0,1,0,1,1,1,0,2,1,0,3,0,1,0,3,0,0,0,0,2,0,3,2,0,0,0,2,1,0,0,0,1,0,2,3,0,4,1,0,1,0,2,1,2,0,0,0,0,0,1,1,0,0,1,1,0,1,2,2,0,1,0,0,1,1,3,0,1,0,1,1,0,1,1,1,3,2,2,0,0,2,0,1,0,2,1,1,1,0,1,3,1,0,0,0,0,0,0,0,2,0,0,0,0,1,1,0,0,2,0,1,0,1,0,1,0,0,0,1,2,0,0,2,0,2,0,2,1,0,3,0,2,0,0,3,1,0,7,1,0,0,1,0,0,0,0,0,0,1,1,0,1,0,0,0,1,0,0,0,1,2,0,0,1,0,0,2,1,1,2,0,0,1,3,0,0,0,0,0,1,1,0,0,0,0,1,1,0,1,1,0,0,1,0,0,3,0,0,2,1,0,2,2,1,0,2,1,4,0,0,0,1,1,0,0,0,1,0,0,1,0,0,1,1,1,0,0,0,1,1,1,0,0,0,0,1,2,1,1,0,0,0,5,3,0,2,1,1,0,0,1,1,1,0,1,0,2,0,0,2,1,2,0,0,0,1,0,3,2,0,1,0,0,1,0,0,0,1,1,0,0,0,1,0,1,1,1,2,1,0,2,0,0,4,0,0,1,0,0,2,0,1,0,1,0,2,2,0,2,1,0,0,1,1,4,0,1,1,0,0,1,0,1,2,0,1,0,0,0,0,1,0,1,0,2,2,1,0,0,1,3,0,0,0,0,1,0,0,0,0,0,0,0,3,0,0,1,0,1,0,1,0,0,0,2,1,0,0,1,0,0,0,0,2,0,0,1,0,0,1,1,0,2,2,0,1,1,0,0,1,0,6,0,2,0,1,1,2,2,0,1,0,0,0,2,1,0,0,1,0,1,0,7,1,0,0,0,0,1,0,1,1,1,1,0,0,0,1,0,1,0,1,2,3,0,0,0,0,1,0,3,0,2,0,0,1,1,0,1,1,0,1,2,0,0,1,4,0,0,0,1,1,0,0,0,0,0,0,1,2,1,0,0,0,0,0,5,0,1,1,0,1,0,3,2,1,1,1,0,0,0,0,1,1,0,1,1,1,2,0,0,3,0,0,1,0,0,0,0,1,0,5,7,2,1,0,0,2,1,1,0,1,1,0,0,0,1,0,1,6,1,0,0,3,2,0,4,0,2,1,1,1,0,0,0,1,3,0,1,1,4,3,1,0,4,0,1,1,0,0,3,3,0,0,2,5,1,2,2,2,1,4,0,2,0,2,0,1,0,4,0,3,0,0,1,3,0,2,0,1,0,0,1,1,0,0,0,0,1,2,2,2,0,4,1,0,1,6,4,2,1,4,4,3,2,1,2,2,0,1,0,0,2,1,0,2,0,1,0,0,0,1,4,0,5,3,0,0,1,0,0,0,2,1,0,1,1,0,0,0,5,3,1,1,0,2,0,2,1,0,1,1,0,2,0,6,3,0,0,1,4,0,1,5,0,1,2,1,5,0,0,4,4,1,1,0,0,0,0,1,4,3,1,2,0,2,0,0,1,1,1,3,2,2,0,2,1,0,1,4,0,1,2,3,0,0,2,5,0,2,0,0,0,0,8,1,0,1,0,1,4,1,3,0,1,2,1,2,2,0,0,0,1,0,0,2,0,0,1,2,0,2,3,0,0,0,0,0,1,2,0,4,1,0,4,1,0,1,0,10,23,2,3,3,2,0,3,0,1,5,0,4,0,0,1,1,3,4,2,0,0,0,0,0,1,1,0,2,1,0,0,1,0,0,2,2,0,0,0,0,2,0,0,1,0,4,0,1,0,1,0,2,0,0,0,2,0,0,0,0,0,0,0,0,0,0,0,1,3,0,1,1,5,1,0,0,1,0,0,0,1,1,0,0,1,1,0,0,4,1,2,0,1,1,0,5,0,0,1,0,0,1,0,0,0,0,13,0,2,1,0,1,2,1,0,1,0,0,0,1,0,2,0,1,1,0,1,1,2,1,0,0,4,0,0,0,0,0,0,1,0,1,0,0,1,0,0,1,1,2,0,4,0,1,0,1,1,0,0,0,0,0,0,0,1,0,2,1,0,3,1,0,0,0,2,0,0,0,0,3,1,0,0,1,1,0,0,0,0,1,2,0,0,1,1,2,1,1,0,1,0,0,0,1,4,1,2,2,1,2,0,4,1,2,0,4,6,2,5,0,1,1,2,0,0,2,0,2,0,0,0,1,5,4,4,5,0,3,1,3,0,0,3,1,3,1,1,0,3,3,1,3,1,0,0,3,1,4,2,0,0,0,0,1,0,1,0,1,0,0,0,1,2,0,2,2,3,0,4,4,1,1,3,1,3,2,4,3,1,3,2,13,0,3,0,0,2,1,0,2,0,2,11,0,1,0,0,1,0,0,5,3,2,0,0,4,0,0,0,0,0,1,0,1,1,2,2,3,4,1,1,4,6,4,0,1,1,3,1,1,0,0,0,0,1,1,0,1,0,0,0,0,0,4,0,1,1,0,0,0,2,0,0,0,0,1,1,0,0,0,1,2,0,0,1,0,0,3,2,0,5,0,2,1,0,0,2,0,0,1,0,1,2,1,0,0,0,1,0,0,0,5,1,0,0,3,0,0,3,0,1,1,1,0,1,2,0,1,0,0,5,1,0,0,0,0,1,0,1,1,0,0,1,0,1,0,0,1,0,0,2,3,1,1,0,0,1,1,1,0,0,0,0,5,0,1,1,2,0,1,1,0,0,3,7,1,0,0,1,3,0,1,0,1,0,10,5,0,3,0,2,0,0,1,0,0,0,0,0,2,0,0,0,1,1,0,0,0,0,0,2,1,1,0,0,3,0,4,1,2,1,4,0,0,2,1,0,1,2,1,1,1,0,0,0,1,0,1,0,0,0,0,0,1,0,5,3,2,1,0,1,0,5,1,0,0,1,1,17,3,4,5,3,2,1,0,5,4,2,0,0,0,0,2,0,0,1,0,1,0,3,2,1,0,0,1,1,2,3,6,27,61,1,9,2,0,2,4,1,4,3,6,8,4,3,2,5,5,2,5,6,3,5,3,6,50,6,4,6,16,3,0,4,1,10,3,8,3,6,9,9,8,6,0,5,6,7,4,1,3,7,6,5,3,28,3,4,7,2,3,7,12,6,7,3,3,8,5,8,8,6,5,14,4,3,14,8,11,10,6,6,7,5,5,9,7,33,6,6,1,7,7,8,0,10,8,5,6,9,7,1,1,3,3,2,3,7,5,5,7,8,1,0,15,5,4,1,5,5,3,3,4,2,3,1,5,4,6,9,2,7,2,4,4,6,24,6,4,9,6,2,4,2,7,43,15,3,0,0,22,10,3,13,13,8,4,5,5,5,2,5,5,7,11,3,6,6,3,4,8,5,3,4,2,4,6,3,5,17,4,4,4,0,13,4,9,5,5,7,7,6,20],\"sizemode\":\"area\",\"sizeref\":0.1525,\"symbol\":\"circle\"},\"mode\":\"markers\",\"name\":\"\",\"showlegend\":false,\"x\":[4,4,4,4,3,7,4,3,3,25,4,5,6,4,4,4,4,3,7,5,4,4,4,4,4,6,3,3,4,7,4,9,4,4,3,3,5,5,6,3,8,4,7,5,4,2,4,2,3,2,3,8,5,3,3,4,2,5,5,4,5,5,4,4,0,3,4,4,5,4,3,4,4,7,2,5,4,4,3,3,4,4,4,0,2,3,4,2,2,12,3,11,5,8,7,3,3,4,5,3,2,0,0,4,0,6,10,2,4,7,7,6,3,5,4,3,6,3,4,4,1,6,4,18,5,5,0,0,4,3,9,3,3,8,0,5,3,5,4,4,7,3,3,17,3,4,4,4,3,4,4,3,4,3,6,5,5,4,3,2,4,3,4,5,4,5,5,4,6,4,12,3,5,4,4,2,6,2,3,3,4,0,4,4,1,3,4,3,4,2,5,4,4,4,4,0,0,0,3,3,4,9,3,9,5,4,9,4,4,3,4,6,2,3,10,3,4,4,5,5,10,4,3,4,0,3,3,4,2,4,12,2,15,3,4,3,5,5,2,4,4,2,4,3,4,2,5,4,3,4,2,4,10,4,3,3,4,26,2,10,3,5,4,2,4,3,5,3,4,3,7,4,2,3,1,3,3,1,4,4,4,4,3,4,4,3,3,4,4,6,3,0,4,4,3,10,3,13,2,4,0,4,3,3,3,4,4,2,4,5,7,14,4,5,3,3,5,4,3,4,4,9,5,4,2,4,4,2,4,4,5,4,4,3,4,3,1,0,3,4,0,1,3,4,1,4,4,4,3,5,4,6,1,3,4,6,4,2,5,3,3,2,2,4,3,4,5,3,3,4,2,4,6,3,6,2,3,3,2,1,4,4,7,4,4,4,3,6,3,4,4,3,4,4,4,4,14,4,6,5,3,3,5,5,5,4,3,2,2,3,2,7,4,0,5,7,4,3,4,2,4,4,3,2,4,5,4,2,3,4,3,4,4,6,4,2,1,5,5,6,4,4,2,2,4,2,4,4,3,2,6,4,3,2,4,4,4,4,2,3,2,9,12,3,5,4,9,4,4,3,4,5,4,3,4,4,2,3,7,6,4,4,7,5,4,0,0,2,7,5,3,7,6,5,4,3,3,5,4,1,5,6,4,4,4,3,14,4,3,4,6,4,3,4,5,1,4,5,3,3,4,4,4,3,3,5,6,5,3,3,3,5,3,6,4,0,6,5,4,4,1,14,4,2,5,3,4,5,4,4,3,5,2,7,5,2,3,4,4,4,6,5,0,4,4,2,5,5,4,4,3,4,7,3,4,4,5,5,0,4,2,7,4,4,4,4,3,3,2,4,5,4,4,3,3,4,2,3,3,5,4,4,4,5,4,2,4,7,4,5,3,3,4,4,5,3,3,4,4,3,4,4,3,5,8,3,2,4,4,4,5,4,6,4,2,4,4,5,5,6,3,5,4,4,4,4,4,4,3,1,9,3,5,3,5,5,5,10,2,4,4,4,2,4,4,3,3,5,1,7,6,2,4,4,2,4,5,8,3,4,3,0,4,6,4,3,4,2,3,4,6,6,3,4,3,4,5,4,3,4,4,5,5,2,4,6,4,4,3,1,5,6,3,4,4,3,11,4,4,4,5,4,2,8,4,4,5,3,4,4,1,4,3,4,4,4,4,7,4,3,3,1,4,4,3,5,1,4,10,3,3,3,3,4,4,5,4,2,4,4,4,4,4,5,4,8,3,10,3,4,3,4,6,4,4,5,2,4,4,12,5,5,3,2,2,3,3,5,4,13,9,4,7,5,3,2,3,4,4,3,5,3,6,4,0,8,5,4,4,6,8,2,3,4,6,3,4,5,4,4,4,4,20,2,3,6,5,4,0,4,2,0,4,5,4,8,4,8,4,5,4,14,12,5,4,4,4,5,4,5,4,4,5,4,3,3,4,3,4,4,2,9,3,4,7,7,0,4,1,4,4,3,5,4,4,4,4,5,3,3,3,4,4,3,4,1,5,4,5,0,4,3,7,4,3,3,4,5,5,4,2,3,5,4,5,2,5,9,5,4,7,4,5,4,4,3,3,3,3,5,3,4,4,4,5,5,0,2,0,3,7,5,0,6,6,4,4,7,5,2,3,4,1,4,4,7,4,3,6,2,7,8,7,4,2,3,2,2,5,4,7,4,4,5,1,1,4,4,13,4,1,3,5,4,4,3,4,2,4,1,3,4,3,4,4,5,3,4,4,4,5,2,4,2,4,3,5,3,5,4,4,4,2,4,3,3,3,8,1,4,3,6,6,4,4,4,4,4,4,3,4,5,2,3,1,3,3,1,3,3,1,3,4,3,4,4,4,5,1,5,3,4,4,5,6,5,5,4,4,3,2,5,3,3,5,7,4,4,3,2,4,4,8,7,4,3,4,4,3,3,5,3,2,3,0,4,4,0,0,2,6,4,4,0,4,3,3,3,5,4,2,3,6,6,3,4,3,0,2,11,4,14,6,5,4,6,4,2,4,6,1,8,3,4,2,4,4,4,4,2,5,1,3,4,4,6,4,7,4,8,4,3,4,2,1,4,1,3,4,3,6,2,3,2,4,4,7,4,5,3,3,4,4,3,3,4,3,3,8,5,3,4,4,5,3,1,5,3,4,3,4,5,5,6,3,1,4,2,7,4,3,4,3,8,2,6,4,3,4,5,4,3,5,4,4,5,7,4,4,2,5,6,4,4,3,3,4,4,6,4,3,5,4,4,3,4,5,4,4,14,4,4,3,5,3,4,6,3,7,3,4,4,5,5,1,3,5,0,4,4,5,3,5,4,4,4,4,6,3,6,6,3,4,4,4,3,6,4,4,3,2,4,7,4,4,5,2,4,5,2,5,4,3,1,4,4,4,5,4,4,3,4,4,4,6,4,3,7,3,3,6,4,4,4,4,2,4,5,2,3,5,9,5,3,4,3,5,0,5,5,4,3,4,5,4,4,21,6,10,5,5,6,4,3,3,4,4,4,4,3,5,4,5,4,4,4,3,4,3,5,5,4,0,1,4,2,4,3,4,4,3,3,3,7,3,4,3,6,4,2,3,4,4,4,15,4,5,1,3,4,8,8,13,4,4,4,5,3,5,5,8,6,3,6,7,4,3,2,3,5,3,5,6,3,5,6,5,4,4,4,4,3,5,3,4,8,12,4,3,5,5,4,3,4,4,5,3,3,4,4,3,4,4,3,4,4,5,4,4,4,3,4,3,7,2,4,4,4,4,3,1,5,4,4,4,3,4,4,5,5,4,5,4,6,5,4,3,5,11,4,4,4,5,9,2,3,4,4,4,4,4,7,4,2,4,4,3,5,4,4,6,5,5,5,4,7,5,5,8,3,6,0,4,4,7,3,3,5,3,5,6,4,4,6,7,3,5,6,4,4,4,4,0,3,5,4,4,4,5,6,5,4,5,3,5,4,7,3,4,3,5,4,2,5,4,4,5,6,4,4,1,4,5,6,6,3,3,5,4,3,4,3,3,5,5,3,1,4,13,5,4,4,4,5,6,5,4,4,3,2,3,4,4,5,4,4,0,4,4,4,7,3,4,1,2,4,3,3,6,4,4,4,3,3,4,4,3,4,2,4,4,1,5,4,3,4,4,4,4,4,7,2,0,2,3,5,4,2,3,5,4,3,17,4,7,6,5,5,4,0,4,6,7,1,3,4,0,4,2,4,3,4,4,7,6,4,2,4,3,3,0,1,5,4,0,4,4,3,4,4,6,1,5,6,2,0,7,5,15,2,4,1,5,2,5,2,4,3,4,1,7,1,4,5,3,0,5,7,4,3,5,4,3,3,6,4,13,7,6,2,2,2,4,1,4,4,3,3,0,3,4,8,1,1,2,3,3,2,10,4,7,5,2,4,6,2,4,6,4,5,4,3,6,4,1,3,4,4,4,4,4,4,3,3,4,3,4,4,5,4,4,9,3,4,4,10,4,2,3,4,3,3,4,2,4,0,1,4,6,3,3,4,5,0,5,3,2,3,0,4,5,5,0,3,3,4,4,4,4,3,0,1,3,2,5,8,6,4,3,5,5,1,2,2,4,2,4,4,3,2,4,3,3,1,4,4,2,0,4,2,4,7,4,4,25,3,4,3,10,3,0,3,4,7,3,3,3,2,2,4,4,4,3,7,4,3,5,6,5,3,4,2,1,6,4,4,4,4,3,2,4,0,3,4,0,3,4,7,7,27,23,3,1,1,2,4,1,5,5,2,4,17,4,4,12,3,1,2,2,4,4,7,6,4,3,3,4,2,3,4,7,4,4,4,2,4,4,4,4,4,2,4,6,3,4,0,5,3,4,3,4,3,4,4,4,2,5,6,4,5,7,4,4,5,7,5,7,3,1,5,3,10,0,4,4,4,3,4,5,10,6,1,4,5,7,6,6,4,0,3,2,4,3,3,4,0,4,5,3,4,5,3,4,4,5,4,4,5,3,5,5,3,3,3,5,9,4,10,5,4,4,2,5,8,5,7,5,5,2,4,4,4,1,4,4,4,6,5,4,8,6,4,4,4,4,4,5,3,3,4,7,0,4,7,4,3,3,4,4,4,4,7,4,4,3,4,2,3,4,2,4,4,4,4,3,6,6,6,4,2,3,5,4,4,4,7,4,5,7,5,4,4,4,3,3,3,3,3,4,4,4,4,6,4,0,4,2,2,4,2,4,0,5,2,5,0,6,2,0,4,3,3,2,5,4,5,4,4,5,4,5,3,0,1,1,0,4,2,4,2,4,4,1,5,1,4,5,4,4,2,3,1,3,5,5,2,3,1,2,7,4,5,5,3,4,3,4,3,5,5,4,6,2,4,2,2,2,4,0,0,3,3,1,3,1,2,1,1,4,3,4,16,5,5,4,5,2,3,5,3,7,2,6,5,3,5,6,3,6,4,0,1,2,4,4,1,6,4,4,6,4,3,4,3,4,6,2,2,3,4,3,1,0,2,8,7,3,11,3,4,6,4,4,6,4,3,5,3,4,5,7,5,5,1,4,4,3,4,4,4,4,4,4,8,4,5,4,6,6,4,3,3,4,4,4,4,4,7,4,4,0,6,2,6,4,5,5,4,4,4,4,4,4,4,4,5,4,3,5,4,4,0,4,6,4,2,4,4,3,6,5,3,3,4,5,2,6,6,6,5,2,3,4,4,6,4,6,4,3,3,5,4,4,4,3,4,4,3,5,4,3,1,22,3,4,4,4,3,4,4,5,4,4,1,6,5,5,2,7,4,4,4,4,1,0,3,5,5,6,2,4,3,4,7,4,14,1,4,2,4,2,7,4,4,4,4,4,5,4,4,5,4,4,4,4,6,5,4,4,4,2,3,3,5,4,1,4,2,5,2,5,3,6,4,2,3,4,3,2,4,3,4,5,5,4,3,4,5,7,4,4,4,5,3,6,0,1,2,4,4,3,4,0,3,5,5,7,3,17,5,3,0,3,4,5,4,0,0,3,5,4,4,4,16,4,4,3,5,4,4,2,2,5,4,6,3,3,6,0,12,22,411,8,1,4,28,6,5,6,0,2,0,1,0,1,16,0,6,3,0,0,1,2,2,11,58,3,14,2,22,9,5,0,3,8,1,0,9,2,1,18,1,1,4,1,1,13,14,4,4,0,5,0,3,2,1,4,2,9,4,4,70,1,3,3,2,1,7,1,2,15,9,33,9,3,4,3,6,3,2,21,1,1,5,6,1,17,4,5,6,0,2,0,6,5,4,3,2,0,8,10,3,5,3,13,2,0,2,1,0,7,5,6,24,5,25,4,10,0,5,7,3,2,1,3,22,1,19,6,3,0,4,10,0,1,27,14,3,12,32,9,6,6,4,0,6,7,6,4,19,0,12,1,1,3,0,18,11,12,9,0,11,2,0,11,0,0,2,1,8,0,1,2,12,9,0,27,2,31,10,0,0,4,3,0,19,2,3,0,0,0,0],\"xaxis\":\"x\",\"y\":[0,0,0,0,1,3,0,1,1,7,0,0,0,0,1,1,0,1,0,0,0,0,3,0,3,0,1,2,0,1,3,0,0,0,1,1,0,0,1,1,0,1,1,0,0,2,0,2,1,2,1,1,0,1,1,0,2,0,0,0,2,0,1,0,4,1,2,2,0,0,1,3,0,0,2,0,1,0,1,3,0,0,0,4,2,1,0,3,2,2,1,3,0,1,1,1,1,0,1,1,2,5,5,0,4,1,0,2,1,1,0,0,1,0,0,1,0,1,0,0,4,0,0,22,0,0,5,4,0,2,1,1,1,2,4,0,1,1,1,0,0,2,10,0,2,0,1,0,1,0,1,1,0,1,0,0,0,0,3,2,0,2,2,0,0,0,0,0,0,1,0,1,1,1,0,2,0,2,1,2,0,4,0,0,3,1,2,1,0,2,0,1,1,0,0,4,5,4,1,1,0,0,1,2,0,0,0,1,0,1,0,1,2,1,0,1,0,2,1,1,2,0,1,0,4,1,1,0,2,0,6,2,1,1,1,1,0,0,2,0,0,2,0,2,0,2,0,0,1,0,2,0,0,0,1,2,1,1,3,0,1,0,0,2,0,1,0,1,2,1,0,1,2,1,3,1,1,3,1,0,0,0,2,0,1,1,1,0,0,1,1,5,0,0,1,0,1,1,2,0,4,0,1,1,1,1,0,2,0,1,0,2,0,0,1,1,1,0,1,1,0,2,0,0,2,0,0,6,1,1,0,0,1,1,0,1,3,4,2,1,6,4,1,0,3,1,1,0,1,1,0,0,3,1,0,1,0,2,1,1,1,2,2,0,2,1,0,1,1,0,2,0,0,4,0,2,1,1,6,3,0,1,0,0,0,0,1,0,1,1,0,1,0,0,0,2,1,0,0,0,1,1,0,0,1,0,1,2,2,3,4,4,0,5,0,0,1,1,3,2,0,0,1,2,1,0,0,2,1,0,1,0,0,0,0,2,4,1,1,0,0,0,2,2,0,3,1,0,1,2,0,0,1,3,0,0,0,0,2,1,2,1,2,1,2,0,1,0,1,1,0,0,0,1,3,0,2,2,1,0,1,0,0,0,0,4,4,3,1,0,3,1,0,0,0,1,1,0,1,3,1,0,1,1,0,2,1,0,1,2,1,0,1,0,0,3,0,1,1,1,0,0,1,1,1,1,0,0,1,1,1,0,3,0,0,4,0,2,0,0,4,2,0,2,0,1,1,1,0,2,1,0,2,1,0,2,1,0,0,0,0,0,4,0,2,2,1,0,0,0,1,0,0,1,0,0,1,0,4,0,4,0,0,0,0,0,1,3,2,0,0,1,0,1,1,0,2,3,1,0,0,0,0,0,1,2,0,0,0,0,1,1,1,0,1,1,1,1,0,1,2,0,1,0,0,1,3,0,1,0,0,0,1,1,2,2,2,1,1,1,2,0,1,0,0,0,0,0,1,3,0,1,0,1,0,0,0,0,2,0,1,0,3,0,1,2,2,0,5,0,0,2,0,0,2,2,1,0,2,1,2,4,0,0,0,1,1,3,1,2,0,1,1,1,1,0,1,2,1,1,0,0,0,2,0,1,0,0,2,3,1,0,1,0,0,1,1,0,2,0,0,0,3,0,0,0,0,2,1,0,3,0,1,0,0,1,1,0,2,1,1,3,0,0,1,1,3,0,1,1,1,1,1,0,0,0,1,2,0,0,0,0,3,3,1,0,1,1,1,1,1,1,1,2,0,0,2,0,0,1,1,0,5,2,2,1,1,1,3,1,1,0,1,0,1,2,1,0,1,1,0,3,0,1,4,0,0,0,0,3,0,2,1,0,0,1,0,0,0,1,0,1,3,2,1,1,0,0,10,0,2,4,0,0,0,3,0,2,0,1,1,1,2,1,2,0,1,2,0,1,0,1,0,0,1,2,1,1,0,0,2,0,1,0,0,1,7,0,4,0,0,2,0,0,1,0,0,0,1,1,1,1,0,1,2,3,0,1,0,5,1,2,0,0,1,1,0,0,0,1,2,2,0,1,1,3,0,0,1,0,9,0,0,0,0,1,1,1,1,0,1,1,0,0,1,1,7,2,4,1,0,0,6,0,1,0,3,0,0,4,2,0,5,0,0,0,0,1,0,3,0,2,1,0,2,1,2,10,0,1,1,0,0,0,4,8,1,0,2,0,4,1,0,2,0,1,1,2,0,3,1,0,2,1,1,0,1,0,0,0,0,2,0,4,0,2,1,1,1,0,0,1,3,1,1,1,1,0,3,0,1,0,0,1,0,0,1,0,0,1,1,1,2,1,3,2,1,3,2,3,6,1,1,2,1,0,1,0,6,0,1,0,0,0,1,0,0,0,0,1,6,0,1,1,0,0,0,1,2,2,0,0,0,0,1,1,0,0,1,1,1,1,2,3,5,1,1,5,4,2,0,0,0,4,0,1,1,1,0,0,2,2,0,0,1,0,1,4,2,0,0,1,0,1,1,1,0,2,1,0,3,0,1,0,3,0,0,0,0,2,0,3,2,0,0,0,2,1,0,0,0,1,0,2,3,0,4,1,0,1,0,2,1,2,0,0,0,0,0,1,1,0,0,1,1,0,1,2,2,0,1,0,0,1,1,3,0,1,0,1,1,0,1,1,1,3,2,2,0,0,2,0,1,0,2,1,1,1,0,1,3,1,0,0,0,0,0,0,0,2,0,0,0,0,1,1,0,0,2,0,1,0,1,0,1,0,0,0,1,2,0,0,2,0,2,0,2,1,0,3,0,2,0,0,3,1,0,7,1,0,0,1,0,0,0,0,0,0,1,1,0,1,0,0,0,1,0,0,0,1,2,0,0,1,0,0,2,1,1,2,0,0,1,3,0,0,0,0,0,1,1,0,0,0,0,1,1,0,1,1,0,0,1,0,0,3,0,0,2,1,0,2,2,1,0,2,1,4,0,0,0,1,1,0,0,0,1,0,0,1,0,0,1,1,1,0,0,0,1,1,1,0,0,0,0,1,2,1,1,0,0,0,5,3,0,2,1,1,0,0,1,1,1,0,1,0,2,0,0,2,1,2,0,0,0,1,0,3,2,0,1,0,0,1,0,0,0,1,1,0,0,0,1,0,1,1,1,2,1,0,2,0,0,4,0,0,1,0,0,2,0,1,0,1,0,2,2,0,2,1,0,0,1,1,4,0,1,1,0,0,1,0,1,2,0,1,0,0,0,0,1,0,1,0,2,2,1,0,0,1,3,0,0,0,0,1,0,0,0,0,0,0,0,3,0,0,1,0,1,0,1,0,0,0,2,1,0,0,1,0,0,0,0,2,0,0,1,0,0,1,1,0,2,2,0,1,1,0,0,1,0,6,0,2,0,1,1,2,2,0,1,0,0,0,2,1,0,0,1,0,1,0,7,1,0,0,0,0,1,0,1,1,1,1,0,0,0,1,0,1,0,1,2,3,0,0,0,0,1,0,3,0,2,0,0,1,1,0,1,1,0,1,2,0,0,1,4,0,0,0,1,1,0,0,0,0,0,0,1,2,1,0,0,0,0,0,5,0,1,1,0,1,0,3,2,1,1,1,0,0,0,0,1,1,0,1,1,1,2,0,0,3,0,0,1,0,0,0,0,1,0,5,7,2,1,0,0,2,1,1,0,1,1,0,0,0,1,0,1,6,1,0,0,3,2,0,4,0,2,1,1,1,0,0,0,1,3,0,1,1,4,3,1,0,4,0,1,1,0,0,3,3,0,0,2,5,1,2,2,2,1,4,0,2,0,2,0,1,0,4,0,3,0,0,1,3,0,2,0,1,0,0,1,1,0,0,0,0,1,2,2,2,0,4,1,0,1,6,4,2,1,4,4,3,2,1,2,2,0,1,0,0,2,1,0,2,0,1,0,0,0,1,4,0,5,3,0,0,1,0,0,0,2,1,0,1,1,0,0,0,5,3,1,1,0,2,0,2,1,0,1,1,0,2,0,6,3,0,0,1,4,0,1,5,0,1,2,1,5,0,0,4,4,1,1,0,0,0,0,1,4,3,1,2,0,2,0,0,1,1,1,3,2,2,0,2,1,0,1,4,0,1,2,3,0,0,2,5,0,2,0,0,0,0,8,1,0,1,0,1,4,1,3,0,1,2,1,2,2,0,0,0,1,0,0,2,0,0,1,2,0,2,3,0,0,0,0,0,1,2,0,4,1,0,4,1,0,1,0,10,23,2,3,3,2,0,3,0,1,5,0,4,0,0,1,1,3,4,2,0,0,0,0,0,1,1,0,2,1,0,0,1,0,0,2,2,0,0,0,0,2,0,0,1,0,4,0,1,0,1,0,2,0,0,0,2,0,0,0,0,0,0,0,0,0,0,0,1,3,0,1,1,5,1,0,0,1,0,0,0,1,1,0,0,1,1,0,0,4,1,2,0,1,1,0,5,0,0,1,0,0,1,0,0,0,0,13,0,2,1,0,1,2,1,0,1,0,0,0,1,0,2,0,1,1,0,1,1,2,1,0,0,4,0,0,0,0,0,0,1,0,1,0,0,1,0,0,1,1,2,0,4,0,1,0,1,1,0,0,0,0,0,0,0,1,0,2,1,0,3,1,0,0,0,2,0,0,0,0,3,1,0,0,1,1,0,0,0,0,1,2,0,0,1,1,2,1,1,0,1,0,0,0,1,4,1,2,2,1,2,0,4,1,2,0,4,6,2,5,0,1,1,2,0,0,2,0,2,0,0,0,1,5,4,4,5,0,3,1,3,0,0,3,1,3,1,1,0,3,3,1,3,1,0,0,3,1,4,2,0,0,0,0,1,0,1,0,1,0,0,0,1,2,0,2,2,3,0,4,4,1,1,3,1,3,2,4,3,1,3,2,13,0,3,0,0,2,1,0,2,0,2,11,0,1,0,0,1,0,0,5,3,2,0,0,4,0,0,0,0,0,1,0,1,1,2,2,3,4,1,1,4,6,4,0,1,1,3,1,1,0,0,0,0,1,1,0,1,0,0,0,0,0,4,0,1,1,0,0,0,2,0,0,0,0,1,1,0,0,0,1,2,0,0,1,0,0,3,2,0,5,0,2,1,0,0,2,0,0,1,0,1,2,1,0,0,0,1,0,0,0,5,1,0,0,3,0,0,3,0,1,1,1,0,1,2,0,1,0,0,5,1,0,0,0,0,1,0,1,1,0,0,1,0,1,0,0,1,0,0,2,3,1,1,0,0,1,1,1,0,0,0,0,5,0,1,1,2,0,1,1,0,0,3,7,1,0,0,1,3,0,1,0,1,0,10,5,0,3,0,2,0,0,1,0,0,0,0,0,2,0,0,0,1,1,0,0,0,0,0,2,1,1,0,0,3,0,4,1,2,1,4,0,0,2,1,0,1,2,1,1,1,0,0,0,1,0,1,0,0,0,0,0,1,0,5,3,2,1,0,1,0,5,1,0,0,1,1,17,3,4,5,3,2,1,0,5,4,2,0,0,0,0,2,0,0,1,0,1,0,3,2,1,0,0,1,1,2,3,6,27,61,1,9,2,0,2,4,1,4,3,6,8,4,3,2,5,5,2,5,6,3,5,3,6,50,6,4,6,16,3,0,4,1,10,3,8,3,6,9,9,8,6,0,5,6,7,4,1,3,7,6,5,3,28,3,4,7,2,3,7,12,6,7,3,3,8,5,8,8,6,5,14,4,3,14,8,11,10,6,6,7,5,5,9,7,33,6,6,1,7,7,8,0,10,8,5,6,9,7,1,1,3,3,2,3,7,5,5,7,8,1,0,15,5,4,1,5,5,3,3,4,2,3,1,5,4,6,9,2,7,2,4,4,6,24,6,4,9,6,2,4,2,7,43,15,3,0,0,22,10,3,13,13,8,4,5,5,5,2,5,5,7,11,3,6,6,3,4,8,5,3,4,2,4,6,3,5,17,4,4,4,0,13,4,9,5,5,7,7,6,20],\"yaxis\":\"y\",\"type\":\"scattergl\"}],                        {\"template\":{\"data\":{\"barpolar\":[{\"marker\":{\"line\":{\"color\":\"rgb(17,17,17)\",\"width\":0.5},\"pattern\":{\"fillmode\":\"overlay\",\"size\":10,\"solidity\":0.2}},\"type\":\"barpolar\"}],\"bar\":[{\"error_x\":{\"color\":\"#f2f5fa\"},\"error_y\":{\"color\":\"#f2f5fa\"},\"marker\":{\"line\":{\"color\":\"rgb(17,17,17)\",\"width\":0.5},\"pattern\":{\"fillmode\":\"overlay\",\"size\":10,\"solidity\":0.2}},\"type\":\"bar\"}],\"carpet\":[{\"aaxis\":{\"endlinecolor\":\"#A2B1C6\",\"gridcolor\":\"#506784\",\"linecolor\":\"#506784\",\"minorgridcolor\":\"#506784\",\"startlinecolor\":\"#A2B1C6\"},\"baxis\":{\"endlinecolor\":\"#A2B1C6\",\"gridcolor\":\"#506784\",\"linecolor\":\"#506784\",\"minorgridcolor\":\"#506784\",\"startlinecolor\":\"#A2B1C6\"},\"type\":\"carpet\"}],\"choropleth\":[{\"colorbar\":{\"outlinewidth\":0,\"ticks\":\"\"},\"type\":\"choropleth\"}],\"contourcarpet\":[{\"colorbar\":{\"outlinewidth\":0,\"ticks\":\"\"},\"type\":\"contourcarpet\"}],\"contour\":[{\"colorbar\":{\"outlinewidth\":0,\"ticks\":\"\"},\"colorscale\":[[0.0,\"#0d0887\"],[0.1111111111111111,\"#46039f\"],[0.2222222222222222,\"#7201a8\"],[0.3333333333333333,\"#9c179e\"],[0.4444444444444444,\"#bd3786\"],[0.5555555555555556,\"#d8576b\"],[0.6666666666666666,\"#ed7953\"],[0.7777777777777778,\"#fb9f3a\"],[0.8888888888888888,\"#fdca26\"],[1.0,\"#f0f921\"]],\"type\":\"contour\"}],\"heatmapgl\":[{\"colorbar\":{\"outlinewidth\":0,\"ticks\":\"\"},\"colorscale\":[[0.0,\"#0d0887\"],[0.1111111111111111,\"#46039f\"],[0.2222222222222222,\"#7201a8\"],[0.3333333333333333,\"#9c179e\"],[0.4444444444444444,\"#bd3786\"],[0.5555555555555556,\"#d8576b\"],[0.6666666666666666,\"#ed7953\"],[0.7777777777777778,\"#fb9f3a\"],[0.8888888888888888,\"#fdca26\"],[1.0,\"#f0f921\"]],\"type\":\"heatmapgl\"}],\"heatmap\":[{\"colorbar\":{\"outlinewidth\":0,\"ticks\":\"\"},\"colorscale\":[[0.0,\"#0d0887\"],[0.1111111111111111,\"#46039f\"],[0.2222222222222222,\"#7201a8\"],[0.3333333333333333,\"#9c179e\"],[0.4444444444444444,\"#bd3786\"],[0.5555555555555556,\"#d8576b\"],[0.6666666666666666,\"#ed7953\"],[0.7777777777777778,\"#fb9f3a\"],[0.8888888888888888,\"#fdca26\"],[1.0,\"#f0f921\"]],\"type\":\"heatmap\"}],\"histogram2dcontour\":[{\"colorbar\":{\"outlinewidth\":0,\"ticks\":\"\"},\"colorscale\":[[0.0,\"#0d0887\"],[0.1111111111111111,\"#46039f\"],[0.2222222222222222,\"#7201a8\"],[0.3333333333333333,\"#9c179e\"],[0.4444444444444444,\"#bd3786\"],[0.5555555555555556,\"#d8576b\"],[0.6666666666666666,\"#ed7953\"],[0.7777777777777778,\"#fb9f3a\"],[0.8888888888888888,\"#fdca26\"],[1.0,\"#f0f921\"]],\"type\":\"histogram2dcontour\"}],\"histogram2d\":[{\"colorbar\":{\"outlinewidth\":0,\"ticks\":\"\"},\"colorscale\":[[0.0,\"#0d0887\"],[0.1111111111111111,\"#46039f\"],[0.2222222222222222,\"#7201a8\"],[0.3333333333333333,\"#9c179e\"],[0.4444444444444444,\"#bd3786\"],[0.5555555555555556,\"#d8576b\"],[0.6666666666666666,\"#ed7953\"],[0.7777777777777778,\"#fb9f3a\"],[0.8888888888888888,\"#fdca26\"],[1.0,\"#f0f921\"]],\"type\":\"histogram2d\"}],\"histogram\":[{\"marker\":{\"pattern\":{\"fillmode\":\"overlay\",\"size\":10,\"solidity\":0.2}},\"type\":\"histogram\"}],\"mesh3d\":[{\"colorbar\":{\"outlinewidth\":0,\"ticks\":\"\"},\"type\":\"mesh3d\"}],\"parcoords\":[{\"line\":{\"colorbar\":{\"outlinewidth\":0,\"ticks\":\"\"}},\"type\":\"parcoords\"}],\"pie\":[{\"automargin\":true,\"type\":\"pie\"}],\"scatter3d\":[{\"line\":{\"colorbar\":{\"outlinewidth\":0,\"ticks\":\"\"}},\"marker\":{\"colorbar\":{\"outlinewidth\":0,\"ticks\":\"\"}},\"type\":\"scatter3d\"}],\"scattercarpet\":[{\"marker\":{\"colorbar\":{\"outlinewidth\":0,\"ticks\":\"\"}},\"type\":\"scattercarpet\"}],\"scattergeo\":[{\"marker\":{\"colorbar\":{\"outlinewidth\":0,\"ticks\":\"\"}},\"type\":\"scattergeo\"}],\"scattergl\":[{\"marker\":{\"line\":{\"color\":\"#283442\"}},\"type\":\"scattergl\"}],\"scattermapbox\":[{\"marker\":{\"colorbar\":{\"outlinewidth\":0,\"ticks\":\"\"}},\"type\":\"scattermapbox\"}],\"scatterpolargl\":[{\"marker\":{\"colorbar\":{\"outlinewidth\":0,\"ticks\":\"\"}},\"type\":\"scatterpolargl\"}],\"scatterpolar\":[{\"marker\":{\"colorbar\":{\"outlinewidth\":0,\"ticks\":\"\"}},\"type\":\"scatterpolar\"}],\"scatter\":[{\"marker\":{\"line\":{\"color\":\"#283442\"}},\"type\":\"scatter\"}],\"scatterternary\":[{\"marker\":{\"colorbar\":{\"outlinewidth\":0,\"ticks\":\"\"}},\"type\":\"scatterternary\"}],\"surface\":[{\"colorbar\":{\"outlinewidth\":0,\"ticks\":\"\"},\"colorscale\":[[0.0,\"#0d0887\"],[0.1111111111111111,\"#46039f\"],[0.2222222222222222,\"#7201a8\"],[0.3333333333333333,\"#9c179e\"],[0.4444444444444444,\"#bd3786\"],[0.5555555555555556,\"#d8576b\"],[0.6666666666666666,\"#ed7953\"],[0.7777777777777778,\"#fb9f3a\"],[0.8888888888888888,\"#fdca26\"],[1.0,\"#f0f921\"]],\"type\":\"surface\"}],\"table\":[{\"cells\":{\"fill\":{\"color\":\"#506784\"},\"line\":{\"color\":\"rgb(17,17,17)\"}},\"header\":{\"fill\":{\"color\":\"#2a3f5f\"},\"line\":{\"color\":\"rgb(17,17,17)\"}},\"type\":\"table\"}]},\"layout\":{\"annotationdefaults\":{\"arrowcolor\":\"#f2f5fa\",\"arrowhead\":0,\"arrowwidth\":1},\"autotypenumbers\":\"strict\",\"coloraxis\":{\"colorbar\":{\"outlinewidth\":0,\"ticks\":\"\"}},\"colorscale\":{\"diverging\":[[0,\"#8e0152\"],[0.1,\"#c51b7d\"],[0.2,\"#de77ae\"],[0.3,\"#f1b6da\"],[0.4,\"#fde0ef\"],[0.5,\"#f7f7f7\"],[0.6,\"#e6f5d0\"],[0.7,\"#b8e186\"],[0.8,\"#7fbc41\"],[0.9,\"#4d9221\"],[1,\"#276419\"]],\"sequential\":[[0.0,\"#0d0887\"],[0.1111111111111111,\"#46039f\"],[0.2222222222222222,\"#7201a8\"],[0.3333333333333333,\"#9c179e\"],[0.4444444444444444,\"#bd3786\"],[0.5555555555555556,\"#d8576b\"],[0.6666666666666666,\"#ed7953\"],[0.7777777777777778,\"#fb9f3a\"],[0.8888888888888888,\"#fdca26\"],[1.0,\"#f0f921\"]],\"sequentialminus\":[[0.0,\"#0d0887\"],[0.1111111111111111,\"#46039f\"],[0.2222222222222222,\"#7201a8\"],[0.3333333333333333,\"#9c179e\"],[0.4444444444444444,\"#bd3786\"],[0.5555555555555556,\"#d8576b\"],[0.6666666666666666,\"#ed7953\"],[0.7777777777777778,\"#fb9f3a\"],[0.8888888888888888,\"#fdca26\"],[1.0,\"#f0f921\"]]},\"colorway\":[\"#636efa\",\"#EF553B\",\"#00cc96\",\"#ab63fa\",\"#FFA15A\",\"#19d3f3\",\"#FF6692\",\"#B6E880\",\"#FF97FF\",\"#FECB52\"],\"font\":{\"color\":\"#f2f5fa\"},\"geo\":{\"bgcolor\":\"rgb(17,17,17)\",\"lakecolor\":\"rgb(17,17,17)\",\"landcolor\":\"rgb(17,17,17)\",\"showlakes\":true,\"showland\":true,\"subunitcolor\":\"#506784\"},\"hoverlabel\":{\"align\":\"left\"},\"hovermode\":\"closest\",\"mapbox\":{\"style\":\"dark\"},\"paper_bgcolor\":\"rgb(17,17,17)\",\"plot_bgcolor\":\"rgb(17,17,17)\",\"polar\":{\"angularaxis\":{\"gridcolor\":\"#506784\",\"linecolor\":\"#506784\",\"ticks\":\"\"},\"bgcolor\":\"rgb(17,17,17)\",\"radialaxis\":{\"gridcolor\":\"#506784\",\"linecolor\":\"#506784\",\"ticks\":\"\"}},\"scene\":{\"xaxis\":{\"backgroundcolor\":\"rgb(17,17,17)\",\"gridcolor\":\"#506784\",\"gridwidth\":2,\"linecolor\":\"#506784\",\"showbackground\":true,\"ticks\":\"\",\"zerolinecolor\":\"#C8D4E3\"},\"yaxis\":{\"backgroundcolor\":\"rgb(17,17,17)\",\"gridcolor\":\"#506784\",\"gridwidth\":2,\"linecolor\":\"#506784\",\"showbackground\":true,\"ticks\":\"\",\"zerolinecolor\":\"#C8D4E3\"},\"zaxis\":{\"backgroundcolor\":\"rgb(17,17,17)\",\"gridcolor\":\"#506784\",\"gridwidth\":2,\"linecolor\":\"#506784\",\"showbackground\":true,\"ticks\":\"\",\"zerolinecolor\":\"#C8D4E3\"}},\"shapedefaults\":{\"line\":{\"color\":\"#f2f5fa\"}},\"sliderdefaults\":{\"bgcolor\":\"#C8D4E3\",\"bordercolor\":\"rgb(17,17,17)\",\"borderwidth\":1,\"tickwidth\":0},\"ternary\":{\"aaxis\":{\"gridcolor\":\"#506784\",\"linecolor\":\"#506784\",\"ticks\":\"\"},\"baxis\":{\"gridcolor\":\"#506784\",\"linecolor\":\"#506784\",\"ticks\":\"\"},\"bgcolor\":\"rgb(17,17,17)\",\"caxis\":{\"gridcolor\":\"#506784\",\"linecolor\":\"#506784\",\"ticks\":\"\"}},\"title\":{\"x\":0.05},\"updatemenudefaults\":{\"bgcolor\":\"#506784\",\"borderwidth\":0},\"xaxis\":{\"automargin\":true,\"gridcolor\":\"#283442\",\"linecolor\":\"#506784\",\"ticks\":\"\",\"title\":{\"standoff\":15},\"zerolinecolor\":\"#283442\",\"zerolinewidth\":2},\"yaxis\":{\"automargin\":true,\"gridcolor\":\"#283442\",\"linecolor\":\"#506784\",\"ticks\":\"\",\"title\":{\"standoff\":15},\"zerolinecolor\":\"#283442\",\"zerolinewidth\":2}}},\"xaxis\":{\"anchor\":\"y\",\"domain\":[0.0,1.0],\"title\":{\"text\":\"Injured\"}},\"yaxis\":{\"anchor\":\"x\",\"domain\":[0.0,1.0],\"title\":{\"text\":\"Dead\"}},\"coloraxis\":{\"colorbar\":{\"title\":{\"text\":\"Dead\"}},\"colorscale\":[[0.0,\"#0d0887\"],[0.1111111111111111,\"#46039f\"],[0.2222222222222222,\"#7201a8\"],[0.3333333333333333,\"#9c179e\"],[0.4444444444444444,\"#bd3786\"],[0.5555555555555556,\"#d8576b\"],[0.6666666666666666,\"#ed7953\"],[0.7777777777777778,\"#fb9f3a\"],[0.8888888888888888,\"#fdca26\"],[1.0,\"#f0f921\"]]},\"legend\":{\"tracegroupgap\":0,\"itemsizing\":\"constant\"},\"title\":{\"text\":\"Scatter Plot of cross Injured & Dead\"}},                        {\"responsive\": true}                    ).then(function(){\n",
       "                            \n",
       "var gd = document.getElementById('946e8636-5b32-4875-9e24-4fdea869ccce');\n",
       "var x = new MutationObserver(function (mutations, observer) {{\n",
       "        var display = window.getComputedStyle(gd).display;\n",
       "        if (!display || display === 'none') {{\n",
       "            console.log([gd, 'removed!']);\n",
       "            Plotly.purge(gd);\n",
       "            observer.disconnect();\n",
       "        }}\n",
       "}});\n",
       "\n",
       "// Listen for the removal of the full notebook cells\n",
       "var notebookContainer = gd.closest('#notebook-container');\n",
       "if (notebookContainer) {{\n",
       "    x.observe(notebookContainer, {childList: true});\n",
       "}}\n",
       "\n",
       "// Listen for the clearing of the current output cell\n",
       "var outputEl = gd.closest('.output');\n",
       "if (outputEl) {{\n",
       "    x.observe(outputEl, {childList: true});\n",
       "}}\n",
       "\n",
       "                        })                };                });            </script>        </div>"
      ]
     },
     "metadata": {},
     "output_type": "display_data"
    }
   ],
   "source": [
    "fig = px.scatter(df, x=\"Injured\", y=\"Dead\", color=\"Dead\",\n",
    "                 size='Dead', hover_data=['City', 'State', 'year'], template = 'plotly_dark', \n",
    "                 title='Scatter Plot of cross Injured & Dead')\n",
    "fig.show()"
   ]
  },
  {
   "cell_type": "markdown",
   "id": "4be7977e",
   "metadata": {
    "papermill": {
     "duration": 0.017119,
     "end_time": "2022-07-09T16:41:32.726970",
     "exception": false,
     "start_time": "2022-07-09T16:41:32.709851",
     "status": "completed"
    },
    "tags": []
   },
   "source": [
    "## WORDCLOUD"
   ]
  },
  {
   "cell_type": "code",
   "execution_count": 27,
   "id": "4422796a",
   "metadata": {
    "execution": {
     "iopub.execute_input": "2022-07-09T16:41:32.763972Z",
     "iopub.status.busy": "2022-07-09T16:41:32.762854Z",
     "iopub.status.idle": "2022-07-09T16:41:34.642046Z",
     "shell.execute_reply": "2022-07-09T16:41:34.640700Z"
    },
    "papermill": {
     "duration": 1.900349,
     "end_time": "2022-07-09T16:41:34.644655",
     "exception": false,
     "start_time": "2022-07-09T16:41:32.744306",
     "status": "completed"
    },
    "tags": []
   },
   "outputs": [
    {
     "data": {
      "image/png": "[encoded data removed]",
      "text/plain": [
       "<Figure size 432x288 with 1 Axes>"
      ]
     },
     "metadata": {
      "needs_background": "light"
     },
     "output_type": "display_data"
    }
   ],
   "source": [
    "from wordcloud import WordCloud \n",
    "\n",
    "City_dfa_ = city_df.head(25).sort_values('Total', ascending = True)\n",
    "\n",
    "data = City_dfa_['City'].value_counts().to_dict()\n",
    "wc = WordCloud(width =1920, \n",
    "        height =1080, background_color= 'black').generate_from_frequencies(data)\n",
    "\n",
    "plt.imshow(wc)\n",
    "plt.axis('off')\n",
    "plt.show()"
   ]
  },
  {
   "cell_type": "markdown",
   "id": "18f8ff23",
   "metadata": {
    "papermill": {
     "duration": 0.019218,
     "end_time": "2022-07-09T16:41:34.682699",
     "exception": false,
     "start_time": "2022-07-09T16:41:34.663481",
     "status": "completed"
    },
    "tags": []
   },
   "source": [
    "![](https://images.unsplash.com/photo-1533601017-dc61895e03c0?ixlib=rb-1.2.1&ixid=MnwxMjA3fDB8MHxwaG90by1wYWdlfHx8fGVufDB8fHx8&auto=format&fit=crop&w=1170&q=80)"
   ]
  },
  {
   "cell_type": "code",
   "execution_count": null,
   "id": "5f8a6015",
   "metadata": {
    "papermill": {
     "duration": 0.019983,
     "end_time": "2022-07-09T16:41:34.721448",
     "exception": false,
     "start_time": "2022-07-09T16:41:34.701465",
     "status": "completed"
    },
    "tags": []
   },
   "outputs": [],
   "source": []
  }
 ],
 "metadata": {
  "kernelspec": {
   "display_name": "Python 3",
   "language": "python",
   "name": "python3"
  },
  "language_info": {
   "codemirror_mode": {
    "name": "ipython",
    "version": 3
   },
   "file_extension": ".py",
   "mimetype": "text/x-python",
   "name": "python",
   "nbconvert_exporter": "python",
   "pygments_lexer": "ipython3",
   "version": "3.7.12"
  },
  "papermill": {
   "default_parameters": {},
   "duration": 20.331218,
   "end_time": "2022-07-09T16:41:35.564849",
   "environment_variables": {},
   "exception": null,
   "input_path": "__notebook__.ipynb",
   "output_path": "__notebook__.ipynb",
   "parameters": {},
   "start_time": "2022-07-09T16:41:15.233631",
   "version": "2.3.4"
  }
 },
 "nbformat": 4,
 "nbformat_minor": 5
}
